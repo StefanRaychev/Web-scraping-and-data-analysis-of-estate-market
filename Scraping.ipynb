{
 "cells": [
  {
   "cell_type": "code",
   "execution_count": null,
   "id": "8a0d565b-2604-4169-818f-d6d80dd508e4",
   "metadata": {},
   "outputs": [],
   "source": [
    "import warnings\n",
    "\n",
    "import pandas as pd\n",
    "from pandas import DataFrame\n",
    "import numpy as np\n",
    "\n",
    "import requests\n",
    "from bs4 import BeautifulSoup\n",
    "\n",
    "warnings.filterwarnings('ignore')"
   ]
  },
  {
   "cell_type": "markdown",
   "id": "5a17afb4-590b-4a36-9cb5-01a43f8a29ad",
   "metadata": {},
   "source": [
    "<h1 style=\"color:black; background-color:white; padding:10px; padding-bottom:10px;text-align: center;\">The role of web scraping in data analysis of estate market</h1>"
   ]
  },
  {
   "cell_type": "markdown",
   "id": "8255260b-34ec-4158-a2ff-f8945274508f",
   "metadata": {},
   "source": [
    "<h2 style=\"color:black; background-color:white; padding:5px; padding-bottom:10px; margin-bottom:-10px\">I. Introduction</h2>\n",
    "<p style=\"color:black; background-color:white; padding:5px; padding-bottom:20px;margin-bottom:-10px\">\n",
    "Economics as a science of scarcity, places the necessity of studying the economic system in the direction of increasing its efficiency. More and more models close to \"reality\" are being created that make it possible to understand and predict economic dynamics in order to create effective and responsive economic and social public policies. An important factor in this direction is that all steps from the correct measurement of economic phenomena, to the correct collection of the data, cleaning and preparation of the data are optimal. Only then the models that step on this data will be correct and give the right answers.\n",
    "<p style=\"color:black; background-color:white; padding:5px;padding-bottom:20px;margin-bottom:-10px\">The present study presents the different methods and techniques for analyzing one of the basic steps before running the models - the detection of outliers and anomalies. The theory of \"end values\", their types, the factors behind their occurrence and the meaning behind each \"end value\" will be briefly presented.</p>\n",
    "<p style=\"color:black; background-color:white; padding:5px;padding-bottom:20px;margin-bottom:-10px\">The purpose of the study is not to show which of these \"end values\" are bad, wrong or unnecessary, but rather to show different approaches to distinguishing them, which will provide the necessary information for the next step in dealing with them.</p>\n",
    "<p style=\"color:black; background-color:white; padding:5px;\">As an example of analysis, the database of the World Bank will be used, and specifically indicators for the level of employment and unemployment.</p>"
   ]
  },
  {
   "cell_type": "markdown",
   "id": "1e67c905-3c24-4cfd-bda1-2783d60057fb",
   "metadata": {},
   "source": [
    "<h2 style=\"color:black; background-color:white; padding:5px; padding-bottom:10px; margin-bottom:-10px\">II. Methodology</h2>\n",
    "<p style=\"color:black; background-color:white; padding:5px;padding-bottom:20px;margin-bottom:-10px\">The methodology of the present study is based on the study of economic data related to the labor market. The aim of the research is to reveal the different techniques for distinguishing anomalies and outliers in economic data. The data parameters are as follows:</p>\n",
    "<li style=\"color:black; background-color:white; padding:5px\">Database used: World Bank ( https://data.worldbank.org/ ) </li>\n",
    "<li style=\"color:black; background-color:white; padding:5px\">Indicators used: employment rate (https://data.worldbank.org/indicator/SL.EMP.TOTL.SP.NE.ZS) and unemployment rate (https://data.worldbank.org/indicator/SL. UEM.TOTL.NE.ZS).</li>\n",
    "<li style=\"color:black; background-color:white; padding:5px\">Year of analysis: 2015</li>\n",
    "<li style=\"color:black; background-color:white; padding:5px\">Scope of analysis: countries worldwide (WLD)</li>\n",
    "\n",
    "<p style=\"color:black; background-color:white; padding:5px;padding-bottom:20px;margin-bottom:-10px\">The methodology includes the following two main steps:</p>\n",
    "<li style=\"color:black; background-color:white; padding:5px\">Preprocessing: preparing the data for analysis including loading the data, familiarizing the data and removing missing data. </li>\n",
    "<li style=\"color:black; background-color:white; padding:5px\">Anomaly/outlier analysis: using different tools to reveal outliers based on graphical method, statistical toolkit, distance and depth techniques, deep learning methods, clustering. linear etc.</li>"
   ]
  },
  {
   "cell_type": "markdown",
   "id": "0e6b9ea9-0d6d-4f7d-81b5-226f0f39fc96",
   "metadata": {},
   "source": [
    "<h2 style=\"color:black; background-color:white; padding:5px; padding-bottom:10px\">III. Empirical analysis</h2>"
   ]
  },
  {
   "cell_type": "code",
   "execution_count": null,
   "id": "3159948c-e777-4593-96dd-0ad4dff7e5e5",
   "metadata": {},
   "outputs": [],
   "source": []
  }
 ],
 "metadata": {
  "kernelspec": {
   "display_name": "Python 3 (ipykernel)",
   "language": "python",
   "name": "python3"
  },
  "language_info": {
   "codemirror_mode": {
    "name": "ipython",
    "version": 3
   },
   "file_extension": ".py",
   "mimetype": "text/x-python",
   "name": "python",
   "nbconvert_exporter": "python",
   "pygments_lexer": "ipython3",
   "version": "3.8.12"
  }
 },
 "nbformat": 4,
 "nbformat_minor": 5
}
