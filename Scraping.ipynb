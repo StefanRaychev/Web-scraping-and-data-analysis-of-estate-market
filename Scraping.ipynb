{
 "cells": [
  {
   "cell_type": "code",
   "execution_count": 1,
   "id": "8a0d565b-2604-4169-818f-d6d80dd508e4",
   "metadata": {},
   "outputs": [],
   "source": [
    "import warnings\n",
    "\n",
    "import pandas as pd\n",
    "from pandas import DataFrame\n",
    "import numpy as np\n",
    "\n",
    "import requests\n",
    "from bs4 import BeautifulSoup\n",
    "\n",
    "warnings.filterwarnings('ignore')"
   ]
  },
  {
   "cell_type": "markdown",
   "id": "5a17afb4-590b-4a36-9cb5-01a43f8a29ad",
   "metadata": {},
   "source": [
    "<h1 style=\"color:black; background-color:white; padding:10px; padding-bottom:10px;text-align: center;\">The role of web scraping in data analysis of estate market</h1>"
   ]
  },
  {
   "cell_type": "markdown",
   "id": "8255260b-34ec-4158-a2ff-f8945274508f",
   "metadata": {},
   "source": [
    "<h2 style=\"color:black; background-color:white; padding:5px; padding-bottom:10px; margin-bottom:-10px\">I. Introduction</h2>\n",
    "<p style=\"color:black; background-color:white; padding:5px; padding-bottom:20px;margin-bottom:-10px\">\n",
    "In the era of Big Data, businesses and researchers are constantly seeking valuable insights and meaningful information hidden within vast amounts of online data. One of the most powerful tools at their disposal is web scraping, a technique that plays a crucial role in extracting and analyzing data from websites. Web scraping enables the automated retrieval of structured data from web pages, transforming unstructured information into valuable datasets for further analysis.\n",
    "<p style=\"color:black; background-color:white; padding:5px;padding-bottom:20px;margin-bottom:-10px\">\n",
    "Web scraping has become increasingly important in data analysis due to several key reasons. First and foremost, the internet is a treasure trove of valuable information. Websites contain a wealth of data ranging from product prices and customer reviews to news articles and social media posts. By leveraging web scraping techniques, analysts can collect, aggregate, and analyze this data at scale, providing valuable insights and a competitive edge.</p>\n",
    "<p style=\"color:black; background-color:white; padding:5px;padding-bottom:20px;margin-bottom:-10px\">Furthermore, web scraping allows analysts to access data from multiple sources, regardless of whether those sources provide APIs or data feeds. While some websites offer dedicated APIs, many do not, making web scraping the go-to solution for acquiring data that would otherwise be inaccessible. This accessibility to a wide range of data sources empowers analysts to conduct comprehensive and cross-domain research, uncovering trends, patterns, and correlations that were previously out of reach.</p>\n",
    "<p style=\"color:black; background-color:white; padding:5px;padding-bottom:20px;margin-bottom:-10px\">Another crucial aspect of web scraping in data analysis is the ability to monitor and track changes in online data over time. Businesses can utilize web scraping to keep an eye on competitors, monitor market dynamics, and gather valuable intelligence. By tracking changes in pricing, product availability, or customer sentiment, organizations can make data-driven decisions, adapt their strategies, and stay ahead in a rapidly evolving marketplace.</p>\n",
    "<p style=\"color:black; background-color:white; padding:5px;padding-bottom:20px;margin-bottom:-10px\">Moreover, web scraping enables the creation of large-scale datasets for training machine learning models and other data-driven applications. By systematically collecting data from diverse sources, analysts can build robust models that can automate tasks, make predictions, and provide valuable recommendations. This integration of web scraping and machine learning opens up new avenues for innovation and enables organizations to leverage the power of artificial intelligence in their data analysis workflows.</p>\n",
    "<p style=\"color:black; background-color:white; padding:5px;\">In summary, web scraping plays a vital role in data analysis by unlocking the potential of online data. It empowers analysts to access, collect, and analyze vast amounts of data from various sources, providing valuable insights and driving data-driven decision-making. As businesses strive to stay competitive in the digital age, harnessing the power of web scraping has become an indispensable tool for extracting knowledge from the web and uncovering hidden opportunities for growth and success.</p>"
   ]
  },
  {
   "cell_type": "markdown",
   "id": "1e67c905-3c24-4cfd-bda1-2783d60057fb",
   "metadata": {},
   "source": [
    "<h2 style=\"color:black; background-color:white; padding:5px; padding-bottom:10px; margin-bottom:-10px\">II. Methodology</h2>\n",
    "<p style=\"color:black; background-color:white; padding:5px; padding-bottom:20px;margin-bottom:-10px\">\n",
    "The methodology employed in this study aims to demonstrate the significance of web scraping in data analysis by utilizing the powerful BeautifulSoup library for extracting data from a real estate website in Bulgaria. Specifically, the focus will be on gathering data related to various types of flats in the city of Pazardzhik, including their prices.\n",
    "<p style=\"color:black; background-color:white; padding:5px;padding-bottom:20px;margin-bottom:-10px\">\n",
    "The first step involves using web scraping techniques with BeautifulSoup to extract the desired data from the target website. By parsing the HTML content of the web pages, relevant information such as flat types and their corresponding prices will be systematically collected and organized.</p>\n",
    "<p style=\"color:black; background-color:white; padding:5px;padding-bottom:20px;margin-bottom:-10px\">\n",
    "Once the data collection phase is complete, the next stage involves leveraging the tools and techniques of machine learning. Regression analysis will be applied to investigate the relationship between different factors, such as flat characteristics and their prices. This analysis will provide insights into pricing patterns and potentially uncover significant predictors of property prices.</p>\n",
    "<p style=\"color:black; background-color:white; padding:5px;padding-bottom:20px;margin-bottom:-10px\">Additionally, clustering algorithms will be employed to group flats based on similarities in their attributes. This clustering analysis can reveal distinct categories or clusters of flats with similar characteristics or pricing patterns, enabling a deeper understanding of the real estate market in Pazardzhik.</p>\n",
    "<p style=\"color:black; background-color:white; padding:5px;\">By combining web scraping with machine learning techniques, this study aims to showcase the power of web scraping in data analysis. The extraction of real estate data from the target website will enable the application of machine learning algorithms to gain valuable insights, identify trends, and make informed decisions in the real estate market of Pazardzhik, Bulgaria.</p>"
   ]
  },
  {
   "cell_type": "markdown",
   "id": "0e6b9ea9-0d6d-4f7d-81b5-226f0f39fc96",
   "metadata": {},
   "source": [
    "<h2 style=\"color:black; background-color:white; padding:5px; padding-bottom:10px; margin-bottom:-25px\">III. Empirical analysis</h2>\n",
    "<h3 style=\"color:black; background-color:white; padding:5px; padding-bottom:10px; margin-bottom:-10px\">1. Import the web page code</h3>\n",
    "<p style=\"color:black; background-color:white; padding:5px\">\n",
    "In this first step, the web code of the selected page is loaded and the first 10 lines of it are visualized.</p>"
   ]
  },
  {
   "cell_type": "code",
   "execution_count": 2,
   "id": "ef92c22d-749c-41d2-9048-12ddaa383265",
   "metadata": {},
   "outputs": [
    {
     "name": "stdout",
     "output_type": "stream",
     "text": [
      "<!DOCTYPE html>\n",
      "<html lang=\"bg\">\n",
      " <head>\n",
      "  <title>\n",
      "   Обяви Продава в град Пазарджик :: imot.bg\n",
      "  </title>\n",
      "  <meta content=\"text/html; charset=utf-8\" http-equiv=\"Content-Type\"/>\n",
      "  <meta content=\"Актуални обяви за имоти в град Пазарджик от сайта за недвижими имоти imot.bg. Вижте обяви Продава в град Пазарджик\" name=\"description\"/>\n",
      "  <link href=\"https://www.imot.bg/favicon.ico\" rel=\"SHORTCUT ICON\"/>\n",
      "  <link href=\"../styless/styles.css?279\" rel=\"stylesheet\" type=\"text/css\"/>\n"
     ]
    }
   ],
   "source": [
    "URL_imotibg = \"https://www.imot.bg/pcgi/imot.cgi?act=3&slink=9bhxh7&f1=1\"\n",
    "page_imoti = requests.get(URL_imotibg)\n",
    "\n",
    "# Assuming 'page1' contains the HTML content of the web page\n",
    "soup = BeautifulSoup(page_imoti.content, \"html.parser\")\n",
    "\n",
    "# Get the prettified HTML as a string\n",
    "prettified_html = soup.prettify()\n",
    "\n",
    "# Split the HTML string into lines\n",
    "html_lines = prettified_html.split('\\n')\n",
    "\n",
    "# Print only the first few lines\n",
    "num_lines_to_print = 10  # Adjust the number of lines you want to print\n",
    "for line in html_lines[:num_lines_to_print]:\n",
    "    print(line)"
   ]
  },
  {
   "cell_type": "code",
   "execution_count": null,
   "id": "e4ad5a4a-766c-4c76-bab3-04ce59cd1aa5",
   "metadata": {},
   "outputs": [],
   "source": []
  },
  {
   "cell_type": "markdown",
   "id": "32974c8a-35ff-47e7-8f5c-1d1ad2504d02",
   "metadata": {},
   "source": [
    "---"
   ]
  },
  {
   "cell_type": "markdown",
   "id": "e9dc54f7-1d7e-4516-a3da-99ecf64c686f",
   "metadata": {},
   "source": [
    "<h3 style=\"color:black; background-color:white; padding:5px; padding-bottom:10px; margin-bottom:-25px\">2. Import the data</h3>\n",
    "<h4 style=\"color:black; background-color:white; padding:5px; padding-bottom:10px; margin-bottom:-10px\">Step one. Import the data from the loading page</h4>\n",
    "<p style=\"color:black; background-color:white; padding:5px\">In this step, we filter the home page for two elements that we need for the analysis - price and type of apartments. We save the results as a dataframe.\n",
    "</p>"
   ]
  },
  {
   "cell_type": "code",
   "execution_count": 4,
   "id": "d12c4704-2e5d-437a-924c-ec0e6a9d6bc4",
   "metadata": {},
   "outputs": [
    {
     "data": {
      "text/html": [
       "<div>\n",
       "<style scoped>\n",
       "    .dataframe tbody tr th:only-of-type {\n",
       "        vertical-align: middle;\n",
       "    }\n",
       "\n",
       "    .dataframe tbody tr th {\n",
       "        vertical-align: top;\n",
       "    }\n",
       "\n",
       "    .dataframe thead th {\n",
       "        text-align: right;\n",
       "    }\n",
       "</style>\n",
       "<table border=\"1\" class=\"dataframe\">\n",
       "  <thead>\n",
       "    <tr style=\"text-align: right;\">\n",
       "      <th></th>\n",
       "      <th>Имот</th>\n",
       "      <th>Цена</th>\n",
       "    </tr>\n",
       "  </thead>\n",
       "  <tbody>\n",
       "    <tr>\n",
       "      <th>1</th>\n",
       "      <td>Продава 2-СТАЕН</td>\n",
       "      <td>70 000 лв.</td>\n",
       "    </tr>\n",
       "    <tr>\n",
       "      <th>2</th>\n",
       "      <td>Продава 3-СТАЕН</td>\n",
       "      <td>120 000 лв.</td>\n",
       "    </tr>\n",
       "    <tr>\n",
       "      <th>3</th>\n",
       "      <td>Продава 3-СТАЕН</td>\n",
       "      <td>68 000 EUR</td>\n",
       "    </tr>\n",
       "    <tr>\n",
       "      <th>4</th>\n",
       "      <td>Продава 2-СТАЕН</td>\n",
       "      <td>72 000 EUR</td>\n",
       "    </tr>\n",
       "    <tr>\n",
       "      <th>5</th>\n",
       "      <td>Продава 3-СТАЕН</td>\n",
       "      <td>72 800 EUR</td>\n",
       "    </tr>\n",
       "    <tr>\n",
       "      <th>6</th>\n",
       "      <td>Продава 3-СТАЕН</td>\n",
       "      <td>160 000 лв.</td>\n",
       "    </tr>\n",
       "    <tr>\n",
       "      <th>7</th>\n",
       "      <td>Продава 3-СТАЕН</td>\n",
       "      <td>85 000 EUR</td>\n",
       "    </tr>\n",
       "    <tr>\n",
       "      <th>8</th>\n",
       "      <td>Продава 3-СТАЕН</td>\n",
       "      <td>99 500 EUR</td>\n",
       "    </tr>\n",
       "    <tr>\n",
       "      <th>9</th>\n",
       "      <td>Продава 1-СТАЕН</td>\n",
       "      <td>55 000 лв.</td>\n",
       "    </tr>\n",
       "    <tr>\n",
       "      <th>10</th>\n",
       "      <td>Продава 2-СТАЕН</td>\n",
       "      <td>39 000 EUR</td>\n",
       "    </tr>\n",
       "    <tr>\n",
       "      <th>11</th>\n",
       "      <td>Продава 2-СТАЕН</td>\n",
       "      <td>45 000 EUR</td>\n",
       "    </tr>\n",
       "    <tr>\n",
       "      <th>12</th>\n",
       "      <td>Продава 3-СТАЕН</td>\n",
       "      <td>46 000 EUR</td>\n",
       "    </tr>\n",
       "    <tr>\n",
       "      <th>13</th>\n",
       "      <td>Продава 3-СТАЕН</td>\n",
       "      <td>90 000 лв.</td>\n",
       "    </tr>\n",
       "    <tr>\n",
       "      <th>14</th>\n",
       "      <td>Продава 2-СТАЕН</td>\n",
       "      <td>50 000 EUR</td>\n",
       "    </tr>\n",
       "    <tr>\n",
       "      <th>15</th>\n",
       "      <td>Продава 3-СТАЕН</td>\n",
       "      <td>50 000 EUR</td>\n",
       "    </tr>\n",
       "    <tr>\n",
       "      <th>16</th>\n",
       "      <td>Продава 2-СТАЕН</td>\n",
       "      <td>52 000 EUR</td>\n",
       "    </tr>\n",
       "    <tr>\n",
       "      <th>17</th>\n",
       "      <td>Продава 2-СТАЕН</td>\n",
       "      <td>53 000 EUR</td>\n",
       "    </tr>\n",
       "    <tr>\n",
       "      <th>18</th>\n",
       "      <td>Продава 2-СТАЕН</td>\n",
       "      <td>53 000 EUR</td>\n",
       "    </tr>\n",
       "    <tr>\n",
       "      <th>19</th>\n",
       "      <td>Продава 3-СТАЕН</td>\n",
       "      <td>120 000 лв.</td>\n",
       "    </tr>\n",
       "    <tr>\n",
       "      <th>20</th>\n",
       "      <td>Продава 3-СТАЕН</td>\n",
       "      <td>65 000 EUR</td>\n",
       "    </tr>\n",
       "    <tr>\n",
       "      <th>21</th>\n",
       "      <td>Продава 3-СТАЕН</td>\n",
       "      <td>65 000 EUR</td>\n",
       "    </tr>\n",
       "    <tr>\n",
       "      <th>22</th>\n",
       "      <td>Продава 2-СТАЕН</td>\n",
       "      <td>128 139 лв.</td>\n",
       "    </tr>\n",
       "    <tr>\n",
       "      <th>23</th>\n",
       "      <td>Продава 3-СТАЕН</td>\n",
       "      <td>130 000 лв.</td>\n",
       "    </tr>\n",
       "    <tr>\n",
       "      <th>24</th>\n",
       "      <td>Продава 3-СТАЕН</td>\n",
       "      <td>71 400 EUR</td>\n",
       "    </tr>\n",
       "    <tr>\n",
       "      <th>25</th>\n",
       "      <td>Продава 3-СТАЕН</td>\n",
       "      <td>73 000 EUR</td>\n",
       "    </tr>\n",
       "    <tr>\n",
       "      <th>26</th>\n",
       "      <td>Продава 3-СТАЕН</td>\n",
       "      <td>74 000 EUR</td>\n",
       "    </tr>\n",
       "    <tr>\n",
       "      <th>27</th>\n",
       "      <td>Продава 3-СТАЕН</td>\n",
       "      <td>74 000 EUR</td>\n",
       "    </tr>\n",
       "    <tr>\n",
       "      <th>28</th>\n",
       "      <td>Продава 3-СТАЕН</td>\n",
       "      <td>75 000 EUR</td>\n",
       "    </tr>\n",
       "    <tr>\n",
       "      <th>29</th>\n",
       "      <td>Продава 2-СТАЕН</td>\n",
       "      <td>151 498 лв.</td>\n",
       "    </tr>\n",
       "    <tr>\n",
       "      <th>30</th>\n",
       "      <td>Продава 2-СТАЕН</td>\n",
       "      <td>155 571 лв.</td>\n",
       "    </tr>\n",
       "    <tr>\n",
       "      <th>31</th>\n",
       "      <td>Продава 2-СТАЕН</td>\n",
       "      <td>81 000 EUR</td>\n",
       "    </tr>\n",
       "    <tr>\n",
       "      <th>32</th>\n",
       "      <td>Продава 3-СТАЕН</td>\n",
       "      <td>90 000 EUR</td>\n",
       "    </tr>\n",
       "    <tr>\n",
       "      <th>33</th>\n",
       "      <td>Продава 3-СТАЕН</td>\n",
       "      <td>90 000 EUR</td>\n",
       "    </tr>\n",
       "    <tr>\n",
       "      <th>34</th>\n",
       "      <td>Продава 3-СТАЕН</td>\n",
       "      <td>96 000 EUR</td>\n",
       "    </tr>\n",
       "    <tr>\n",
       "      <th>35</th>\n",
       "      <td>Продава 3-СТАЕН</td>\n",
       "      <td>99 000 EUR</td>\n",
       "    </tr>\n",
       "    <tr>\n",
       "      <th>36</th>\n",
       "      <td>Продава 3-СТАЕН</td>\n",
       "      <td>115 000 EUR</td>\n",
       "    </tr>\n",
       "    <tr>\n",
       "      <th>37</th>\n",
       "      <td>Продава 1-СТАЕН</td>\n",
       "      <td>48 000 лв.</td>\n",
       "    </tr>\n",
       "    <tr>\n",
       "      <th>38</th>\n",
       "      <td>Продава 1-СТАЕН</td>\n",
       "      <td>25 000 EUR</td>\n",
       "    </tr>\n",
       "    <tr>\n",
       "      <th>39</th>\n",
       "      <td>Продава 1-СТАЕН</td>\n",
       "      <td>27 000 EUR</td>\n",
       "    </tr>\n",
       "    <tr>\n",
       "      <th>40</th>\n",
       "      <td>Продава 1-СТАЕН</td>\n",
       "      <td>56 000 лв.</td>\n",
       "    </tr>\n",
       "  </tbody>\n",
       "</table>\n",
       "</div>"
      ],
      "text/plain": [
       "               Имот         Цена\n",
       "1   Продава 2-СТАЕН   70 000 лв.\n",
       "2   Продава 3-СТАЕН  120 000 лв.\n",
       "3   Продава 3-СТАЕН   68 000 EUR\n",
       "4   Продава 2-СТАЕН   72 000 EUR\n",
       "5   Продава 3-СТАЕН   72 800 EUR\n",
       "6   Продава 3-СТАЕН  160 000 лв.\n",
       "7   Продава 3-СТАЕН   85 000 EUR\n",
       "8   Продава 3-СТАЕН   99 500 EUR\n",
       "9   Продава 1-СТАЕН   55 000 лв.\n",
       "10  Продава 2-СТАЕН   39 000 EUR\n",
       "11  Продава 2-СТАЕН   45 000 EUR\n",
       "12  Продава 3-СТАЕН   46 000 EUR\n",
       "13  Продава 3-СТАЕН   90 000 лв.\n",
       "14  Продава 2-СТАЕН   50 000 EUR\n",
       "15  Продава 3-СТАЕН   50 000 EUR\n",
       "16  Продава 2-СТАЕН   52 000 EUR\n",
       "17  Продава 2-СТАЕН   53 000 EUR\n",
       "18  Продава 2-СТАЕН   53 000 EUR\n",
       "19  Продава 3-СТАЕН  120 000 лв.\n",
       "20  Продава 3-СТАЕН   65 000 EUR\n",
       "21  Продава 3-СТАЕН   65 000 EUR\n",
       "22  Продава 2-СТАЕН  128 139 лв.\n",
       "23  Продава 3-СТАЕН  130 000 лв.\n",
       "24  Продава 3-СТАЕН   71 400 EUR\n",
       "25  Продава 3-СТАЕН   73 000 EUR\n",
       "26  Продава 3-СТАЕН   74 000 EUR\n",
       "27  Продава 3-СТАЕН   74 000 EUR\n",
       "28  Продава 3-СТАЕН   75 000 EUR\n",
       "29  Продава 2-СТАЕН  151 498 лв.\n",
       "30  Продава 2-СТАЕН  155 571 лв.\n",
       "31  Продава 2-СТАЕН   81 000 EUR\n",
       "32  Продава 3-СТАЕН   90 000 EUR\n",
       "33  Продава 3-СТАЕН   90 000 EUR\n",
       "34  Продава 3-СТАЕН   96 000 EUR\n",
       "35  Продава 3-СТАЕН   99 000 EUR\n",
       "36  Продава 3-СТАЕН  115 000 EUR\n",
       "37  Продава 1-СТАЕН   48 000 лв.\n",
       "38  Продава 1-СТАЕН   25 000 EUR\n",
       "39  Продава 1-СТАЕН   27 000 EUR\n",
       "40  Продава 1-СТАЕН   56 000 лв."
      ]
     },
     "execution_count": 4,
     "metadata": {},
     "output_type": "execute_result"
    }
   ],
   "source": [
    "estate_collection_first = {}\n",
    "\n",
    "URL_imotibg_first_page = \"https://www.imot.bg/pcgi/imot.cgi?act=3&slink=9bhxh7&f1=1\"\n",
    "loading_page_imoti = requests.get(URL_imotibg_first_page)\n",
    "\n",
    "soup_loading_page = BeautifulSoup(loading_page_imoti.content, 'html.parser')\n",
    "\n",
    "p_elements_loading_page = soup_loading_page.find_all('div', class_='price')\n",
    "type_elements_loading_page = soup_loading_page.find_all('a', class_='lnk1')\n",
    "\n",
    "for p, t in zip(p_elements_loading_page, type_elements_loading_page):\n",
    "    estate_collection_first.setdefault('Имот', []).append(t.text.strip())\n",
    "    estate_collection_first.setdefault('Цена', []).append(p.text.strip())\n",
    "\n",
    "# Create the DataFrame from the accumulated data\n",
    "df_estate_collection_first = pd.DataFrame(estate_collection_first)\n",
    "df_estate_collection_first.index = df_estate_collection_first.index + 1\n",
    "df_estate_collection_first"
   ]
  },
  {
   "cell_type": "markdown",
   "id": "bae445fb-5b1d-47e0-aecd-ced86cb6ff4a",
   "metadata": {},
   "source": [
    "<p style=\"color:black; background-color:white; padding:5px;\">As you can see from the dataframe we have 40 cases arranged in two columns first column which is named \"\" second column which is called price the apartments are from one-room to three-room apartments are in two types of volutes in BGN and Euro</p>"
   ]
  },
  {
   "cell_type": "markdown",
   "id": "69d86c91-9747-423a-98db-e1497a9348d6",
   "metadata": {},
   "source": [
    "<h4 style=\"color:black; background-color:white; padding:5px; padding-bottom:10px; margin-bottom:-10px\">Step two. Transform the data from the loading page</h4>\n",
    "<p style=\"color:black; background-color:white; padding:5px\">In this step, the data will be transformed in two directions: the names of the columns and the elements in the columns will be changed from Bulgarian to English, and secondly, the monetary unit will be unified, and all prices in BGN will be recalculated into Euros.</p>"
   ]
  },
  {
   "cell_type": "code",
   "execution_count": 5,
   "id": "283ddc64-4af9-459b-b71f-42eb3469cc70",
   "metadata": {},
   "outputs": [
    {
     "data": {
      "text/html": [
       "<div>\n",
       "<style scoped>\n",
       "    .dataframe tbody tr th:only-of-type {\n",
       "        vertical-align: middle;\n",
       "    }\n",
       "\n",
       "    .dataframe tbody tr th {\n",
       "        vertical-align: top;\n",
       "    }\n",
       "\n",
       "    .dataframe thead th {\n",
       "        text-align: right;\n",
       "    }\n",
       "</style>\n",
       "<table border=\"1\" class=\"dataframe\">\n",
       "  <thead>\n",
       "    <tr style=\"text-align: right;\">\n",
       "      <th></th>\n",
       "      <th>Estate_Type</th>\n",
       "      <th>Price</th>\n",
       "    </tr>\n",
       "  </thead>\n",
       "  <tbody>\n",
       "    <tr>\n",
       "      <th>1</th>\n",
       "      <td>2-room</td>\n",
       "      <td>35714</td>\n",
       "    </tr>\n",
       "    <tr>\n",
       "      <th>2</th>\n",
       "      <td>3-room</td>\n",
       "      <td>61224</td>\n",
       "    </tr>\n",
       "    <tr>\n",
       "      <th>3</th>\n",
       "      <td>3-room</td>\n",
       "      <td>68000</td>\n",
       "    </tr>\n",
       "    <tr>\n",
       "      <th>4</th>\n",
       "      <td>2-room</td>\n",
       "      <td>72000</td>\n",
       "    </tr>\n",
       "    <tr>\n",
       "      <th>5</th>\n",
       "      <td>3-room</td>\n",
       "      <td>72800</td>\n",
       "    </tr>\n",
       "    <tr>\n",
       "      <th>6</th>\n",
       "      <td>3-room</td>\n",
       "      <td>81633</td>\n",
       "    </tr>\n",
       "    <tr>\n",
       "      <th>7</th>\n",
       "      <td>3-room</td>\n",
       "      <td>85000</td>\n",
       "    </tr>\n",
       "    <tr>\n",
       "      <th>8</th>\n",
       "      <td>3-room</td>\n",
       "      <td>99500</td>\n",
       "    </tr>\n",
       "    <tr>\n",
       "      <th>9</th>\n",
       "      <td>1-room</td>\n",
       "      <td>28061</td>\n",
       "    </tr>\n",
       "    <tr>\n",
       "      <th>10</th>\n",
       "      <td>2-room</td>\n",
       "      <td>39000</td>\n",
       "    </tr>\n",
       "    <tr>\n",
       "      <th>11</th>\n",
       "      <td>2-room</td>\n",
       "      <td>45000</td>\n",
       "    </tr>\n",
       "    <tr>\n",
       "      <th>12</th>\n",
       "      <td>3-room</td>\n",
       "      <td>46000</td>\n",
       "    </tr>\n",
       "    <tr>\n",
       "      <th>13</th>\n",
       "      <td>3-room</td>\n",
       "      <td>45918</td>\n",
       "    </tr>\n",
       "    <tr>\n",
       "      <th>14</th>\n",
       "      <td>2-room</td>\n",
       "      <td>50000</td>\n",
       "    </tr>\n",
       "    <tr>\n",
       "      <th>15</th>\n",
       "      <td>3-room</td>\n",
       "      <td>50000</td>\n",
       "    </tr>\n",
       "    <tr>\n",
       "      <th>16</th>\n",
       "      <td>2-room</td>\n",
       "      <td>52000</td>\n",
       "    </tr>\n",
       "    <tr>\n",
       "      <th>17</th>\n",
       "      <td>2-room</td>\n",
       "      <td>53000</td>\n",
       "    </tr>\n",
       "    <tr>\n",
       "      <th>18</th>\n",
       "      <td>2-room</td>\n",
       "      <td>53000</td>\n",
       "    </tr>\n",
       "    <tr>\n",
       "      <th>19</th>\n",
       "      <td>3-room</td>\n",
       "      <td>61224</td>\n",
       "    </tr>\n",
       "    <tr>\n",
       "      <th>20</th>\n",
       "      <td>3-room</td>\n",
       "      <td>65000</td>\n",
       "    </tr>\n",
       "    <tr>\n",
       "      <th>21</th>\n",
       "      <td>3-room</td>\n",
       "      <td>65000</td>\n",
       "    </tr>\n",
       "    <tr>\n",
       "      <th>22</th>\n",
       "      <td>2-room</td>\n",
       "      <td>65377</td>\n",
       "    </tr>\n",
       "    <tr>\n",
       "      <th>23</th>\n",
       "      <td>3-room</td>\n",
       "      <td>66327</td>\n",
       "    </tr>\n",
       "    <tr>\n",
       "      <th>24</th>\n",
       "      <td>3-room</td>\n",
       "      <td>71400</td>\n",
       "    </tr>\n",
       "    <tr>\n",
       "      <th>25</th>\n",
       "      <td>3-room</td>\n",
       "      <td>73000</td>\n",
       "    </tr>\n",
       "    <tr>\n",
       "      <th>26</th>\n",
       "      <td>3-room</td>\n",
       "      <td>74000</td>\n",
       "    </tr>\n",
       "    <tr>\n",
       "      <th>27</th>\n",
       "      <td>3-room</td>\n",
       "      <td>74000</td>\n",
       "    </tr>\n",
       "    <tr>\n",
       "      <th>28</th>\n",
       "      <td>3-room</td>\n",
       "      <td>75000</td>\n",
       "    </tr>\n",
       "    <tr>\n",
       "      <th>29</th>\n",
       "      <td>2-room</td>\n",
       "      <td>77295</td>\n",
       "    </tr>\n",
       "    <tr>\n",
       "      <th>30</th>\n",
       "      <td>2-room</td>\n",
       "      <td>79373</td>\n",
       "    </tr>\n",
       "    <tr>\n",
       "      <th>31</th>\n",
       "      <td>2-room</td>\n",
       "      <td>81000</td>\n",
       "    </tr>\n",
       "    <tr>\n",
       "      <th>32</th>\n",
       "      <td>3-room</td>\n",
       "      <td>90000</td>\n",
       "    </tr>\n",
       "    <tr>\n",
       "      <th>33</th>\n",
       "      <td>3-room</td>\n",
       "      <td>90000</td>\n",
       "    </tr>\n",
       "    <tr>\n",
       "      <th>34</th>\n",
       "      <td>3-room</td>\n",
       "      <td>96000</td>\n",
       "    </tr>\n",
       "    <tr>\n",
       "      <th>35</th>\n",
       "      <td>3-room</td>\n",
       "      <td>99000</td>\n",
       "    </tr>\n",
       "    <tr>\n",
       "      <th>36</th>\n",
       "      <td>3-room</td>\n",
       "      <td>115000</td>\n",
       "    </tr>\n",
       "    <tr>\n",
       "      <th>37</th>\n",
       "      <td>1-room</td>\n",
       "      <td>24490</td>\n",
       "    </tr>\n",
       "    <tr>\n",
       "      <th>38</th>\n",
       "      <td>1-room</td>\n",
       "      <td>25000</td>\n",
       "    </tr>\n",
       "    <tr>\n",
       "      <th>39</th>\n",
       "      <td>1-room</td>\n",
       "      <td>27000</td>\n",
       "    </tr>\n",
       "    <tr>\n",
       "      <th>40</th>\n",
       "      <td>1-room</td>\n",
       "      <td>28571</td>\n",
       "    </tr>\n",
       "  </tbody>\n",
       "</table>\n",
       "</div>"
      ],
      "text/plain": [
       "   Estate_Type   Price\n",
       "1       2-room   35714\n",
       "2       3-room   61224\n",
       "3       3-room   68000\n",
       "4       2-room   72000\n",
       "5       3-room   72800\n",
       "6       3-room   81633\n",
       "7       3-room   85000\n",
       "8       3-room   99500\n",
       "9       1-room   28061\n",
       "10      2-room   39000\n",
       "11      2-room   45000\n",
       "12      3-room   46000\n",
       "13      3-room   45918\n",
       "14      2-room   50000\n",
       "15      3-room   50000\n",
       "16      2-room   52000\n",
       "17      2-room   53000\n",
       "18      2-room   53000\n",
       "19      3-room   61224\n",
       "20      3-room   65000\n",
       "21      3-room   65000\n",
       "22      2-room   65377\n",
       "23      3-room   66327\n",
       "24      3-room   71400\n",
       "25      3-room   73000\n",
       "26      3-room   74000\n",
       "27      3-room   74000\n",
       "28      3-room   75000\n",
       "29      2-room   77295\n",
       "30      2-room   79373\n",
       "31      2-room   81000\n",
       "32      3-room   90000\n",
       "33      3-room   90000\n",
       "34      3-room   96000\n",
       "35      3-room   99000\n",
       "36      3-room  115000\n",
       "37      1-room   24490\n",
       "38      1-room   25000\n",
       "39      1-room   27000\n",
       "40      1-room   28571"
      ]
     },
     "execution_count": 5,
     "metadata": {},
     "output_type": "execute_result"
    }
   ],
   "source": [
    "df_estate_collection_first = df_estate_collection_first.rename(columns={'Имот': 'Estate_Type', 'Цена': 'Price'})\n",
    "\n",
    "df_estate_collection_first['Estate_Type'] = df_estate_collection_first['Estate_Type'].str.replace('Продава', '')\n",
    "df_estate_collection_first['Estate_Type'] = df_estate_collection_first['Estate_Type'].str.replace('СТАЕН', 'room')\n",
    "\n",
    "def convert_to_eur(Price):\n",
    "    if 'лв.' in Price:\n",
    "        Price = Price.replace('лв.', '').replace(' ', '')\n",
    "        Price = round(float(Price) / 1.96)\n",
    "    elif 'EUR' in Price:\n",
    "        Price = Price.replace('EUR', '').replace(' ', '')\n",
    "        Price = round(float(Price))\n",
    "    return Price\n",
    "\n",
    "# Apply the conversion function to the Price column\n",
    "df_estate_collection_first['Price'] = df_estate_collection_first['Price'].apply(convert_to_eur)\n",
    "df_estate_collection_first"
   ]
  },
  {
   "cell_type": "code",
   "execution_count": null,
   "id": "49f0a0c5-0673-4177-a893-ba32a3cd4319",
   "metadata": {},
   "outputs": [],
   "source": []
  },
  {
   "cell_type": "markdown",
   "id": "712ebc18-792d-4398-a65d-2e1c90bc20b6",
   "metadata": {},
   "source": [
    "<h4 style=\"color:black; background-color:white; padding:5px; padding-bottom:10px; margin-bottom:-10px\">Step three. Take the links from the loading page</h4>\n",
    "<p style=\"color:black; background-color:white; padding:5px\">Since the home page only shows 40 apartments in number, in this step we find all the remaining links to pages from the property filter we used.</p>"
   ]
  },
  {
   "cell_type": "code",
   "execution_count": 6,
   "id": "df53f668-b957-4b2f-bf2f-c12d2002a9d7",
   "metadata": {},
   "outputs": [
    {
     "name": "stdout",
     "output_type": "stream",
     "text": [
      "Next Page URL: //www.imot.bg/pcgi/imot.cgi?act=3&slink=9bhxh7&f1=2\n",
      "Next Page URL: //www.imot.bg/pcgi/imot.cgi?act=3&slink=9bhxh7&f1=3\n",
      "Next Page URL: //www.imot.bg/pcgi/imot.cgi?act=3&slink=9bhxh7&f1=4\n",
      "Next Page URL: //www.imot.bg/pcgi/imot.cgi?act=3&slink=9bhxh7&f1=5\n",
      "Next Page URL: //www.imot.bg/pcgi/imot.cgi?act=3&slink=9bhxh7&f1=6\n",
      "Next Page URL: //www.imot.bg/pcgi/imot.cgi?act=3&slink=9bhxh7&f1=7\n",
      "Next Page URL: //www.imot.bg/pcgi/imot.cgi?act=3&slink=9bhxh7&f1=8\n",
      "Next Page URL: //www.imot.bg/pcgi/imot.cgi?act=3&slink=9bhxh7&f1=9\n",
      "Next Page URL: //www.imot.bg/pcgi/imot.cgi?act=3&slink=9bhxh7&f1=2\n",
      "Next Page URL: //www.imot.bg/pcgi/imot.cgi?act=3&slink=9bhxh7&f1=3\n",
      "Next Page URL: //www.imot.bg/pcgi/imot.cgi?act=3&slink=9bhxh7&f1=4\n",
      "Next Page URL: //www.imot.bg/pcgi/imot.cgi?act=3&slink=9bhxh7&f1=5\n",
      "Next Page URL: //www.imot.bg/pcgi/imot.cgi?act=3&slink=9bhxh7&f1=6\n",
      "Next Page URL: //www.imot.bg/pcgi/imot.cgi?act=3&slink=9bhxh7&f1=7\n",
      "Next Page URL: //www.imot.bg/pcgi/imot.cgi?act=3&slink=9bhxh7&f1=8\n",
      "Next Page URL: //www.imot.bg/pcgi/imot.cgi?act=3&slink=9bhxh7&f1=9\n"
     ]
    }
   ],
   "source": [
    "# Find all 'a' elements with the class 'pageNumbers'\n",
    "next_page_elements = soup_loading_page.find_all('a', class_='pageNumbers')\n",
    "\n",
    "# Iterate over the next page elements\n",
    "for next_page_element in next_page_elements:\n",
    "    # Extract the URL of the next page\n",
    "    next_page_url = next_page_element['href']\n",
    "    \n",
    "    # Print the URL of the next page\n",
    "    print(\"Next Page URL:\", next_page_url)"
   ]
  },
  {
   "cell_type": "code",
   "execution_count": null,
   "id": "b719105f-d0cf-4b44-a111-fc52b2f72da4",
   "metadata": {},
   "outputs": [],
   "source": []
  },
  {
   "cell_type": "markdown",
   "id": "0cfa2018-def2-469c-a28e-18c8a3e06e89",
   "metadata": {},
   "source": [
    "<h4 style=\"color:black; background-color:white; padding:5px; padding-bottom:10px; margin-bottom:-10px\">Step four. Load the data from all pages</h4>\n",
    "<p style=\"color:black; background-color:white; padding:5px\">Once we have found the links to the rest of the pages matching the filter, we transform the code to load all apartments and not just the ones on the loading page.</p>"
   ]
  },
  {
   "cell_type": "code",
   "execution_count": null,
   "id": "690b8340-0401-44d5-b8cf-f017f6fe2d03",
   "metadata": {},
   "outputs": [],
   "source": []
  },
  {
   "cell_type": "code",
   "execution_count": null,
   "id": "98b23f99-cb76-47d0-9e8a-20e3329cdca7",
   "metadata": {},
   "outputs": [],
   "source": []
  },
  {
   "cell_type": "code",
   "execution_count": null,
   "id": "78ad0acd-ee38-4683-ac81-d04c3d4fef56",
   "metadata": {},
   "outputs": [],
   "source": []
  },
  {
   "cell_type": "code",
   "execution_count": null,
   "id": "281c79b2-9df5-44ac-aabd-90afcdf6a21a",
   "metadata": {},
   "outputs": [],
   "source": []
  },
  {
   "cell_type": "code",
   "execution_count": null,
   "id": "ca1ee76f-5664-42de-a184-cfddb09eed39",
   "metadata": {},
   "outputs": [],
   "source": []
  },
  {
   "cell_type": "code",
   "execution_count": null,
   "id": "29385d8e-b88f-4500-9b99-1df7012399f2",
   "metadata": {},
   "outputs": [],
   "source": []
  },
  {
   "cell_type": "code",
   "execution_count": 63,
   "id": "0562021a-cb4a-4ed4-a760-b0eebb815865",
   "metadata": {},
   "outputs": [
    {
     "data": {
      "text/html": [
       "<div>\n",
       "<style scoped>\n",
       "    .dataframe tbody tr th:only-of-type {\n",
       "        vertical-align: middle;\n",
       "    }\n",
       "\n",
       "    .dataframe tbody tr th {\n",
       "        vertical-align: top;\n",
       "    }\n",
       "\n",
       "    .dataframe thead th {\n",
       "        text-align: right;\n",
       "    }\n",
       "</style>\n",
       "<table border=\"1\" class=\"dataframe\">\n",
       "  <thead>\n",
       "    <tr style=\"text-align: right;\">\n",
       "      <th></th>\n",
       "      <th>Имот</th>\n",
       "      <th>Цена</th>\n",
       "    </tr>\n",
       "  </thead>\n",
       "  <tbody>\n",
       "    <tr>\n",
       "      <th>0</th>\n",
       "      <td>Продава 2-СТАЕН</td>\n",
       "      <td>70 000 лв.</td>\n",
       "    </tr>\n",
       "    <tr>\n",
       "      <th>1</th>\n",
       "      <td>Продава 3-СТАЕН</td>\n",
       "      <td>120 000 лв.</td>\n",
       "    </tr>\n",
       "    <tr>\n",
       "      <th>2</th>\n",
       "      <td>Продава 3-СТАЕН</td>\n",
       "      <td>68 000 EUR</td>\n",
       "    </tr>\n",
       "    <tr>\n",
       "      <th>3</th>\n",
       "      <td>Продава 2-СТАЕН</td>\n",
       "      <td>72 000 EUR</td>\n",
       "    </tr>\n",
       "    <tr>\n",
       "      <th>4</th>\n",
       "      <td>Продава 3-СТАЕН</td>\n",
       "      <td>72 800 EUR</td>\n",
       "    </tr>\n",
       "    <tr>\n",
       "      <th>...</th>\n",
       "      <td>...</td>\n",
       "      <td>...</td>\n",
       "    </tr>\n",
       "    <tr>\n",
       "      <th>345</th>\n",
       "      <td>Продава 4-СТАЕН</td>\n",
       "      <td>Цена при запитване</td>\n",
       "    </tr>\n",
       "    <tr>\n",
       "      <th>346</th>\n",
       "      <td>Продава 3-СТАЕН</td>\n",
       "      <td>Цена при запитване</td>\n",
       "    </tr>\n",
       "    <tr>\n",
       "      <th>347</th>\n",
       "      <td>Продава 3-СТАЕН</td>\n",
       "      <td>Цена при запитване</td>\n",
       "    </tr>\n",
       "    <tr>\n",
       "      <th>348</th>\n",
       "      <td>Продава 3-СТАЕН</td>\n",
       "      <td>Цена при запитване</td>\n",
       "    </tr>\n",
       "    <tr>\n",
       "      <th>349</th>\n",
       "      <td>Продава 3-СТАЕН</td>\n",
       "      <td>Цена при запитване</td>\n",
       "    </tr>\n",
       "  </tbody>\n",
       "</table>\n",
       "<p>350 rows × 2 columns</p>\n",
       "</div>"
      ],
      "text/plain": [
       "                Имот                Цена\n",
       "0    Продава 2-СТАЕН          70 000 лв.\n",
       "1    Продава 3-СТАЕН         120 000 лв.\n",
       "2    Продава 3-СТАЕН          68 000 EUR\n",
       "3    Продава 2-СТАЕН          72 000 EUR\n",
       "4    Продава 3-СТАЕН          72 800 EUR\n",
       "..               ...                 ...\n",
       "345  Продава 4-СТАЕН  Цена при запитване\n",
       "346  Продава 3-СТАЕН  Цена при запитване\n",
       "347  Продава 3-СТАЕН  Цена при запитване\n",
       "348  Продава 3-СТАЕН  Цена при запитване\n",
       "349  Продава 3-СТАЕН  Цена при запитване\n",
       "\n",
       "[350 rows x 2 columns]"
      ]
     },
     "execution_count": 63,
     "metadata": {},
     "output_type": "execute_result"
    }
   ],
   "source": [
    "estate_collection_all = {}  # Initialize the dictionary outside the loop\n",
    "\n",
    "URL_imotibg_first_page = \"https://www.imot.bg/pcgi/imot.cgi?act=3&slink=9bhxh7&f1=1\"\n",
    "loading_page_imoti = requests.get(URL_imotibg_first_page)\n",
    "\n",
    "soup_loading_page = BeautifulSoup(loading_page_imoti.content, 'html.parser')\n",
    "\n",
    "next_page_elements = soup_loading_page.find_all('a', class_='pageNumbers')\n",
    "\n",
    "p_elements_loading_page = soup_loading_page.find_all('div', class_='price')\n",
    "type_elements_loading_page = soup_loading_page.find_all('a', class_='lnk1')\n",
    "\n",
    "for index, (p, t) in enumerate(zip(p_elements_loading_page, type_elements_loading_page)):\n",
    "    estate_collection_all.setdefault('Имот', []).append(t.text.strip())\n",
    "    estate_collection_all.setdefault('Цена', []).append(p.text.strip())\n",
    "\n",
    "for next_page_element in next_page_elements[:8]:  # Take only the first 8 elements\n",
    "\n",
    "    next_page_url = next_page_element['href']  # Join the base URL with the relative URL\n",
    "\n",
    "    # Make a request to the next page URL\n",
    "    response = requests.get(url='http:' + next_page_url)\n",
    "\n",
    "    # Parse the HTML content of the next page\n",
    "    soup_next_page = BeautifulSoup(response.content.decode('windows-1251'), 'html.parser')\n",
    "\n",
    "    # Perform scraping operations on the parsed HTML\n",
    "    # Extract the desired data from the parsed HTML using BeautifulSoup methods\n",
    "\n",
    "    # Example: Extract all paragraph elements from the next page\n",
    "    # Find all 'p' elements within the 'div' with class 'page'\n",
    "    p_elements_next_page = soup_next_page.find_all('div', class_='price')\n",
    "    type_elements_next_page = soup_next_page.find_all('a', class_='lnk1')\n",
    "\n",
    "    for index, (p, t) in enumerate(zip(p_elements_next_page, type_elements_next_page)):\n",
    "\n",
    "        estate_collection_all.setdefault('Имот', []).append(t.text.strip())\n",
    "        estate_collection_all.setdefault('Цена', []).append(p.text.strip())\n",
    "\n",
    "# Create the DataFrame from the accumulated data\n",
    "df_estate_collection_all = pd.DataFrame(estate_collection_all)\n",
    "df_estate_collection_all"
   ]
  },
  {
   "cell_type": "code",
   "execution_count": null,
   "id": "a2516b12-4990-4b34-8853-763c203fa144",
   "metadata": {},
   "outputs": [],
   "source": []
  },
  {
   "cell_type": "code",
   "execution_count": null,
   "id": "40b703d7-7aa2-484b-a38b-5157bd029d94",
   "metadata": {},
   "outputs": [],
   "source": []
  },
  {
   "cell_type": "code",
   "execution_count": 65,
   "id": "d5b5eacd-37e6-4674-bca5-9980cae93d18",
   "metadata": {},
   "outputs": [
    {
     "data": {
      "text/html": [
       "<div>\n",
       "<style scoped>\n",
       "    .dataframe tbody tr th:only-of-type {\n",
       "        vertical-align: middle;\n",
       "    }\n",
       "\n",
       "    .dataframe tbody tr th {\n",
       "        vertical-align: top;\n",
       "    }\n",
       "\n",
       "    .dataframe thead th {\n",
       "        text-align: right;\n",
       "    }\n",
       "</style>\n",
       "<table border=\"1\" class=\"dataframe\">\n",
       "  <thead>\n",
       "    <tr style=\"text-align: right;\">\n",
       "      <th></th>\n",
       "      <th>Estate_Type</th>\n",
       "      <th>Price</th>\n",
       "    </tr>\n",
       "  </thead>\n",
       "  <tbody>\n",
       "    <tr>\n",
       "      <th>1</th>\n",
       "      <td>2-room</td>\n",
       "      <td>35714</td>\n",
       "    </tr>\n",
       "    <tr>\n",
       "      <th>2</th>\n",
       "      <td>3-room</td>\n",
       "      <td>61224</td>\n",
       "    </tr>\n",
       "    <tr>\n",
       "      <th>3</th>\n",
       "      <td>3-room</td>\n",
       "      <td>68000</td>\n",
       "    </tr>\n",
       "    <tr>\n",
       "      <th>4</th>\n",
       "      <td>2-room</td>\n",
       "      <td>72000</td>\n",
       "    </tr>\n",
       "    <tr>\n",
       "      <th>5</th>\n",
       "      <td>3-room</td>\n",
       "      <td>72800</td>\n",
       "    </tr>\n",
       "    <tr>\n",
       "      <th>...</th>\n",
       "      <td>...</td>\n",
       "      <td>...</td>\n",
       "    </tr>\n",
       "    <tr>\n",
       "      <th>340</th>\n",
       "      <td>3-room</td>\n",
       "      <td>145000</td>\n",
       "    </tr>\n",
       "    <tr>\n",
       "      <th>341</th>\n",
       "      <td>4-room</td>\n",
       "      <td>150000</td>\n",
       "    </tr>\n",
       "    <tr>\n",
       "      <th>342</th>\n",
       "      <td>3-room</td>\n",
       "      <td>150000</td>\n",
       "    </tr>\n",
       "    <tr>\n",
       "      <th>343</th>\n",
       "      <td>4-room</td>\n",
       "      <td>155612</td>\n",
       "    </tr>\n",
       "    <tr>\n",
       "      <th>344</th>\n",
       "      <td>3-room</td>\n",
       "      <td>156000</td>\n",
       "    </tr>\n",
       "  </tbody>\n",
       "</table>\n",
       "<p>344 rows × 2 columns</p>\n",
       "</div>"
      ],
      "text/plain": [
       "    Estate_Type   Price\n",
       "1        2-room   35714\n",
       "2        3-room   61224\n",
       "3        3-room   68000\n",
       "4        2-room   72000\n",
       "5        3-room   72800\n",
       "..          ...     ...\n",
       "340      3-room  145000\n",
       "341      4-room  150000\n",
       "342      3-room  150000\n",
       "343      4-room  155612\n",
       "344      3-room  156000\n",
       "\n",
       "[344 rows x 2 columns]"
      ]
     },
     "execution_count": 65,
     "metadata": {},
     "output_type": "execute_result"
    }
   ],
   "source": [
    "# transform the index to start from 1 \n",
    "df_estate_collection_all.index = df_estate_collection_all.index + 1\n",
    "\n",
    "#Change the name of columns\n",
    "df_estate_collection_all = df_estate_collection_all.rename(columns={'Имот': 'Estate_Type', 'Цена': 'Price'})\n",
    "\n",
    "#change the name of elements in columns\n",
    "df_estate_collection_all['Estate_Type'] = df_estate_collection_all['Estate_Type'].str.replace('Продава', '')\n",
    "df_estate_collection_all['Estate_Type'] = df_estate_collection_all['Estate_Type'].str.replace('СТАЕН', 'room')\n",
    "df_estate_collection_all['Price'] = df_estate_collection_all['Price'].replace('Цена при запитване', float('nan'))\n",
    "\n",
    "#remove the nan elemenents\n",
    "df_estate_collection_all = df_estate_collection_all.dropna(subset=['Price'])\n",
    "\n",
    "# change the elements in price column\n",
    "def convert_to_eur(Price):\n",
    "    if 'лв.' in Price:\n",
    "        Price = Price.replace('лв.', '').replace(' ', '')\n",
    "        Price = round(float(Price) / 1.96)\n",
    "    elif 'EUR' in Price:\n",
    "        Price = Price.replace('EUR', '').replace(' ', '')\n",
    "        Price = round(float(Price))\n",
    "    return Price\n",
    "\n",
    "# Apply the conversion function to the Price column\n",
    "df_estate_collection_all['Price'] = df_estate_collection_all['Price'].apply(convert_to_eur)\n",
    "df_estate_collection_all"
   ]
  },
  {
   "cell_type": "code",
   "execution_count": 66,
   "id": "2d97e56b-065e-4127-8bec-f61a92511492",
   "metadata": {},
   "outputs": [
    {
     "data": {
      "application/vnd.plotly.v1+json": {
       "config": {
        "plotlyServerURL": "https://plot.ly"
       },
       "data": [
        {
         "alignmentgroup": "True",
         "bingroup": "x",
         "hovertemplate": "Estate_Type=%{x}<br>count=%{y}<extra></extra>",
         "legendgroup": "",
         "marker": {
          "color": "#636efa",
          "pattern": {
           "shape": ""
          }
         },
         "name": "",
         "offsetgroup": "",
         "orientation": "v",
         "showlegend": false,
         "type": "histogram",
         "x": [
          " 2-room",
          " 3-room",
          " 3-room",
          " 2-room",
          " 3-room",
          " 3-room",
          " 3-room",
          " 3-room",
          " 1-room",
          " 2-room",
          " 2-room",
          " 3-room",
          " 3-room",
          " 2-room",
          " 3-room",
          " 2-room",
          " 2-room",
          " 2-room",
          " 2-room",
          " 3-room",
          " 3-room",
          " 3-room",
          " 2-room",
          " 3-room",
          " 3-room",
          " 3-room",
          " 3-room",
          " 3-room",
          " 3-room",
          " 2-room",
          " 2-room",
          " 2-room",
          " 3-room",
          " 3-room",
          " 3-room",
          " 3-room",
          " 3-room",
          " 1-room",
          " 1-room",
          " 1-room",
          " 1-room",
          " 1-room",
          " 1-room",
          " 1-room",
          " 1-room",
          " 1-room",
          " 1-room",
          " 2-room",
          " 1-room",
          " 1-room",
          " 1-room",
          " 1-room",
          " 3-room",
          " 2-room",
          " 2-room",
          " 1-room",
          " 2-room",
          " 2-room",
          " 1-room",
          " 2-room",
          " 2-room",
          " 2-room",
          " 2-room",
          " 2-room",
          " 2-room",
          " 2-room",
          " 2-room",
          " 4-room",
          " 1-room",
          " 2-room",
          " 2-room",
          " 2-room",
          " 2-room",
          " 2-room",
          " 1-room",
          " 2-room",
          " 2-room",
          " 2-room",
          " 2-room",
          " 2-room",
          " 2-room",
          " 2-room",
          " 2-room",
          " 2-room",
          " 2-room",
          " 2-room",
          " 2-room",
          " 2-room",
          " 2-room",
          " 2-room",
          " 2-room",
          " 2-room",
          " 2-room",
          " 2-room",
          " 1-room",
          " 2-room",
          " 2-room",
          " 2-room",
          " 2-room",
          " 2-room",
          " 2-room",
          " 2-room",
          " 1-room",
          " 3-room",
          " 3-room",
          " 2-room",
          " 3-room",
          " 2-room",
          " 2-room",
          " 2-room",
          " 2-room",
          " 2-room",
          " 2-room",
          " 2-room",
          " 2-room",
          " 3-room",
          " 3-room",
          " 2-room",
          " 3-room",
          " 2-room",
          " 4-room",
          " 2-room",
          " 3-room",
          " 3-room",
          " 2-room",
          " 2-room",
          " 2-room",
          " 2-room",
          " 2-room",
          " 3-room",
          " 3-room",
          " 2-room",
          " 3-room",
          " 2-room",
          " 2-room",
          " 2-room",
          " 2-room",
          " 2-room",
          " 3-room",
          " 3-room",
          " 2-room",
          " 3-room",
          " 2-room",
          " 3-room",
          " 3-room",
          " 2-room",
          " 2-room",
          " 2-room",
          " 2-room",
          " 2-room",
          " 2-room",
          " 2-room",
          " 2-room",
          " 3-room",
          " 3-room",
          " 3-room",
          " 3-room",
          " 2-room",
          " 3-room",
          " 3-room",
          " 2-room",
          " 3-room",
          " 3-room",
          " 3-room",
          " 3-room",
          " 3-room",
          " 3-room",
          " 3-room",
          " 3-room",
          " 2-room",
          " 3-room",
          " 3-room",
          " 2-room",
          " 3-room",
          " 3-room",
          " 3-room",
          " 2-room",
          " 2-room",
          " 2-room",
          " 4-room",
          " 3-room",
          " 3-room",
          " 3-room",
          " 3-room",
          " 2-room",
          " 3-room",
          " 3-room",
          " 2-room",
          " 3-room",
          " 3-room",
          " 2-room",
          " 2-room",
          " 3-room",
          " 3-room",
          " 3-room",
          " 3-room",
          " 3-room",
          " 4-room",
          " 2-room",
          " 2-room",
          " 3-room",
          " 3-room",
          " 2-room",
          " 3-room",
          " 3-room",
          " 3-room",
          " 3-room",
          " 3-room",
          " 3-room",
          " 2-room",
          " 2-room",
          " 3-room",
          " 4-room",
          " 2-room",
          " 3-room",
          " 3-room",
          " 3-room",
          " 3-room",
          " 3-room",
          " 2-room",
          " 3-room",
          " 3-room",
          " 3-room",
          " 3-room",
          " 3-room",
          " 3-room",
          " 3-room",
          " 3-room",
          " 3-room",
          " 4-room",
          " 3-room",
          " 3-room",
          " 3-room",
          " 3-room",
          " 3-room",
          " 3-room",
          " 3-room",
          " 3-room",
          " 2-room",
          " 3-room",
          " 3-room",
          " 3-room",
          " 3-room",
          " 3-room",
          " 2-room",
          " 3-room",
          " 3-room",
          " 4-room",
          " 3-room",
          " 3-room",
          " 3-room",
          " 3-room",
          " 3-room",
          " 3-room",
          " 2-room",
          " 3-room",
          " 2-room",
          " 3-room",
          " 3-room",
          " 3-room",
          " 3-room",
          " 3-room",
          " 3-room",
          " 2-room",
          " 3-room",
          " 3-room",
          " 2-room",
          " 3-room",
          " 3-room",
          " 3-room",
          " 3-room",
          " 3-room",
          " 3-room",
          " 3-room",
          " 3-room",
          " 3-room",
          " 3-room",
          " 3-room",
          " 3-room",
          " 3-room",
          " 3-room",
          " 3-room",
          " 3-room",
          " 3-room",
          " 3-room",
          " 3-room",
          " 4-room",
          " 3-room",
          " 4-room",
          " 3-room",
          " 3-room",
          " 3-room",
          " 4-room",
          " 4-room",
          " 4-room",
          " 3-room",
          " 3-room",
          " 4-room",
          " 3-room",
          " 4-room",
          " 3-room",
          " 3-room",
          " 4-room",
          " 3-room",
          " 4-room",
          " 3-room",
          " 3-room",
          " 3-room",
          " 3-room",
          " 4-room",
          " 3-room",
          " 3-room",
          " 3-room",
          " 3-room",
          " 3-room",
          " 3-room",
          " 3-room",
          " 3-room",
          " 3-room",
          " 3-room",
          " 4-room",
          " 4-room",
          " 4-room",
          " 3-room",
          " 3-room",
          " 3-room",
          " 3-room",
          " 3-room",
          " 3-room",
          " 3-room",
          " 3-room",
          " 4-room",
          " 4-room",
          " 3-room",
          " 3-room",
          " 3-room",
          " 4-room",
          " 4-room",
          " 4-room",
          " 3-room",
          " 4-room",
          " 3-room",
          " 4-room",
          " 3-room"
         ],
         "xaxis": "x",
         "yaxis": "y"
        },
        {
         "alignmentgroup": "True",
         "hovertemplate": "Estate_Type=%{x}<extra></extra>",
         "legendgroup": "",
         "marker": {
          "color": "#636efa"
         },
         "name": "",
         "notched": true,
         "offsetgroup": "",
         "showlegend": false,
         "type": "box",
         "x": [
          " 2-room",
          " 3-room",
          " 3-room",
          " 2-room",
          " 3-room",
          " 3-room",
          " 3-room",
          " 3-room",
          " 1-room",
          " 2-room",
          " 2-room",
          " 3-room",
          " 3-room",
          " 2-room",
          " 3-room",
          " 2-room",
          " 2-room",
          " 2-room",
          " 2-room",
          " 3-room",
          " 3-room",
          " 3-room",
          " 2-room",
          " 3-room",
          " 3-room",
          " 3-room",
          " 3-room",
          " 3-room",
          " 3-room",
          " 2-room",
          " 2-room",
          " 2-room",
          " 3-room",
          " 3-room",
          " 3-room",
          " 3-room",
          " 3-room",
          " 1-room",
          " 1-room",
          " 1-room",
          " 1-room",
          " 1-room",
          " 1-room",
          " 1-room",
          " 1-room",
          " 1-room",
          " 1-room",
          " 2-room",
          " 1-room",
          " 1-room",
          " 1-room",
          " 1-room",
          " 3-room",
          " 2-room",
          " 2-room",
          " 1-room",
          " 2-room",
          " 2-room",
          " 1-room",
          " 2-room",
          " 2-room",
          " 2-room",
          " 2-room",
          " 2-room",
          " 2-room",
          " 2-room",
          " 2-room",
          " 4-room",
          " 1-room",
          " 2-room",
          " 2-room",
          " 2-room",
          " 2-room",
          " 2-room",
          " 1-room",
          " 2-room",
          " 2-room",
          " 2-room",
          " 2-room",
          " 2-room",
          " 2-room",
          " 2-room",
          " 2-room",
          " 2-room",
          " 2-room",
          " 2-room",
          " 2-room",
          " 2-room",
          " 2-room",
          " 2-room",
          " 2-room",
          " 2-room",
          " 2-room",
          " 2-room",
          " 1-room",
          " 2-room",
          " 2-room",
          " 2-room",
          " 2-room",
          " 2-room",
          " 2-room",
          " 2-room",
          " 1-room",
          " 3-room",
          " 3-room",
          " 2-room",
          " 3-room",
          " 2-room",
          " 2-room",
          " 2-room",
          " 2-room",
          " 2-room",
          " 2-room",
          " 2-room",
          " 2-room",
          " 3-room",
          " 3-room",
          " 2-room",
          " 3-room",
          " 2-room",
          " 4-room",
          " 2-room",
          " 3-room",
          " 3-room",
          " 2-room",
          " 2-room",
          " 2-room",
          " 2-room",
          " 2-room",
          " 3-room",
          " 3-room",
          " 2-room",
          " 3-room",
          " 2-room",
          " 2-room",
          " 2-room",
          " 2-room",
          " 2-room",
          " 3-room",
          " 3-room",
          " 2-room",
          " 3-room",
          " 2-room",
          " 3-room",
          " 3-room",
          " 2-room",
          " 2-room",
          " 2-room",
          " 2-room",
          " 2-room",
          " 2-room",
          " 2-room",
          " 2-room",
          " 3-room",
          " 3-room",
          " 3-room",
          " 3-room",
          " 2-room",
          " 3-room",
          " 3-room",
          " 2-room",
          " 3-room",
          " 3-room",
          " 3-room",
          " 3-room",
          " 3-room",
          " 3-room",
          " 3-room",
          " 3-room",
          " 2-room",
          " 3-room",
          " 3-room",
          " 2-room",
          " 3-room",
          " 3-room",
          " 3-room",
          " 2-room",
          " 2-room",
          " 2-room",
          " 4-room",
          " 3-room",
          " 3-room",
          " 3-room",
          " 3-room",
          " 2-room",
          " 3-room",
          " 3-room",
          " 2-room",
          " 3-room",
          " 3-room",
          " 2-room",
          " 2-room",
          " 3-room",
          " 3-room",
          " 3-room",
          " 3-room",
          " 3-room",
          " 4-room",
          " 2-room",
          " 2-room",
          " 3-room",
          " 3-room",
          " 2-room",
          " 3-room",
          " 3-room",
          " 3-room",
          " 3-room",
          " 3-room",
          " 3-room",
          " 2-room",
          " 2-room",
          " 3-room",
          " 4-room",
          " 2-room",
          " 3-room",
          " 3-room",
          " 3-room",
          " 3-room",
          " 3-room",
          " 2-room",
          " 3-room",
          " 3-room",
          " 3-room",
          " 3-room",
          " 3-room",
          " 3-room",
          " 3-room",
          " 3-room",
          " 3-room",
          " 4-room",
          " 3-room",
          " 3-room",
          " 3-room",
          " 3-room",
          " 3-room",
          " 3-room",
          " 3-room",
          " 3-room",
          " 2-room",
          " 3-room",
          " 3-room",
          " 3-room",
          " 3-room",
          " 3-room",
          " 2-room",
          " 3-room",
          " 3-room",
          " 4-room",
          " 3-room",
          " 3-room",
          " 3-room",
          " 3-room",
          " 3-room",
          " 3-room",
          " 2-room",
          " 3-room",
          " 2-room",
          " 3-room",
          " 3-room",
          " 3-room",
          " 3-room",
          " 3-room",
          " 3-room",
          " 2-room",
          " 3-room",
          " 3-room",
          " 2-room",
          " 3-room",
          " 3-room",
          " 3-room",
          " 3-room",
          " 3-room",
          " 3-room",
          " 3-room",
          " 3-room",
          " 3-room",
          " 3-room",
          " 3-room",
          " 3-room",
          " 3-room",
          " 3-room",
          " 3-room",
          " 3-room",
          " 3-room",
          " 3-room",
          " 3-room",
          " 4-room",
          " 3-room",
          " 4-room",
          " 3-room",
          " 3-room",
          " 3-room",
          " 4-room",
          " 4-room",
          " 4-room",
          " 3-room",
          " 3-room",
          " 4-room",
          " 3-room",
          " 4-room",
          " 3-room",
          " 3-room",
          " 4-room",
          " 3-room",
          " 4-room",
          " 3-room",
          " 3-room",
          " 3-room",
          " 3-room",
          " 4-room",
          " 3-room",
          " 3-room",
          " 3-room",
          " 3-room",
          " 3-room",
          " 3-room",
          " 3-room",
          " 3-room",
          " 3-room",
          " 3-room",
          " 4-room",
          " 4-room",
          " 4-room",
          " 3-room",
          " 3-room",
          " 3-room",
          " 3-room",
          " 3-room",
          " 3-room",
          " 3-room",
          " 3-room",
          " 4-room",
          " 4-room",
          " 3-room",
          " 3-room",
          " 3-room",
          " 4-room",
          " 4-room",
          " 4-room",
          " 3-room",
          " 4-room",
          " 3-room",
          " 4-room",
          " 3-room"
         ],
         "xaxis": "x2",
         "yaxis": "y2"
        }
       ],
       "layout": {
        "barmode": "relative",
        "height": 400,
        "legend": {
         "tracegroupgap": 0
        },
        "margin": {
         "t": 60
        },
        "template": {
         "data": {
          "bar": [
           {
            "error_x": {
             "color": "#2a3f5f"
            },
            "error_y": {
             "color": "#2a3f5f"
            },
            "marker": {
             "line": {
              "color": "#E5ECF6",
              "width": 0.5
             },
             "pattern": {
              "fillmode": "overlay",
              "size": 10,
              "solidity": 0.2
             }
            },
            "type": "bar"
           }
          ],
          "barpolar": [
           {
            "marker": {
             "line": {
              "color": "#E5ECF6",
              "width": 0.5
             },
             "pattern": {
              "fillmode": "overlay",
              "size": 10,
              "solidity": 0.2
             }
            },
            "type": "barpolar"
           }
          ],
          "carpet": [
           {
            "aaxis": {
             "endlinecolor": "#2a3f5f",
             "gridcolor": "white",
             "linecolor": "white",
             "minorgridcolor": "white",
             "startlinecolor": "#2a3f5f"
            },
            "baxis": {
             "endlinecolor": "#2a3f5f",
             "gridcolor": "white",
             "linecolor": "white",
             "minorgridcolor": "white",
             "startlinecolor": "#2a3f5f"
            },
            "type": "carpet"
           }
          ],
          "choropleth": [
           {
            "colorbar": {
             "outlinewidth": 0,
             "ticks": ""
            },
            "type": "choropleth"
           }
          ],
          "contour": [
           {
            "colorbar": {
             "outlinewidth": 0,
             "ticks": ""
            },
            "colorscale": [
             [
              0,
              "#0d0887"
             ],
             [
              0.1111111111111111,
              "#46039f"
             ],
             [
              0.2222222222222222,
              "#7201a8"
             ],
             [
              0.3333333333333333,
              "#9c179e"
             ],
             [
              0.4444444444444444,
              "#bd3786"
             ],
             [
              0.5555555555555556,
              "#d8576b"
             ],
             [
              0.6666666666666666,
              "#ed7953"
             ],
             [
              0.7777777777777778,
              "#fb9f3a"
             ],
             [
              0.8888888888888888,
              "#fdca26"
             ],
             [
              1,
              "#f0f921"
             ]
            ],
            "type": "contour"
           }
          ],
          "contourcarpet": [
           {
            "colorbar": {
             "outlinewidth": 0,
             "ticks": ""
            },
            "type": "contourcarpet"
           }
          ],
          "heatmap": [
           {
            "colorbar": {
             "outlinewidth": 0,
             "ticks": ""
            },
            "colorscale": [
             [
              0,
              "#0d0887"
             ],
             [
              0.1111111111111111,
              "#46039f"
             ],
             [
              0.2222222222222222,
              "#7201a8"
             ],
             [
              0.3333333333333333,
              "#9c179e"
             ],
             [
              0.4444444444444444,
              "#bd3786"
             ],
             [
              0.5555555555555556,
              "#d8576b"
             ],
             [
              0.6666666666666666,
              "#ed7953"
             ],
             [
              0.7777777777777778,
              "#fb9f3a"
             ],
             [
              0.8888888888888888,
              "#fdca26"
             ],
             [
              1,
              "#f0f921"
             ]
            ],
            "type": "heatmap"
           }
          ],
          "heatmapgl": [
           {
            "colorbar": {
             "outlinewidth": 0,
             "ticks": ""
            },
            "colorscale": [
             [
              0,
              "#0d0887"
             ],
             [
              0.1111111111111111,
              "#46039f"
             ],
             [
              0.2222222222222222,
              "#7201a8"
             ],
             [
              0.3333333333333333,
              "#9c179e"
             ],
             [
              0.4444444444444444,
              "#bd3786"
             ],
             [
              0.5555555555555556,
              "#d8576b"
             ],
             [
              0.6666666666666666,
              "#ed7953"
             ],
             [
              0.7777777777777778,
              "#fb9f3a"
             ],
             [
              0.8888888888888888,
              "#fdca26"
             ],
             [
              1,
              "#f0f921"
             ]
            ],
            "type": "heatmapgl"
           }
          ],
          "histogram": [
           {
            "marker": {
             "pattern": {
              "fillmode": "overlay",
              "size": 10,
              "solidity": 0.2
             }
            },
            "type": "histogram"
           }
          ],
          "histogram2d": [
           {
            "colorbar": {
             "outlinewidth": 0,
             "ticks": ""
            },
            "colorscale": [
             [
              0,
              "#0d0887"
             ],
             [
              0.1111111111111111,
              "#46039f"
             ],
             [
              0.2222222222222222,
              "#7201a8"
             ],
             [
              0.3333333333333333,
              "#9c179e"
             ],
             [
              0.4444444444444444,
              "#bd3786"
             ],
             [
              0.5555555555555556,
              "#d8576b"
             ],
             [
              0.6666666666666666,
              "#ed7953"
             ],
             [
              0.7777777777777778,
              "#fb9f3a"
             ],
             [
              0.8888888888888888,
              "#fdca26"
             ],
             [
              1,
              "#f0f921"
             ]
            ],
            "type": "histogram2d"
           }
          ],
          "histogram2dcontour": [
           {
            "colorbar": {
             "outlinewidth": 0,
             "ticks": ""
            },
            "colorscale": [
             [
              0,
              "#0d0887"
             ],
             [
              0.1111111111111111,
              "#46039f"
             ],
             [
              0.2222222222222222,
              "#7201a8"
             ],
             [
              0.3333333333333333,
              "#9c179e"
             ],
             [
              0.4444444444444444,
              "#bd3786"
             ],
             [
              0.5555555555555556,
              "#d8576b"
             ],
             [
              0.6666666666666666,
              "#ed7953"
             ],
             [
              0.7777777777777778,
              "#fb9f3a"
             ],
             [
              0.8888888888888888,
              "#fdca26"
             ],
             [
              1,
              "#f0f921"
             ]
            ],
            "type": "histogram2dcontour"
           }
          ],
          "mesh3d": [
           {
            "colorbar": {
             "outlinewidth": 0,
             "ticks": ""
            },
            "type": "mesh3d"
           }
          ],
          "parcoords": [
           {
            "line": {
             "colorbar": {
              "outlinewidth": 0,
              "ticks": ""
             }
            },
            "type": "parcoords"
           }
          ],
          "pie": [
           {
            "automargin": true,
            "type": "pie"
           }
          ],
          "scatter": [
           {
            "fillpattern": {
             "fillmode": "overlay",
             "size": 10,
             "solidity": 0.2
            },
            "type": "scatter"
           }
          ],
          "scatter3d": [
           {
            "line": {
             "colorbar": {
              "outlinewidth": 0,
              "ticks": ""
             }
            },
            "marker": {
             "colorbar": {
              "outlinewidth": 0,
              "ticks": ""
             }
            },
            "type": "scatter3d"
           }
          ],
          "scattercarpet": [
           {
            "marker": {
             "colorbar": {
              "outlinewidth": 0,
              "ticks": ""
             }
            },
            "type": "scattercarpet"
           }
          ],
          "scattergeo": [
           {
            "marker": {
             "colorbar": {
              "outlinewidth": 0,
              "ticks": ""
             }
            },
            "type": "scattergeo"
           }
          ],
          "scattergl": [
           {
            "marker": {
             "colorbar": {
              "outlinewidth": 0,
              "ticks": ""
             }
            },
            "type": "scattergl"
           }
          ],
          "scattermapbox": [
           {
            "marker": {
             "colorbar": {
              "outlinewidth": 0,
              "ticks": ""
             }
            },
            "type": "scattermapbox"
           }
          ],
          "scatterpolar": [
           {
            "marker": {
             "colorbar": {
              "outlinewidth": 0,
              "ticks": ""
             }
            },
            "type": "scatterpolar"
           }
          ],
          "scatterpolargl": [
           {
            "marker": {
             "colorbar": {
              "outlinewidth": 0,
              "ticks": ""
             }
            },
            "type": "scatterpolargl"
           }
          ],
          "scatterternary": [
           {
            "marker": {
             "colorbar": {
              "outlinewidth": 0,
              "ticks": ""
             }
            },
            "type": "scatterternary"
           }
          ],
          "surface": [
           {
            "colorbar": {
             "outlinewidth": 0,
             "ticks": ""
            },
            "colorscale": [
             [
              0,
              "#0d0887"
             ],
             [
              0.1111111111111111,
              "#46039f"
             ],
             [
              0.2222222222222222,
              "#7201a8"
             ],
             [
              0.3333333333333333,
              "#9c179e"
             ],
             [
              0.4444444444444444,
              "#bd3786"
             ],
             [
              0.5555555555555556,
              "#d8576b"
             ],
             [
              0.6666666666666666,
              "#ed7953"
             ],
             [
              0.7777777777777778,
              "#fb9f3a"
             ],
             [
              0.8888888888888888,
              "#fdca26"
             ],
             [
              1,
              "#f0f921"
             ]
            ],
            "type": "surface"
           }
          ],
          "table": [
           {
            "cells": {
             "fill": {
              "color": "#EBF0F8"
             },
             "line": {
              "color": "white"
             }
            },
            "header": {
             "fill": {
              "color": "#C8D4E3"
             },
             "line": {
              "color": "white"
             }
            },
            "type": "table"
           }
          ]
         },
         "layout": {
          "annotationdefaults": {
           "arrowcolor": "#2a3f5f",
           "arrowhead": 0,
           "arrowwidth": 1
          },
          "autotypenumbers": "strict",
          "coloraxis": {
           "colorbar": {
            "outlinewidth": 0,
            "ticks": ""
           }
          },
          "colorscale": {
           "diverging": [
            [
             0,
             "#8e0152"
            ],
            [
             0.1,
             "#c51b7d"
            ],
            [
             0.2,
             "#de77ae"
            ],
            [
             0.3,
             "#f1b6da"
            ],
            [
             0.4,
             "#fde0ef"
            ],
            [
             0.5,
             "#f7f7f7"
            ],
            [
             0.6,
             "#e6f5d0"
            ],
            [
             0.7,
             "#b8e186"
            ],
            [
             0.8,
             "#7fbc41"
            ],
            [
             0.9,
             "#4d9221"
            ],
            [
             1,
             "#276419"
            ]
           ],
           "sequential": [
            [
             0,
             "#0d0887"
            ],
            [
             0.1111111111111111,
             "#46039f"
            ],
            [
             0.2222222222222222,
             "#7201a8"
            ],
            [
             0.3333333333333333,
             "#9c179e"
            ],
            [
             0.4444444444444444,
             "#bd3786"
            ],
            [
             0.5555555555555556,
             "#d8576b"
            ],
            [
             0.6666666666666666,
             "#ed7953"
            ],
            [
             0.7777777777777778,
             "#fb9f3a"
            ],
            [
             0.8888888888888888,
             "#fdca26"
            ],
            [
             1,
             "#f0f921"
            ]
           ],
           "sequentialminus": [
            [
             0,
             "#0d0887"
            ],
            [
             0.1111111111111111,
             "#46039f"
            ],
            [
             0.2222222222222222,
             "#7201a8"
            ],
            [
             0.3333333333333333,
             "#9c179e"
            ],
            [
             0.4444444444444444,
             "#bd3786"
            ],
            [
             0.5555555555555556,
             "#d8576b"
            ],
            [
             0.6666666666666666,
             "#ed7953"
            ],
            [
             0.7777777777777778,
             "#fb9f3a"
            ],
            [
             0.8888888888888888,
             "#fdca26"
            ],
            [
             1,
             "#f0f921"
            ]
           ]
          },
          "colorway": [
           "#636efa",
           "#EF553B",
           "#00cc96",
           "#ab63fa",
           "#FFA15A",
           "#19d3f3",
           "#FF6692",
           "#B6E880",
           "#FF97FF",
           "#FECB52"
          ],
          "font": {
           "color": "#2a3f5f"
          },
          "geo": {
           "bgcolor": "white",
           "lakecolor": "white",
           "landcolor": "#E5ECF6",
           "showlakes": true,
           "showland": true,
           "subunitcolor": "white"
          },
          "hoverlabel": {
           "align": "left"
          },
          "hovermode": "closest",
          "mapbox": {
           "style": "light"
          },
          "paper_bgcolor": "white",
          "plot_bgcolor": "#E5ECF6",
          "polar": {
           "angularaxis": {
            "gridcolor": "white",
            "linecolor": "white",
            "ticks": ""
           },
           "bgcolor": "#E5ECF6",
           "radialaxis": {
            "gridcolor": "white",
            "linecolor": "white",
            "ticks": ""
           }
          },
          "scene": {
           "xaxis": {
            "backgroundcolor": "#E5ECF6",
            "gridcolor": "white",
            "gridwidth": 2,
            "linecolor": "white",
            "showbackground": true,
            "ticks": "",
            "zerolinecolor": "white"
           },
           "yaxis": {
            "backgroundcolor": "#E5ECF6",
            "gridcolor": "white",
            "gridwidth": 2,
            "linecolor": "white",
            "showbackground": true,
            "ticks": "",
            "zerolinecolor": "white"
           },
           "zaxis": {
            "backgroundcolor": "#E5ECF6",
            "gridcolor": "white",
            "gridwidth": 2,
            "linecolor": "white",
            "showbackground": true,
            "ticks": "",
            "zerolinecolor": "white"
           }
          },
          "shapedefaults": {
           "line": {
            "color": "#2a3f5f"
           }
          },
          "ternary": {
           "aaxis": {
            "gridcolor": "white",
            "linecolor": "white",
            "ticks": ""
           },
           "baxis": {
            "gridcolor": "white",
            "linecolor": "white",
            "ticks": ""
           },
           "bgcolor": "#E5ECF6",
           "caxis": {
            "gridcolor": "white",
            "linecolor": "white",
            "ticks": ""
           }
          },
          "title": {
           "x": 0.05
          },
          "xaxis": {
           "automargin": true,
           "gridcolor": "white",
           "linecolor": "white",
           "ticks": "",
           "title": {
            "standoff": 15
           },
           "zerolinecolor": "white",
           "zerolinewidth": 2
          },
          "yaxis": {
           "automargin": true,
           "gridcolor": "white",
           "linecolor": "white",
           "ticks": "",
           "title": {
            "standoff": 15
           },
           "zerolinecolor": "white",
           "zerolinewidth": 2
          }
         }
        },
        "width": 700,
        "xaxis": {
         "anchor": "y",
         "autorange": true,
         "domain": [
          0,
          1
         ],
         "range": [
          -0.5,
          3.5
         ],
         "title": {
          "text": "Estate_Type"
         },
         "type": "category"
        },
        "xaxis2": {
         "anchor": "y2",
         "autorange": true,
         "domain": [
          0,
          1
         ],
         "matches": "x",
         "range": [
          -0.5,
          3.5
         ],
         "showgrid": true,
         "showticklabels": false,
         "type": "category"
        },
        "yaxis": {
         "anchor": "x",
         "autorange": true,
         "domain": [
          0,
          0.8316
         ],
         "range": [
          0,
          191.57894736842104
         ],
         "title": {
          "text": "count"
         }
        },
        "yaxis2": {
         "anchor": "x2",
         "autorange": true,
         "domain": [
          0.8416,
          1
         ],
         "matches": "y2",
         "range": [
          -0.5,
          0.5
         ],
         "showgrid": false,
         "showline": false,
         "showticklabels": false,
         "ticks": "",
         "type": "category"
        }
       }
      },
      "image/png": "[encoded data removed]",
      "text/html": [
       "<div>                            <div id=\"ff349f12-3306-47f8-b90e-85869321422d\" class=\"plotly-graph-div\" style=\"height:400px; width:700px;\"></div>            <script type=\"text/javascript\">                require([\"plotly\"], function(Plotly) {                    window.PLOTLYENV=window.PLOTLYENV || {};                                    if (document.getElementById(\"ff349f12-3306-47f8-b90e-85869321422d\")) {                    Plotly.newPlot(                        \"ff349f12-3306-47f8-b90e-85869321422d\",                        [{\"alignmentgroup\":\"True\",\"bingroup\":\"x\",\"hovertemplate\":\"Estate_Type=%{x}<br>count=%{y}<extra></extra>\",\"legendgroup\":\"\",\"marker\":{\"color\":\"#636efa\",\"pattern\":{\"shape\":\"\"}},\"name\":\"\",\"offsetgroup\":\"\",\"orientation\":\"v\",\"showlegend\":false,\"x\":[\" 2-room\",\" 3-room\",\" 3-room\",\" 2-room\",\" 3-room\",\" 3-room\",\" 3-room\",\" 3-room\",\" 1-room\",\" 2-room\",\" 2-room\",\" 3-room\",\" 3-room\",\" 2-room\",\" 3-room\",\" 2-room\",\" 2-room\",\" 2-room\",\" 2-room\",\" 3-room\",\" 3-room\",\" 3-room\",\" 2-room\",\" 3-room\",\" 3-room\",\" 3-room\",\" 3-room\",\" 3-room\",\" 3-room\",\" 2-room\",\" 2-room\",\" 2-room\",\" 3-room\",\" 3-room\",\" 3-room\",\" 3-room\",\" 3-room\",\" 1-room\",\" 1-room\",\" 1-room\",\" 1-room\",\" 1-room\",\" 1-room\",\" 1-room\",\" 1-room\",\" 1-room\",\" 1-room\",\" 2-room\",\" 1-room\",\" 1-room\",\" 1-room\",\" 1-room\",\" 3-room\",\" 2-room\",\" 2-room\",\" 1-room\",\" 2-room\",\" 2-room\",\" 1-room\",\" 2-room\",\" 2-room\",\" 2-room\",\" 2-room\",\" 2-room\",\" 2-room\",\" 2-room\",\" 2-room\",\" 4-room\",\" 1-room\",\" 2-room\",\" 2-room\",\" 2-room\",\" 2-room\",\" 2-room\",\" 1-room\",\" 2-room\",\" 2-room\",\" 2-room\",\" 2-room\",\" 2-room\",\" 2-room\",\" 2-room\",\" 2-room\",\" 2-room\",\" 2-room\",\" 2-room\",\" 2-room\",\" 2-room\",\" 2-room\",\" 2-room\",\" 2-room\",\" 2-room\",\" 2-room\",\" 2-room\",\" 1-room\",\" 2-room\",\" 2-room\",\" 2-room\",\" 2-room\",\" 2-room\",\" 2-room\",\" 2-room\",\" 1-room\",\" 3-room\",\" 3-room\",\" 2-room\",\" 3-room\",\" 2-room\",\" 2-room\",\" 2-room\",\" 2-room\",\" 2-room\",\" 2-room\",\" 2-room\",\" 2-room\",\" 3-room\",\" 3-room\",\" 2-room\",\" 3-room\",\" 2-room\",\" 4-room\",\" 2-room\",\" 3-room\",\" 3-room\",\" 2-room\",\" 2-room\",\" 2-room\",\" 2-room\",\" 2-room\",\" 3-room\",\" 3-room\",\" 2-room\",\" 3-room\",\" 2-room\",\" 2-room\",\" 2-room\",\" 2-room\",\" 2-room\",\" 3-room\",\" 3-room\",\" 2-room\",\" 3-room\",\" 2-room\",\" 3-room\",\" 3-room\",\" 2-room\",\" 2-room\",\" 2-room\",\" 2-room\",\" 2-room\",\" 2-room\",\" 2-room\",\" 2-room\",\" 3-room\",\" 3-room\",\" 3-room\",\" 3-room\",\" 2-room\",\" 3-room\",\" 3-room\",\" 2-room\",\" 3-room\",\" 3-room\",\" 3-room\",\" 3-room\",\" 3-room\",\" 3-room\",\" 3-room\",\" 3-room\",\" 2-room\",\" 3-room\",\" 3-room\",\" 2-room\",\" 3-room\",\" 3-room\",\" 3-room\",\" 2-room\",\" 2-room\",\" 2-room\",\" 4-room\",\" 3-room\",\" 3-room\",\" 3-room\",\" 3-room\",\" 2-room\",\" 3-room\",\" 3-room\",\" 2-room\",\" 3-room\",\" 3-room\",\" 2-room\",\" 2-room\",\" 3-room\",\" 3-room\",\" 3-room\",\" 3-room\",\" 3-room\",\" 4-room\",\" 2-room\",\" 2-room\",\" 3-room\",\" 3-room\",\" 2-room\",\" 3-room\",\" 3-room\",\" 3-room\",\" 3-room\",\" 3-room\",\" 3-room\",\" 2-room\",\" 2-room\",\" 3-room\",\" 4-room\",\" 2-room\",\" 3-room\",\" 3-room\",\" 3-room\",\" 3-room\",\" 3-room\",\" 2-room\",\" 3-room\",\" 3-room\",\" 3-room\",\" 3-room\",\" 3-room\",\" 3-room\",\" 3-room\",\" 3-room\",\" 3-room\",\" 4-room\",\" 3-room\",\" 3-room\",\" 3-room\",\" 3-room\",\" 3-room\",\" 3-room\",\" 3-room\",\" 3-room\",\" 2-room\",\" 3-room\",\" 3-room\",\" 3-room\",\" 3-room\",\" 3-room\",\" 2-room\",\" 3-room\",\" 3-room\",\" 4-room\",\" 3-room\",\" 3-room\",\" 3-room\",\" 3-room\",\" 3-room\",\" 3-room\",\" 2-room\",\" 3-room\",\" 2-room\",\" 3-room\",\" 3-room\",\" 3-room\",\" 3-room\",\" 3-room\",\" 3-room\",\" 2-room\",\" 3-room\",\" 3-room\",\" 2-room\",\" 3-room\",\" 3-room\",\" 3-room\",\" 3-room\",\" 3-room\",\" 3-room\",\" 3-room\",\" 3-room\",\" 3-room\",\" 3-room\",\" 3-room\",\" 3-room\",\" 3-room\",\" 3-room\",\" 3-room\",\" 3-room\",\" 3-room\",\" 3-room\",\" 3-room\",\" 4-room\",\" 3-room\",\" 4-room\",\" 3-room\",\" 3-room\",\" 3-room\",\" 4-room\",\" 4-room\",\" 4-room\",\" 3-room\",\" 3-room\",\" 4-room\",\" 3-room\",\" 4-room\",\" 3-room\",\" 3-room\",\" 4-room\",\" 3-room\",\" 4-room\",\" 3-room\",\" 3-room\",\" 3-room\",\" 3-room\",\" 4-room\",\" 3-room\",\" 3-room\",\" 3-room\",\" 3-room\",\" 3-room\",\" 3-room\",\" 3-room\",\" 3-room\",\" 3-room\",\" 3-room\",\" 4-room\",\" 4-room\",\" 4-room\",\" 3-room\",\" 3-room\",\" 3-room\",\" 3-room\",\" 3-room\",\" 3-room\",\" 3-room\",\" 3-room\",\" 4-room\",\" 4-room\",\" 3-room\",\" 3-room\",\" 3-room\",\" 4-room\",\" 4-room\",\" 4-room\",\" 3-room\",\" 4-room\",\" 3-room\",\" 4-room\",\" 3-room\"],\"xaxis\":\"x\",\"yaxis\":\"y\",\"type\":\"histogram\"},{\"alignmentgroup\":\"True\",\"hovertemplate\":\"Estate_Type=%{x}<extra></extra>\",\"legendgroup\":\"\",\"marker\":{\"color\":\"#636efa\"},\"name\":\"\",\"notched\":true,\"offsetgroup\":\"\",\"showlegend\":false,\"x\":[\" 2-room\",\" 3-room\",\" 3-room\",\" 2-room\",\" 3-room\",\" 3-room\",\" 3-room\",\" 3-room\",\" 1-room\",\" 2-room\",\" 2-room\",\" 3-room\",\" 3-room\",\" 2-room\",\" 3-room\",\" 2-room\",\" 2-room\",\" 2-room\",\" 2-room\",\" 3-room\",\" 3-room\",\" 3-room\",\" 2-room\",\" 3-room\",\" 3-room\",\" 3-room\",\" 3-room\",\" 3-room\",\" 3-room\",\" 2-room\",\" 2-room\",\" 2-room\",\" 3-room\",\" 3-room\",\" 3-room\",\" 3-room\",\" 3-room\",\" 1-room\",\" 1-room\",\" 1-room\",\" 1-room\",\" 1-room\",\" 1-room\",\" 1-room\",\" 1-room\",\" 1-room\",\" 1-room\",\" 2-room\",\" 1-room\",\" 1-room\",\" 1-room\",\" 1-room\",\" 3-room\",\" 2-room\",\" 2-room\",\" 1-room\",\" 2-room\",\" 2-room\",\" 1-room\",\" 2-room\",\" 2-room\",\" 2-room\",\" 2-room\",\" 2-room\",\" 2-room\",\" 2-room\",\" 2-room\",\" 4-room\",\" 1-room\",\" 2-room\",\" 2-room\",\" 2-room\",\" 2-room\",\" 2-room\",\" 1-room\",\" 2-room\",\" 2-room\",\" 2-room\",\" 2-room\",\" 2-room\",\" 2-room\",\" 2-room\",\" 2-room\",\" 2-room\",\" 2-room\",\" 2-room\",\" 2-room\",\" 2-room\",\" 2-room\",\" 2-room\",\" 2-room\",\" 2-room\",\" 2-room\",\" 2-room\",\" 1-room\",\" 2-room\",\" 2-room\",\" 2-room\",\" 2-room\",\" 2-room\",\" 2-room\",\" 2-room\",\" 1-room\",\" 3-room\",\" 3-room\",\" 2-room\",\" 3-room\",\" 2-room\",\" 2-room\",\" 2-room\",\" 2-room\",\" 2-room\",\" 2-room\",\" 2-room\",\" 2-room\",\" 3-room\",\" 3-room\",\" 2-room\",\" 3-room\",\" 2-room\",\" 4-room\",\" 2-room\",\" 3-room\",\" 3-room\",\" 2-room\",\" 2-room\",\" 2-room\",\" 2-room\",\" 2-room\",\" 3-room\",\" 3-room\",\" 2-room\",\" 3-room\",\" 2-room\",\" 2-room\",\" 2-room\",\" 2-room\",\" 2-room\",\" 3-room\",\" 3-room\",\" 2-room\",\" 3-room\",\" 2-room\",\" 3-room\",\" 3-room\",\" 2-room\",\" 2-room\",\" 2-room\",\" 2-room\",\" 2-room\",\" 2-room\",\" 2-room\",\" 2-room\",\" 3-room\",\" 3-room\",\" 3-room\",\" 3-room\",\" 2-room\",\" 3-room\",\" 3-room\",\" 2-room\",\" 3-room\",\" 3-room\",\" 3-room\",\" 3-room\",\" 3-room\",\" 3-room\",\" 3-room\",\" 3-room\",\" 2-room\",\" 3-room\",\" 3-room\",\" 2-room\",\" 3-room\",\" 3-room\",\" 3-room\",\" 2-room\",\" 2-room\",\" 2-room\",\" 4-room\",\" 3-room\",\" 3-room\",\" 3-room\",\" 3-room\",\" 2-room\",\" 3-room\",\" 3-room\",\" 2-room\",\" 3-room\",\" 3-room\",\" 2-room\",\" 2-room\",\" 3-room\",\" 3-room\",\" 3-room\",\" 3-room\",\" 3-room\",\" 4-room\",\" 2-room\",\" 2-room\",\" 3-room\",\" 3-room\",\" 2-room\",\" 3-room\",\" 3-room\",\" 3-room\",\" 3-room\",\" 3-room\",\" 3-room\",\" 2-room\",\" 2-room\",\" 3-room\",\" 4-room\",\" 2-room\",\" 3-room\",\" 3-room\",\" 3-room\",\" 3-room\",\" 3-room\",\" 2-room\",\" 3-room\",\" 3-room\",\" 3-room\",\" 3-room\",\" 3-room\",\" 3-room\",\" 3-room\",\" 3-room\",\" 3-room\",\" 4-room\",\" 3-room\",\" 3-room\",\" 3-room\",\" 3-room\",\" 3-room\",\" 3-room\",\" 3-room\",\" 3-room\",\" 2-room\",\" 3-room\",\" 3-room\",\" 3-room\",\" 3-room\",\" 3-room\",\" 2-room\",\" 3-room\",\" 3-room\",\" 4-room\",\" 3-room\",\" 3-room\",\" 3-room\",\" 3-room\",\" 3-room\",\" 3-room\",\" 2-room\",\" 3-room\",\" 2-room\",\" 3-room\",\" 3-room\",\" 3-room\",\" 3-room\",\" 3-room\",\" 3-room\",\" 2-room\",\" 3-room\",\" 3-room\",\" 2-room\",\" 3-room\",\" 3-room\",\" 3-room\",\" 3-room\",\" 3-room\",\" 3-room\",\" 3-room\",\" 3-room\",\" 3-room\",\" 3-room\",\" 3-room\",\" 3-room\",\" 3-room\",\" 3-room\",\" 3-room\",\" 3-room\",\" 3-room\",\" 3-room\",\" 3-room\",\" 4-room\",\" 3-room\",\" 4-room\",\" 3-room\",\" 3-room\",\" 3-room\",\" 4-room\",\" 4-room\",\" 4-room\",\" 3-room\",\" 3-room\",\" 4-room\",\" 3-room\",\" 4-room\",\" 3-room\",\" 3-room\",\" 4-room\",\" 3-room\",\" 4-room\",\" 3-room\",\" 3-room\",\" 3-room\",\" 3-room\",\" 4-room\",\" 3-room\",\" 3-room\",\" 3-room\",\" 3-room\",\" 3-room\",\" 3-room\",\" 3-room\",\" 3-room\",\" 3-room\",\" 3-room\",\" 4-room\",\" 4-room\",\" 4-room\",\" 3-room\",\" 3-room\",\" 3-room\",\" 3-room\",\" 3-room\",\" 3-room\",\" 3-room\",\" 3-room\",\" 4-room\",\" 4-room\",\" 3-room\",\" 3-room\",\" 3-room\",\" 4-room\",\" 4-room\",\" 4-room\",\" 3-room\",\" 4-room\",\" 3-room\",\" 4-room\",\" 3-room\"],\"xaxis\":\"x2\",\"yaxis\":\"y2\",\"type\":\"box\"}],                        {\"template\":{\"data\":{\"histogram2dcontour\":[{\"type\":\"histogram2dcontour\",\"colorbar\":{\"outlinewidth\":0,\"ticks\":\"\"},\"colorscale\":[[0.0,\"#0d0887\"],[0.1111111111111111,\"#46039f\"],[0.2222222222222222,\"#7201a8\"],[0.3333333333333333,\"#9c179e\"],[0.4444444444444444,\"#bd3786\"],[0.5555555555555556,\"#d8576b\"],[0.6666666666666666,\"#ed7953\"],[0.7777777777777778,\"#fb9f3a\"],[0.8888888888888888,\"#fdca26\"],[1.0,\"#f0f921\"]]}],\"choropleth\":[{\"type\":\"choropleth\",\"colorbar\":{\"outlinewidth\":0,\"ticks\":\"\"}}],\"histogram2d\":[{\"type\":\"histogram2d\",\"colorbar\":{\"outlinewidth\":0,\"ticks\":\"\"},\"colorscale\":[[0.0,\"#0d0887\"],[0.1111111111111111,\"#46039f\"],[0.2222222222222222,\"#7201a8\"],[0.3333333333333333,\"#9c179e\"],[0.4444444444444444,\"#bd3786\"],[0.5555555555555556,\"#d8576b\"],[0.6666666666666666,\"#ed7953\"],[0.7777777777777778,\"#fb9f3a\"],[0.8888888888888888,\"#fdca26\"],[1.0,\"#f0f921\"]]}],\"heatmap\":[{\"type\":\"heatmap\",\"colorbar\":{\"outlinewidth\":0,\"ticks\":\"\"},\"colorscale\":[[0.0,\"#0d0887\"],[0.1111111111111111,\"#46039f\"],[0.2222222222222222,\"#7201a8\"],[0.3333333333333333,\"#9c179e\"],[0.4444444444444444,\"#bd3786\"],[0.5555555555555556,\"#d8576b\"],[0.6666666666666666,\"#ed7953\"],[0.7777777777777778,\"#fb9f3a\"],[0.8888888888888888,\"#fdca26\"],[1.0,\"#f0f921\"]]}],\"heatmapgl\":[{\"type\":\"heatmapgl\",\"colorbar\":{\"outlinewidth\":0,\"ticks\":\"\"},\"colorscale\":[[0.0,\"#0d0887\"],[0.1111111111111111,\"#46039f\"],[0.2222222222222222,\"#7201a8\"],[0.3333333333333333,\"#9c179e\"],[0.4444444444444444,\"#bd3786\"],[0.5555555555555556,\"#d8576b\"],[0.6666666666666666,\"#ed7953\"],[0.7777777777777778,\"#fb9f3a\"],[0.8888888888888888,\"#fdca26\"],[1.0,\"#f0f921\"]]}],\"contourcarpet\":[{\"type\":\"contourcarpet\",\"colorbar\":{\"outlinewidth\":0,\"ticks\":\"\"}}],\"contour\":[{\"type\":\"contour\",\"colorbar\":{\"outlinewidth\":0,\"ticks\":\"\"},\"colorscale\":[[0.0,\"#0d0887\"],[0.1111111111111111,\"#46039f\"],[0.2222222222222222,\"#7201a8\"],[0.3333333333333333,\"#9c179e\"],[0.4444444444444444,\"#bd3786\"],[0.5555555555555556,\"#d8576b\"],[0.6666666666666666,\"#ed7953\"],[0.7777777777777778,\"#fb9f3a\"],[0.8888888888888888,\"#fdca26\"],[1.0,\"#f0f921\"]]}],\"surface\":[{\"type\":\"surface\",\"colorbar\":{\"outlinewidth\":0,\"ticks\":\"\"},\"colorscale\":[[0.0,\"#0d0887\"],[0.1111111111111111,\"#46039f\"],[0.2222222222222222,\"#7201a8\"],[0.3333333333333333,\"#9c179e\"],[0.4444444444444444,\"#bd3786\"],[0.5555555555555556,\"#d8576b\"],[0.6666666666666666,\"#ed7953\"],[0.7777777777777778,\"#fb9f3a\"],[0.8888888888888888,\"#fdca26\"],[1.0,\"#f0f921\"]]}],\"mesh3d\":[{\"type\":\"mesh3d\",\"colorbar\":{\"outlinewidth\":0,\"ticks\":\"\"}}],\"scatter\":[{\"fillpattern\":{\"fillmode\":\"overlay\",\"size\":10,\"solidity\":0.2},\"type\":\"scatter\"}],\"parcoords\":[{\"type\":\"parcoords\",\"line\":{\"colorbar\":{\"outlinewidth\":0,\"ticks\":\"\"}}}],\"scatterpolargl\":[{\"type\":\"scatterpolargl\",\"marker\":{\"colorbar\":{\"outlinewidth\":0,\"ticks\":\"\"}}}],\"bar\":[{\"error_x\":{\"color\":\"#2a3f5f\"},\"error_y\":{\"color\":\"#2a3f5f\"},\"marker\":{\"line\":{\"color\":\"#E5ECF6\",\"width\":0.5},\"pattern\":{\"fillmode\":\"overlay\",\"size\":10,\"solidity\":0.2}},\"type\":\"bar\"}],\"scattergeo\":[{\"type\":\"scattergeo\",\"marker\":{\"colorbar\":{\"outlinewidth\":0,\"ticks\":\"\"}}}],\"scatterpolar\":[{\"type\":\"scatterpolar\",\"marker\":{\"colorbar\":{\"outlinewidth\":0,\"ticks\":\"\"}}}],\"histogram\":[{\"marker\":{\"pattern\":{\"fillmode\":\"overlay\",\"size\":10,\"solidity\":0.2}},\"type\":\"histogram\"}],\"scattergl\":[{\"type\":\"scattergl\",\"marker\":{\"colorbar\":{\"outlinewidth\":0,\"ticks\":\"\"}}}],\"scatter3d\":[{\"type\":\"scatter3d\",\"line\":{\"colorbar\":{\"outlinewidth\":0,\"ticks\":\"\"}},\"marker\":{\"colorbar\":{\"outlinewidth\":0,\"ticks\":\"\"}}}],\"scattermapbox\":[{\"type\":\"scattermapbox\",\"marker\":{\"colorbar\":{\"outlinewidth\":0,\"ticks\":\"\"}}}],\"scatterternary\":[{\"type\":\"scatterternary\",\"marker\":{\"colorbar\":{\"outlinewidth\":0,\"ticks\":\"\"}}}],\"scattercarpet\":[{\"type\":\"scattercarpet\",\"marker\":{\"colorbar\":{\"outlinewidth\":0,\"ticks\":\"\"}}}],\"carpet\":[{\"aaxis\":{\"endlinecolor\":\"#2a3f5f\",\"gridcolor\":\"white\",\"linecolor\":\"white\",\"minorgridcolor\":\"white\",\"startlinecolor\":\"#2a3f5f\"},\"baxis\":{\"endlinecolor\":\"#2a3f5f\",\"gridcolor\":\"white\",\"linecolor\":\"white\",\"minorgridcolor\":\"white\",\"startlinecolor\":\"#2a3f5f\"},\"type\":\"carpet\"}],\"table\":[{\"cells\":{\"fill\":{\"color\":\"#EBF0F8\"},\"line\":{\"color\":\"white\"}},\"header\":{\"fill\":{\"color\":\"#C8D4E3\"},\"line\":{\"color\":\"white\"}},\"type\":\"table\"}],\"barpolar\":[{\"marker\":{\"line\":{\"color\":\"#E5ECF6\",\"width\":0.5},\"pattern\":{\"fillmode\":\"overlay\",\"size\":10,\"solidity\":0.2}},\"type\":\"barpolar\"}],\"pie\":[{\"automargin\":true,\"type\":\"pie\"}]},\"layout\":{\"autotypenumbers\":\"strict\",\"colorway\":[\"#636efa\",\"#EF553B\",\"#00cc96\",\"#ab63fa\",\"#FFA15A\",\"#19d3f3\",\"#FF6692\",\"#B6E880\",\"#FF97FF\",\"#FECB52\"],\"font\":{\"color\":\"#2a3f5f\"},\"hovermode\":\"closest\",\"hoverlabel\":{\"align\":\"left\"},\"paper_bgcolor\":\"white\",\"plot_bgcolor\":\"#E5ECF6\",\"polar\":{\"bgcolor\":\"#E5ECF6\",\"angularaxis\":{\"gridcolor\":\"white\",\"linecolor\":\"white\",\"ticks\":\"\"},\"radialaxis\":{\"gridcolor\":\"white\",\"linecolor\":\"white\",\"ticks\":\"\"}},\"ternary\":{\"bgcolor\":\"#E5ECF6\",\"aaxis\":{\"gridcolor\":\"white\",\"linecolor\":\"white\",\"ticks\":\"\"},\"baxis\":{\"gridcolor\":\"white\",\"linecolor\":\"white\",\"ticks\":\"\"},\"caxis\":{\"gridcolor\":\"white\",\"linecolor\":\"white\",\"ticks\":\"\"}},\"coloraxis\":{\"colorbar\":{\"outlinewidth\":0,\"ticks\":\"\"}},\"colorscale\":{\"sequential\":[[0.0,\"#0d0887\"],[0.1111111111111111,\"#46039f\"],[0.2222222222222222,\"#7201a8\"],[0.3333333333333333,\"#9c179e\"],[0.4444444444444444,\"#bd3786\"],[0.5555555555555556,\"#d8576b\"],[0.6666666666666666,\"#ed7953\"],[0.7777777777777778,\"#fb9f3a\"],[0.8888888888888888,\"#fdca26\"],[1.0,\"#f0f921\"]],\"sequentialminus\":[[0.0,\"#0d0887\"],[0.1111111111111111,\"#46039f\"],[0.2222222222222222,\"#7201a8\"],[0.3333333333333333,\"#9c179e\"],[0.4444444444444444,\"#bd3786\"],[0.5555555555555556,\"#d8576b\"],[0.6666666666666666,\"#ed7953\"],[0.7777777777777778,\"#fb9f3a\"],[0.8888888888888888,\"#fdca26\"],[1.0,\"#f0f921\"]],\"diverging\":[[0,\"#8e0152\"],[0.1,\"#c51b7d\"],[0.2,\"#de77ae\"],[0.3,\"#f1b6da\"],[0.4,\"#fde0ef\"],[0.5,\"#f7f7f7\"],[0.6,\"#e6f5d0\"],[0.7,\"#b8e186\"],[0.8,\"#7fbc41\"],[0.9,\"#4d9221\"],[1,\"#276419\"]]},\"xaxis\":{\"gridcolor\":\"white\",\"linecolor\":\"white\",\"ticks\":\"\",\"title\":{\"standoff\":15},\"zerolinecolor\":\"white\",\"automargin\":true,\"zerolinewidth\":2},\"yaxis\":{\"gridcolor\":\"white\",\"linecolor\":\"white\",\"ticks\":\"\",\"title\":{\"standoff\":15},\"zerolinecolor\":\"white\",\"automargin\":true,\"zerolinewidth\":2},\"scene\":{\"xaxis\":{\"backgroundcolor\":\"#E5ECF6\",\"gridcolor\":\"white\",\"linecolor\":\"white\",\"showbackground\":true,\"ticks\":\"\",\"zerolinecolor\":\"white\",\"gridwidth\":2},\"yaxis\":{\"backgroundcolor\":\"#E5ECF6\",\"gridcolor\":\"white\",\"linecolor\":\"white\",\"showbackground\":true,\"ticks\":\"\",\"zerolinecolor\":\"white\",\"gridwidth\":2},\"zaxis\":{\"backgroundcolor\":\"#E5ECF6\",\"gridcolor\":\"white\",\"linecolor\":\"white\",\"showbackground\":true,\"ticks\":\"\",\"zerolinecolor\":\"white\",\"gridwidth\":2}},\"shapedefaults\":{\"line\":{\"color\":\"#2a3f5f\"}},\"annotationdefaults\":{\"arrowcolor\":\"#2a3f5f\",\"arrowhead\":0,\"arrowwidth\":1},\"geo\":{\"bgcolor\":\"white\",\"landcolor\":\"#E5ECF6\",\"subunitcolor\":\"white\",\"showland\":true,\"showlakes\":true,\"lakecolor\":\"white\"},\"title\":{\"x\":0.05},\"mapbox\":{\"style\":\"light\"}}},\"xaxis\":{\"anchor\":\"y\",\"domain\":[0.0,1.0],\"title\":{\"text\":\"Estate_Type\"}},\"yaxis\":{\"anchor\":\"x\",\"domain\":[0.0,0.8316],\"title\":{\"text\":\"count\"}},\"xaxis2\":{\"anchor\":\"y2\",\"domain\":[0.0,1.0],\"matches\":\"x\",\"showticklabels\":false,\"showgrid\":true},\"yaxis2\":{\"anchor\":\"x2\",\"domain\":[0.8416,1.0],\"matches\":\"y2\",\"showticklabels\":false,\"showline\":false,\"ticks\":\"\",\"showgrid\":false},\"legend\":{\"tracegroupgap\":0},\"margin\":{\"t\":60},\"barmode\":\"relative\",\"height\":400,\"width\":700},                        {\"responsive\": true}                    ).then(function(){\n",
       "                            \n",
       "var gd = document.getElementById('ff349f12-3306-47f8-b90e-85869321422d');\n",
       "var x = new MutationObserver(function (mutations, observer) {{\n",
       "        var display = window.getComputedStyle(gd).display;\n",
       "        if (!display || display === 'none') {{\n",
       "            console.log([gd, 'removed!']);\n",
       "            Plotly.purge(gd);\n",
       "            observer.disconnect();\n",
       "        }}\n",
       "}});\n",
       "\n",
       "// Listen for the removal of the full notebook cells\n",
       "var notebookContainer = gd.closest('#notebook-container');\n",
       "if (notebookContainer) {{\n",
       "    x.observe(notebookContainer, {childList: true});\n",
       "}}\n",
       "\n",
       "// Listen for the clearing of the current output cell\n",
       "var outputEl = gd.closest('.output');\n",
       "if (outputEl) {{\n",
       "    x.observe(outputEl, {childList: true});\n",
       "}}\n",
       "\n",
       "                        })                };                });            </script>        </div>"
      ]
     },
     "metadata": {},
     "output_type": "display_data"
    }
   ],
   "source": [
    "import plotly.express as px\n",
    "fig = px.histogram(df_estate_collection_all, x='Estate_Type', marginal=\"box\",width=700, height=400)\n",
    "fig.show()"
   ]
  },
  {
   "cell_type": "code",
   "execution_count": null,
   "id": "65348e0a-26ff-4eed-82cd-94757120162d",
   "metadata": {},
   "outputs": [],
   "source": []
  }
 ],
 "metadata": {
  "kernelspec": {
   "display_name": "Python 3 (ipykernel)",
   "language": "python",
   "name": "python3"
  },
  "language_info": {
   "codemirror_mode": {
    "name": "ipython",
    "version": 3
   },
   "file_extension": ".py",
   "mimetype": "text/x-python",
   "name": "python",
   "nbconvert_exporter": "python",
   "pygments_lexer": "ipython3",
   "version": "3.8.12"
  }
 },
 "nbformat": 4,
 "nbformat_minor": 5
}
