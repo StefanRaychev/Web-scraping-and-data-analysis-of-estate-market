{
 "cells": [
  {
   "cell_type": "code",
   "execution_count": 1,
   "id": "8a0d565b-2604-4169-818f-d6d80dd508e4",
   "metadata": {},
   "outputs": [],
   "source": [
    "import warnings\n",
    "\n",
    "import pandas as pd\n",
    "from pandas import DataFrame\n",
    "import numpy as np\n",
    "\n",
    "import requests\n",
    "from bs4 import BeautifulSoup\n",
    "\n",
    "warnings.filterwarnings('ignore')"
   ]
  },
  {
   "cell_type": "markdown",
   "id": "5a17afb4-590b-4a36-9cb5-01a43f8a29ad",
   "metadata": {},
   "source": [
    "<h1 style=\"color:black; background-color:white; padding:10px; padding-bottom:10px;text-align: center;\">The role of web scraping in data analysis of estate market</h1>"
   ]
  },
  {
   "cell_type": "markdown",
   "id": "8255260b-34ec-4158-a2ff-f8945274508f",
   "metadata": {},
   "source": [
    "<h2 style=\"color:black; background-color:white; padding:5px; padding-bottom:10px; margin-bottom:-10px\">I. Introduction</h2>\n",
    "<p style=\"color:black; background-color:white; padding:5px; padding-bottom:20px;margin-bottom:-10px\">\n",
    "In the era of Big Data, businesses and researchers are constantly seeking valuable insights and meaningful information hidden within vast amounts of online data. One of the most powerful tools at their disposal is web scraping, a technique that plays a crucial role in extracting and analyzing data from websites. Web scraping enables the automated retrieval of structured data from web pages, transforming unstructured information into valuable datasets for further analysis.\n",
    "<p style=\"color:black; background-color:white; padding:5px;padding-bottom:20px;margin-bottom:-10px\">\n",
    "Web scraping has become increasingly important in data analysis due to several key reasons. First and foremost, the internet is a treasure trove of valuable information. Websites contain a wealth of data ranging from product prices and customer reviews to news articles and social media posts. By leveraging web scraping techniques, analysts can collect, aggregate, and analyze this data at scale, providing valuable insights and a competitive edge.</p>\n",
    "<p style=\"color:black; background-color:white; padding:5px;padding-bottom:20px;margin-bottom:-10px\">Furthermore, web scraping allows analysts to access data from multiple sources, regardless of whether those sources provide APIs or data feeds. While some websites offer dedicated APIs, many do not, making web scraping the go-to solution for acquiring data that would otherwise be inaccessible. This accessibility to a wide range of data sources empowers analysts to conduct comprehensive and cross-domain research, uncovering trends, patterns, and correlations that were previously out of reach.</p>\n",
    "<p style=\"color:black; background-color:white; padding:5px;padding-bottom:20px;margin-bottom:-10px\">Another crucial aspect of web scraping in data analysis is the ability to monitor and track changes in online data over time. Businesses can utilize web scraping to keep an eye on competitors, monitor market dynamics, and gather valuable intelligence. By tracking changes in pricing, product availability, or customer sentiment, organizations can make data-driven decisions, adapt their strategies, and stay ahead in a rapidly evolving marketplace.</p>\n",
    "<p style=\"color:black; background-color:white; padding:5px;padding-bottom:20px;margin-bottom:-10px\">Moreover, web scraping enables the creation of large-scale datasets for training machine learning models and other data-driven applications. By systematically collecting data from diverse sources, analysts can build robust models that can automate tasks, make predictions, and provide valuable recommendations. This integration of web scraping and machine learning opens up new avenues for innovation and enables organizations to leverage the power of artificial intelligence in their data analysis workflows.</p>\n",
    "<p style=\"color:black; background-color:white; padding:5px;\">In summary, web scraping plays a vital role in data analysis by unlocking the potential of online data. It empowers analysts to access, collect, and analyze vast amounts of data from various sources, providing valuable insights and driving data-driven decision-making. As businesses strive to stay competitive in the digital age, harnessing the power of web scraping has become an indispensable tool for extracting knowledge from the web and uncovering hidden opportunities for growth and success.</p>"
   ]
  },
  {
   "cell_type": "markdown",
   "id": "1e67c905-3c24-4cfd-bda1-2783d60057fb",
   "metadata": {},
   "source": [
    "<h2 style=\"color:black; background-color:white; padding:5px; padding-bottom:10px; margin-bottom:-10px\">II. Methodology</h2>\n",
    "<p style=\"color:black; background-color:white; padding:5px; padding-bottom:20px;margin-bottom:-10px\">\n",
    "The methodology employed in this study aims to demonstrate the significance of web scraping in data analysis by utilizing the powerful BeautifulSoup library for extracting data from a real estate website in Bulgaria. Specifically, the focus will be on gathering data related to various types of flats in the city of Pazardzhik, including their prices.\n",
    "<p style=\"color:black; background-color:white; padding:5px;padding-bottom:20px;margin-bottom:-10px\">\n",
    "The first step involves using web scraping techniques with BeautifulSoup to extract the desired data from the target website. By parsing the HTML content of the web pages, relevant information such as flat types and their corresponding prices will be systematically collected and organized.</p>\n",
    "<p style=\"color:black; background-color:white; padding:5px;padding-bottom:20px;margin-bottom:-10px\">\n",
    "Once the data collection phase is complete, the next stage involves leveraging the tools and techniques of machine learning. Regression analysis will be applied to investigate the relationship between different factors, such as flat characteristics and their prices. This analysis will provide insights into pricing patterns and potentially uncover significant predictors of property prices.</p>\n",
    "<p style=\"color:black; background-color:white; padding:5px;padding-bottom:20px;margin-bottom:-10px\">Additionally, clustering algorithms will be employed to group flats based on similarities in their attributes. This clustering analysis can reveal distinct categories or clusters of flats with similar characteristics or pricing patterns, enabling a deeper understanding of the real estate market in Pazardzhik.</p>\n",
    "<p style=\"color:black; background-color:white; padding:5px;\">By combining web scraping with machine learning techniques, this study aims to showcase the power of web scraping in data analysis. The extraction of real estate data from the target website will enable the application of machine learning algorithms to gain valuable insights, identify trends, and make informed decisions in the real estate market of Pazardzhik, Bulgaria.</p>"
   ]
  },
  {
   "cell_type": "markdown",
   "id": "0e6b9ea9-0d6d-4f7d-81b5-226f0f39fc96",
   "metadata": {},
   "source": [
    "<h2 style=\"color:black; background-color:white; padding:5px; padding-bottom:10px; margin-bottom:-25px\">III. Empirical analysis</h2>\n",
    "<h3 style=\"color:black; background-color:white; padding:5px; padding-bottom:10px; margin-bottom:-10px\">1. Import the web page code</h3>\n",
    "<p style=\"color:black; background-color:white; padding:5px\">\n",
    "In this first step, the web code of the selected page is loaded and the first 10 lines of it are visualized.</p>"
   ]
  },
  {
   "cell_type": "code",
   "execution_count": 2,
   "id": "ef92c22d-749c-41d2-9048-12ddaa383265",
   "metadata": {},
   "outputs": [
    {
     "name": "stdout",
     "output_type": "stream",
     "text": [
      "<!DOCTYPE html>\n",
      "<html lang=\"bg\">\n",
      " <head>\n",
      "  <title>\n",
      "   Обяви Продава в град Пазарджик :: imot.bg\n",
      "  </title>\n",
      "  <meta content=\"text/html; charset=utf-8\" http-equiv=\"Content-Type\"/>\n",
      "  <meta content=\"Актуални обяви за имоти в град Пазарджик от сайта за недвижими имоти imot.bg. Вижте обяви Продава в град Пазарджик\" name=\"description\"/>\n",
      "  <link href=\"https://www.imot.bg/favicon.ico\" rel=\"SHORTCUT ICON\"/>\n",
      "  <link href=\"../styless/styles.css?279\" rel=\"stylesheet\" type=\"text/css\"/>\n"
     ]
    }
   ],
   "source": [
    "URL_imotibg = \"https://www.imot.bg/pcgi/imot.cgi?act=3&slink=9bhxh7&f1=1\"\n",
    "page_imoti = requests.get(URL_imotibg)\n",
    "\n",
    "# Assuming 'page1' contains the HTML content of the web page\n",
    "soup = BeautifulSoup(page_imoti.content, \"html.parser\")\n",
    "\n",
    "# Get the prettified HTML as a string\n",
    "prettified_html = soup.prettify()\n",
    "\n",
    "# Split the HTML string into lines\n",
    "html_lines = prettified_html.split('\\n')\n",
    "\n",
    "# Print only the first few lines\n",
    "num_lines_to_print = 10  # Adjust the number of lines you want to print\n",
    "for line in html_lines[:num_lines_to_print]:\n",
    "    print(line)"
   ]
  },
  {
   "cell_type": "code",
   "execution_count": null,
   "id": "e4ad5a4a-766c-4c76-bab3-04ce59cd1aa5",
   "metadata": {},
   "outputs": [],
   "source": []
  },
  {
   "cell_type": "markdown",
   "id": "32974c8a-35ff-47e7-8f5c-1d1ad2504d02",
   "metadata": {},
   "source": [
    "---"
   ]
  },
  {
   "cell_type": "markdown",
   "id": "e9dc54f7-1d7e-4516-a3da-99ecf64c686f",
   "metadata": {},
   "source": [
    "<h3 style=\"color:black; background-color:white; padding:5px; padding-bottom:10px; margin-bottom:-25px\">2. Import the data</h3>\n",
    "<h4 style=\"color:black; background-color:white; padding:5px; padding-bottom:10px; margin-bottom:-10px\">Step one. Import the data from the loading page</h4>\n",
    "<p style=\"color:black; background-color:white; padding:5px\">In this step, we filter the home page for two elements that we need for the analysis - price and type of apartments. We save the results as a dataframe.\n",
    "</p>"
   ]
  },
  {
   "cell_type": "code",
   "execution_count": 100,
   "id": "d12c4704-2e5d-437a-924c-ec0e6a9d6bc4",
   "metadata": {},
   "outputs": [
    {
     "data": {
      "text/html": [
       "<div>\n",
       "<style scoped>\n",
       "    .dataframe tbody tr th:only-of-type {\n",
       "        vertical-align: middle;\n",
       "    }\n",
       "\n",
       "    .dataframe tbody tr th {\n",
       "        vertical-align: top;\n",
       "    }\n",
       "\n",
       "    .dataframe thead th {\n",
       "        text-align: right;\n",
       "    }\n",
       "</style>\n",
       "<table border=\"1\" class=\"dataframe\">\n",
       "  <thead>\n",
       "    <tr style=\"text-align: right;\">\n",
       "      <th></th>\n",
       "      <th>Имот</th>\n",
       "      <th>Цена</th>\n",
       "      <th>Локация</th>\n",
       "    </tr>\n",
       "  </thead>\n",
       "  <tbody>\n",
       "    <tr>\n",
       "      <th>1</th>\n",
       "      <td>Продава 2-СТАЕН</td>\n",
       "      <td>70 000 лв.</td>\n",
       "      <td>град Пазарджик, Младост</td>\n",
       "    </tr>\n",
       "    <tr>\n",
       "      <th>2</th>\n",
       "      <td>Продава 3-СТАЕН</td>\n",
       "      <td>120 000 лв.</td>\n",
       "      <td>град Пазарджик, Руски</td>\n",
       "    </tr>\n",
       "    <tr>\n",
       "      <th>3</th>\n",
       "      <td>Продава 3-СТАЕН</td>\n",
       "      <td>68 000 EUR</td>\n",
       "      <td>град Пазарджик, Младост</td>\n",
       "    </tr>\n",
       "    <tr>\n",
       "      <th>4</th>\n",
       "      <td>Продава 2-СТАЕН</td>\n",
       "      <td>72 000 EUR</td>\n",
       "      <td>град Пазарджик, Център</td>\n",
       "    </tr>\n",
       "    <tr>\n",
       "      <th>5</th>\n",
       "      <td>Продава 3-СТАЕН</td>\n",
       "      <td>72 800 EUR</td>\n",
       "      <td>град Пазарджик, Ставропол</td>\n",
       "    </tr>\n",
       "    <tr>\n",
       "      <th>6</th>\n",
       "      <td>Продава 3-СТАЕН</td>\n",
       "      <td>160 000 лв.</td>\n",
       "      <td>град Пазарджик, Устрем</td>\n",
       "    </tr>\n",
       "    <tr>\n",
       "      <th>7</th>\n",
       "      <td>Продава 3-СТАЕН</td>\n",
       "      <td>85 000 EUR</td>\n",
       "      <td>град Пазарджик, Център</td>\n",
       "    </tr>\n",
       "    <tr>\n",
       "      <th>8</th>\n",
       "      <td>Продава 3-СТАЕН</td>\n",
       "      <td>99 500 EUR</td>\n",
       "      <td>град Пазарджик, Център</td>\n",
       "    </tr>\n",
       "    <tr>\n",
       "      <th>9</th>\n",
       "      <td>Продава 1-СТАЕН</td>\n",
       "      <td>55 000 лв.</td>\n",
       "      <td>град Пазарджик, Център</td>\n",
       "    </tr>\n",
       "    <tr>\n",
       "      <th>10</th>\n",
       "      <td>Продава 2-СТАЕН</td>\n",
       "      <td>39 000 EUR</td>\n",
       "      <td>град Пазарджик, Моста на Лютата</td>\n",
       "    </tr>\n",
       "    <tr>\n",
       "      <th>11</th>\n",
       "      <td>Продава 2-СТАЕН</td>\n",
       "      <td>82 000 лв.</td>\n",
       "      <td>град Пазарджик, Ставропол</td>\n",
       "    </tr>\n",
       "    <tr>\n",
       "      <th>12</th>\n",
       "      <td>Продава 2-СТАЕН</td>\n",
       "      <td>45 000 EUR</td>\n",
       "      <td>град Пазарджик, Център</td>\n",
       "    </tr>\n",
       "    <tr>\n",
       "      <th>13</th>\n",
       "      <td>Продава 3-СТАЕН</td>\n",
       "      <td>46 000 EUR</td>\n",
       "      <td>град Пазарджик, Устрем</td>\n",
       "    </tr>\n",
       "    <tr>\n",
       "      <th>14</th>\n",
       "      <td>Продава 3-СТАЕН</td>\n",
       "      <td>90 000 лв.</td>\n",
       "      <td>град Пазарджик, Изток</td>\n",
       "    </tr>\n",
       "    <tr>\n",
       "      <th>15</th>\n",
       "      <td>Продава 2-СТАЕН</td>\n",
       "      <td>50 000 EUR</td>\n",
       "      <td>град Пазарджик, Руски</td>\n",
       "    </tr>\n",
       "    <tr>\n",
       "      <th>16</th>\n",
       "      <td>Продава 3-СТАЕН</td>\n",
       "      <td>50 000 EUR</td>\n",
       "      <td>град Пазарджик, Устрем</td>\n",
       "    </tr>\n",
       "    <tr>\n",
       "      <th>17</th>\n",
       "      <td>Продава 2-СТАЕН</td>\n",
       "      <td>52 000 EUR</td>\n",
       "      <td>град Пазарджик, Център</td>\n",
       "    </tr>\n",
       "    <tr>\n",
       "      <th>18</th>\n",
       "      <td>Продава 2-СТАЕН</td>\n",
       "      <td>53 000 EUR</td>\n",
       "      <td>град Пазарджик, Запад</td>\n",
       "    </tr>\n",
       "    <tr>\n",
       "      <th>19</th>\n",
       "      <td>Продава 2-СТАЕН</td>\n",
       "      <td>53 000 EUR</td>\n",
       "      <td>град Пазарджик, Идеален център</td>\n",
       "    </tr>\n",
       "    <tr>\n",
       "      <th>20</th>\n",
       "      <td>Продава 3-СТАЕН</td>\n",
       "      <td>56 000 EUR</td>\n",
       "      <td>град Пазарджик, Център</td>\n",
       "    </tr>\n",
       "    <tr>\n",
       "      <th>21</th>\n",
       "      <td>Продава 2-СТАЕН</td>\n",
       "      <td>118 000 лв.</td>\n",
       "      <td>град Пазарджик, Център</td>\n",
       "    </tr>\n",
       "    <tr>\n",
       "      <th>22</th>\n",
       "      <td>Продава 3-СТАЕН</td>\n",
       "      <td>120 000 лв.</td>\n",
       "      <td>град Пазарджик, Запад</td>\n",
       "    </tr>\n",
       "    <tr>\n",
       "      <th>23</th>\n",
       "      <td>Продава 3-СТАЕН</td>\n",
       "      <td>65 000 EUR</td>\n",
       "      <td>град Пазарджик, Център</td>\n",
       "    </tr>\n",
       "    <tr>\n",
       "      <th>24</th>\n",
       "      <td>Продава 3-СТАЕН</td>\n",
       "      <td>65 000 EUR</td>\n",
       "      <td>град Пазарджик, Център</td>\n",
       "    </tr>\n",
       "    <tr>\n",
       "      <th>25</th>\n",
       "      <td>Продава 2-СТАЕН</td>\n",
       "      <td>128 139 лв.</td>\n",
       "      <td>град Пазарджик, Идеален център</td>\n",
       "    </tr>\n",
       "    <tr>\n",
       "      <th>26</th>\n",
       "      <td>Продава 3-СТАЕН</td>\n",
       "      <td>130 000 лв.</td>\n",
       "      <td>град Пазарджик, Център</td>\n",
       "    </tr>\n",
       "    <tr>\n",
       "      <th>27</th>\n",
       "      <td>Продава 3-СТАЕН</td>\n",
       "      <td>71 400 EUR</td>\n",
       "      <td>град Пазарджик, Ставропол</td>\n",
       "    </tr>\n",
       "    <tr>\n",
       "      <th>28</th>\n",
       "      <td>Продава 3-СТАЕН</td>\n",
       "      <td>73 000 EUR</td>\n",
       "      <td>град Пазарджик, Център</td>\n",
       "    </tr>\n",
       "    <tr>\n",
       "      <th>29</th>\n",
       "      <td>Продава 3-СТАЕН</td>\n",
       "      <td>74 000 EUR</td>\n",
       "      <td>град Пазарджик, Център</td>\n",
       "    </tr>\n",
       "    <tr>\n",
       "      <th>30</th>\n",
       "      <td>Продава 3-СТАЕН</td>\n",
       "      <td>74 000 EUR</td>\n",
       "      <td>град Пазарджик, Център</td>\n",
       "    </tr>\n",
       "    <tr>\n",
       "      <th>31</th>\n",
       "      <td>Продава 3-СТАЕН</td>\n",
       "      <td>75 000 EUR</td>\n",
       "      <td>град Пазарджик, Младост</td>\n",
       "    </tr>\n",
       "    <tr>\n",
       "      <th>32</th>\n",
       "      <td>Продава 2-СТАЕН</td>\n",
       "      <td>151 498 лв.</td>\n",
       "      <td>град Пазарджик, Идеален център</td>\n",
       "    </tr>\n",
       "    <tr>\n",
       "      <th>33</th>\n",
       "      <td>Продава 2-СТАЕН</td>\n",
       "      <td>155 571 лв.</td>\n",
       "      <td>град Пазарджик, Идеален център</td>\n",
       "    </tr>\n",
       "    <tr>\n",
       "      <th>34</th>\n",
       "      <td>Продава 2-СТАЕН</td>\n",
       "      <td>81 000 EUR</td>\n",
       "      <td>град Пазарджик, Идеален център</td>\n",
       "    </tr>\n",
       "    <tr>\n",
       "      <th>35</th>\n",
       "      <td>Продава 3-СТАЕН</td>\n",
       "      <td>90 000 EUR</td>\n",
       "      <td>град Пазарджик, Идеален център</td>\n",
       "    </tr>\n",
       "    <tr>\n",
       "      <th>36</th>\n",
       "      <td>Продава 3-СТАЕН</td>\n",
       "      <td>90 000 EUR</td>\n",
       "      <td>град Пазарджик, Център</td>\n",
       "    </tr>\n",
       "    <tr>\n",
       "      <th>37</th>\n",
       "      <td>Продава 3-СТАЕН</td>\n",
       "      <td>96 000 EUR</td>\n",
       "      <td>град Пазарджик, Център</td>\n",
       "    </tr>\n",
       "    <tr>\n",
       "      <th>38</th>\n",
       "      <td>Продава 3-СТАЕН</td>\n",
       "      <td>99 000 EUR</td>\n",
       "      <td>град Пазарджик, Идеален център</td>\n",
       "    </tr>\n",
       "    <tr>\n",
       "      <th>39</th>\n",
       "      <td>Продава 3-СТАЕН</td>\n",
       "      <td>115 000 EUR</td>\n",
       "      <td>град Пазарджик, Ставропол</td>\n",
       "    </tr>\n",
       "    <tr>\n",
       "      <th>40</th>\n",
       "      <td>Продава 1-СТАЕН</td>\n",
       "      <td>48 000 лв.</td>\n",
       "      <td>град Пазарджик, Ябълките</td>\n",
       "    </tr>\n",
       "  </tbody>\n",
       "</table>\n",
       "</div>"
      ],
      "text/plain": [
       "               Имот         Цена                          Локация\n",
       "1   Продава 2-СТАЕН   70 000 лв.          град Пазарджик, Младост\n",
       "2   Продава 3-СТАЕН  120 000 лв.            град Пазарджик, Руски\n",
       "3   Продава 3-СТАЕН   68 000 EUR          град Пазарджик, Младост\n",
       "4   Продава 2-СТАЕН   72 000 EUR           град Пазарджик, Център\n",
       "5   Продава 3-СТАЕН   72 800 EUR        град Пазарджик, Ставропол\n",
       "6   Продава 3-СТАЕН  160 000 лв.           град Пазарджик, Устрем\n",
       "7   Продава 3-СТАЕН   85 000 EUR           град Пазарджик, Център\n",
       "8   Продава 3-СТАЕН   99 500 EUR           град Пазарджик, Център\n",
       "9   Продава 1-СТАЕН   55 000 лв.           град Пазарджик, Център\n",
       "10  Продава 2-СТАЕН   39 000 EUR  град Пазарджик, Моста на Лютата\n",
       "11  Продава 2-СТАЕН   82 000 лв.        град Пазарджик, Ставропол\n",
       "12  Продава 2-СТАЕН   45 000 EUR           град Пазарджик, Център\n",
       "13  Продава 3-СТАЕН   46 000 EUR           град Пазарджик, Устрем\n",
       "14  Продава 3-СТАЕН   90 000 лв.            град Пазарджик, Изток\n",
       "15  Продава 2-СТАЕН   50 000 EUR            град Пазарджик, Руски\n",
       "16  Продава 3-СТАЕН   50 000 EUR           град Пазарджик, Устрем\n",
       "17  Продава 2-СТАЕН   52 000 EUR           град Пазарджик, Център\n",
       "18  Продава 2-СТАЕН   53 000 EUR            град Пазарджик, Запад\n",
       "19  Продава 2-СТАЕН   53 000 EUR   град Пазарджик, Идеален център\n",
       "20  Продава 3-СТАЕН   56 000 EUR           град Пазарджик, Център\n",
       "21  Продава 2-СТАЕН  118 000 лв.           град Пазарджик, Център\n",
       "22  Продава 3-СТАЕН  120 000 лв.            град Пазарджик, Запад\n",
       "23  Продава 3-СТАЕН   65 000 EUR           град Пазарджик, Център\n",
       "24  Продава 3-СТАЕН   65 000 EUR           град Пазарджик, Център\n",
       "25  Продава 2-СТАЕН  128 139 лв.   град Пазарджик, Идеален център\n",
       "26  Продава 3-СТАЕН  130 000 лв.           град Пазарджик, Център\n",
       "27  Продава 3-СТАЕН   71 400 EUR        град Пазарджик, Ставропол\n",
       "28  Продава 3-СТАЕН   73 000 EUR           град Пазарджик, Център\n",
       "29  Продава 3-СТАЕН   74 000 EUR           град Пазарджик, Център\n",
       "30  Продава 3-СТАЕН   74 000 EUR           град Пазарджик, Център\n",
       "31  Продава 3-СТАЕН   75 000 EUR          град Пазарджик, Младост\n",
       "32  Продава 2-СТАЕН  151 498 лв.   град Пазарджик, Идеален център\n",
       "33  Продава 2-СТАЕН  155 571 лв.   град Пазарджик, Идеален център\n",
       "34  Продава 2-СТАЕН   81 000 EUR   град Пазарджик, Идеален център\n",
       "35  Продава 3-СТАЕН   90 000 EUR   град Пазарджик, Идеален център\n",
       "36  Продава 3-СТАЕН   90 000 EUR           град Пазарджик, Център\n",
       "37  Продава 3-СТАЕН   96 000 EUR           град Пазарджик, Център\n",
       "38  Продава 3-СТАЕН   99 000 EUR   град Пазарджик, Идеален център\n",
       "39  Продава 3-СТАЕН  115 000 EUR        град Пазарджик, Ставропол\n",
       "40  Продава 1-СТАЕН   48 000 лв.         град Пазарджик, Ябълките"
      ]
     },
     "execution_count": 100,
     "metadata": {},
     "output_type": "execute_result"
    }
   ],
   "source": [
    "estate_collection_first = {}\n",
    "\n",
    "URL_imotibg_first_page = \"https://www.imot.bg/pcgi/imot.cgi?act=3&slink=9bhxh7&f1=1\"\n",
    "loading_page_imoti = requests.get(URL_imotibg_first_page)\n",
    "\n",
    "soup_loading_page = BeautifulSoup(loading_page_imoti.content, 'html.parser')\n",
    "\n",
    "price_elements_loading_page = soup_loading_page.find_all('div', class_='price')\n",
    "type_elements_loading_page = soup_loading_page.find_all('a', class_='lnk1')\n",
    "location_elements_loading_page = soup_loading_page.find_all('a', class_='lnk2')\n",
    "\n",
    "for p, t, l in zip(p_elements_loading_page, type_elements_loading_page, location_elements_loading_page):\n",
    "    estate_collection_first.setdefault('Имот', []).append(t.text.strip())\n",
    "    estate_collection_first.setdefault('Цена', []).append(p.text.strip())\n",
    "    estate_collection_first.setdefault('Локация', []).append(l.text.strip())\n",
    "\n",
    "# Create the DataFrame from the accumulated data\n",
    "df_estate_collection_first = pd.DataFrame(estate_collection_first)\n",
    "df_estate_collection_first.index = df_estate_collection_first.index + 1\n",
    "df_estate_collection_first"
   ]
  },
  {
   "cell_type": "markdown",
   "id": "bae445fb-5b1d-47e0-aecd-ced86cb6ff4a",
   "metadata": {},
   "source": [
    "<p style=\"color:black; background-color:white; padding:5px;\">As you can see from the dataframe we have 40 cases arranged in three columns first column which is named \"Имот\" , second column which is named \"Цена\" and third named \"Локация\". The apartments are from one-room to three-room in two types of curency in BGN and Euro, in all neighborhoods in the city.</p>"
   ]
  },
  {
   "cell_type": "markdown",
   "id": "fdfbd39f-05ec-42ab-a922-b935f5535c71",
   "metadata": {},
   "source": [
    "---"
   ]
  },
  {
   "cell_type": "markdown",
   "id": "69d86c91-9747-423a-98db-e1497a9348d6",
   "metadata": {},
   "source": [
    "<h4 style=\"color:black; background-color:white; padding:5px; padding-bottom:10px; margin-bottom:-10px\">Step two. Transform the data from the loading page</h4>\n",
    "<p style=\"color:black; background-color:white; padding:5px\">In this step, the data will be transformed in two directions: the names of the columns and the elements in the columns will be changed from Bulgarian to English, and secondly, the monetary unit will be unified, and all prices in BGN will be recalculated into Euros.</p>"
   ]
  },
  {
   "cell_type": "code",
   "execution_count": 101,
   "id": "283ddc64-4af9-459b-b71f-42eb3469cc70",
   "metadata": {},
   "outputs": [
    {
     "data": {
      "text/html": [
       "<div>\n",
       "<style scoped>\n",
       "    .dataframe tbody tr th:only-of-type {\n",
       "        vertical-align: middle;\n",
       "    }\n",
       "\n",
       "    .dataframe tbody tr th {\n",
       "        vertical-align: top;\n",
       "    }\n",
       "\n",
       "    .dataframe thead th {\n",
       "        text-align: right;\n",
       "    }\n",
       "</style>\n",
       "<table border=\"1\" class=\"dataframe\">\n",
       "  <thead>\n",
       "    <tr style=\"text-align: right;\">\n",
       "      <th></th>\n",
       "      <th>Estate_Type</th>\n",
       "      <th>Price</th>\n",
       "      <th>Location</th>\n",
       "    </tr>\n",
       "  </thead>\n",
       "  <tbody>\n",
       "    <tr>\n",
       "      <th>1</th>\n",
       "      <td>2-room</td>\n",
       "      <td>35714</td>\n",
       "      <td>Mladost</td>\n",
       "    </tr>\n",
       "    <tr>\n",
       "      <th>2</th>\n",
       "      <td>3-room</td>\n",
       "      <td>61224</td>\n",
       "      <td>Ruski</td>\n",
       "    </tr>\n",
       "    <tr>\n",
       "      <th>3</th>\n",
       "      <td>3-room</td>\n",
       "      <td>68000</td>\n",
       "      <td>Mladost</td>\n",
       "    </tr>\n",
       "    <tr>\n",
       "      <th>4</th>\n",
       "      <td>2-room</td>\n",
       "      <td>72000</td>\n",
       "      <td>Shirok centre</td>\n",
       "    </tr>\n",
       "    <tr>\n",
       "      <th>5</th>\n",
       "      <td>3-room</td>\n",
       "      <td>72800</td>\n",
       "      <td>Stavropol</td>\n",
       "    </tr>\n",
       "    <tr>\n",
       "      <th>6</th>\n",
       "      <td>3-room</td>\n",
       "      <td>81633</td>\n",
       "      <td>Ustrem</td>\n",
       "    </tr>\n",
       "    <tr>\n",
       "      <th>7</th>\n",
       "      <td>3-room</td>\n",
       "      <td>85000</td>\n",
       "      <td>Shirok centre</td>\n",
       "    </tr>\n",
       "    <tr>\n",
       "      <th>8</th>\n",
       "      <td>3-room</td>\n",
       "      <td>99500</td>\n",
       "      <td>Shirok centre</td>\n",
       "    </tr>\n",
       "    <tr>\n",
       "      <th>9</th>\n",
       "      <td>1-room</td>\n",
       "      <td>28061</td>\n",
       "      <td>Shirok centre</td>\n",
       "    </tr>\n",
       "    <tr>\n",
       "      <th>10</th>\n",
       "      <td>2-room</td>\n",
       "      <td>39000</td>\n",
       "      <td>МостанаЛютата</td>\n",
       "    </tr>\n",
       "    <tr>\n",
       "      <th>11</th>\n",
       "      <td>2-room</td>\n",
       "      <td>41837</td>\n",
       "      <td>Stavropol</td>\n",
       "    </tr>\n",
       "    <tr>\n",
       "      <th>12</th>\n",
       "      <td>2-room</td>\n",
       "      <td>45000</td>\n",
       "      <td>Shirok centre</td>\n",
       "    </tr>\n",
       "    <tr>\n",
       "      <th>13</th>\n",
       "      <td>3-room</td>\n",
       "      <td>46000</td>\n",
       "      <td>Ustrem</td>\n",
       "    </tr>\n",
       "    <tr>\n",
       "      <th>14</th>\n",
       "      <td>3-room</td>\n",
       "      <td>45918</td>\n",
       "      <td>Изток</td>\n",
       "    </tr>\n",
       "    <tr>\n",
       "      <th>15</th>\n",
       "      <td>2-room</td>\n",
       "      <td>50000</td>\n",
       "      <td>Ruski</td>\n",
       "    </tr>\n",
       "    <tr>\n",
       "      <th>16</th>\n",
       "      <td>3-room</td>\n",
       "      <td>50000</td>\n",
       "      <td>Ustrem</td>\n",
       "    </tr>\n",
       "    <tr>\n",
       "      <th>17</th>\n",
       "      <td>2-room</td>\n",
       "      <td>52000</td>\n",
       "      <td>Shirok centre</td>\n",
       "    </tr>\n",
       "    <tr>\n",
       "      <th>18</th>\n",
       "      <td>2-room</td>\n",
       "      <td>53000</td>\n",
       "      <td>Zapad</td>\n",
       "    </tr>\n",
       "    <tr>\n",
       "      <th>19</th>\n",
       "      <td>2-room</td>\n",
       "      <td>53000</td>\n",
       "      <td>Super centre</td>\n",
       "    </tr>\n",
       "    <tr>\n",
       "      <th>20</th>\n",
       "      <td>3-room</td>\n",
       "      <td>56000</td>\n",
       "      <td>Shirok centre</td>\n",
       "    </tr>\n",
       "    <tr>\n",
       "      <th>21</th>\n",
       "      <td>2-room</td>\n",
       "      <td>60204</td>\n",
       "      <td>Shirok centre</td>\n",
       "    </tr>\n",
       "    <tr>\n",
       "      <th>22</th>\n",
       "      <td>3-room</td>\n",
       "      <td>61224</td>\n",
       "      <td>Zapad</td>\n",
       "    </tr>\n",
       "    <tr>\n",
       "      <th>23</th>\n",
       "      <td>3-room</td>\n",
       "      <td>65000</td>\n",
       "      <td>Shirok centre</td>\n",
       "    </tr>\n",
       "    <tr>\n",
       "      <th>24</th>\n",
       "      <td>3-room</td>\n",
       "      <td>65000</td>\n",
       "      <td>Shirok centre</td>\n",
       "    </tr>\n",
       "    <tr>\n",
       "      <th>25</th>\n",
       "      <td>2-room</td>\n",
       "      <td>65377</td>\n",
       "      <td>Super centre</td>\n",
       "    </tr>\n",
       "    <tr>\n",
       "      <th>26</th>\n",
       "      <td>3-room</td>\n",
       "      <td>66327</td>\n",
       "      <td>Shirok centre</td>\n",
       "    </tr>\n",
       "    <tr>\n",
       "      <th>27</th>\n",
       "      <td>3-room</td>\n",
       "      <td>71400</td>\n",
       "      <td>Stavropol</td>\n",
       "    </tr>\n",
       "    <tr>\n",
       "      <th>28</th>\n",
       "      <td>3-room</td>\n",
       "      <td>73000</td>\n",
       "      <td>Shirok centre</td>\n",
       "    </tr>\n",
       "    <tr>\n",
       "      <th>29</th>\n",
       "      <td>3-room</td>\n",
       "      <td>74000</td>\n",
       "      <td>Shirok centre</td>\n",
       "    </tr>\n",
       "    <tr>\n",
       "      <th>30</th>\n",
       "      <td>3-room</td>\n",
       "      <td>74000</td>\n",
       "      <td>Shirok centre</td>\n",
       "    </tr>\n",
       "    <tr>\n",
       "      <th>31</th>\n",
       "      <td>3-room</td>\n",
       "      <td>75000</td>\n",
       "      <td>Mladost</td>\n",
       "    </tr>\n",
       "    <tr>\n",
       "      <th>32</th>\n",
       "      <td>2-room</td>\n",
       "      <td>77295</td>\n",
       "      <td>Super centre</td>\n",
       "    </tr>\n",
       "    <tr>\n",
       "      <th>33</th>\n",
       "      <td>2-room</td>\n",
       "      <td>79373</td>\n",
       "      <td>Super centre</td>\n",
       "    </tr>\n",
       "    <tr>\n",
       "      <th>34</th>\n",
       "      <td>2-room</td>\n",
       "      <td>81000</td>\n",
       "      <td>Super centre</td>\n",
       "    </tr>\n",
       "    <tr>\n",
       "      <th>35</th>\n",
       "      <td>3-room</td>\n",
       "      <td>90000</td>\n",
       "      <td>Super centre</td>\n",
       "    </tr>\n",
       "    <tr>\n",
       "      <th>36</th>\n",
       "      <td>3-room</td>\n",
       "      <td>90000</td>\n",
       "      <td>Shirok centre</td>\n",
       "    </tr>\n",
       "    <tr>\n",
       "      <th>37</th>\n",
       "      <td>3-room</td>\n",
       "      <td>96000</td>\n",
       "      <td>Shirok centre</td>\n",
       "    </tr>\n",
       "    <tr>\n",
       "      <th>38</th>\n",
       "      <td>3-room</td>\n",
       "      <td>99000</td>\n",
       "      <td>Super centre</td>\n",
       "    </tr>\n",
       "    <tr>\n",
       "      <th>39</th>\n",
       "      <td>3-room</td>\n",
       "      <td>115000</td>\n",
       "      <td>Stavropol</td>\n",
       "    </tr>\n",
       "    <tr>\n",
       "      <th>40</th>\n",
       "      <td>1-room</td>\n",
       "      <td>24490</td>\n",
       "      <td>Yabalkite</td>\n",
       "    </tr>\n",
       "  </tbody>\n",
       "</table>\n",
       "</div>"
      ],
      "text/plain": [
       "   Estate_Type   Price       Location\n",
       "1       2-room   35714        Mladost\n",
       "2       3-room   61224          Ruski\n",
       "3       3-room   68000        Mladost\n",
       "4       2-room   72000  Shirok centre\n",
       "5       3-room   72800      Stavropol\n",
       "6       3-room   81633         Ustrem\n",
       "7       3-room   85000  Shirok centre\n",
       "8       3-room   99500  Shirok centre\n",
       "9       1-room   28061  Shirok centre\n",
       "10      2-room   39000  МостанаЛютата\n",
       "11      2-room   41837      Stavropol\n",
       "12      2-room   45000  Shirok centre\n",
       "13      3-room   46000         Ustrem\n",
       "14      3-room   45918          Изток\n",
       "15      2-room   50000          Ruski\n",
       "16      3-room   50000         Ustrem\n",
       "17      2-room   52000  Shirok centre\n",
       "18      2-room   53000          Zapad\n",
       "19      2-room   53000   Super centre\n",
       "20      3-room   56000  Shirok centre\n",
       "21      2-room   60204  Shirok centre\n",
       "22      3-room   61224          Zapad\n",
       "23      3-room   65000  Shirok centre\n",
       "24      3-room   65000  Shirok centre\n",
       "25      2-room   65377   Super centre\n",
       "26      3-room   66327  Shirok centre\n",
       "27      3-room   71400      Stavropol\n",
       "28      3-room   73000  Shirok centre\n",
       "29      3-room   74000  Shirok centre\n",
       "30      3-room   74000  Shirok centre\n",
       "31      3-room   75000        Mladost\n",
       "32      2-room   77295   Super centre\n",
       "33      2-room   79373   Super centre\n",
       "34      2-room   81000   Super centre\n",
       "35      3-room   90000   Super centre\n",
       "36      3-room   90000  Shirok centre\n",
       "37      3-room   96000  Shirok centre\n",
       "38      3-room   99000   Super centre\n",
       "39      3-room  115000      Stavropol\n",
       "40      1-room   24490      Yabalkite"
      ]
     },
     "execution_count": 101,
     "metadata": {},
     "output_type": "execute_result"
    }
   ],
   "source": [
    "df_estate_collection_first = df_estate_collection_first.rename(columns={'Имот': 'Estate_Type', 'Цена': 'Price', \"Локация\": \"Location\"})\n",
    "\n",
    "df_estate_collection_first['Estate_Type'] = df_estate_collection_first['Estate_Type'].str.replace('Продава', '')\n",
    "df_estate_collection_first['Estate_Type'] = df_estate_collection_first['Estate_Type'].str.replace('СТАЕН', 'room')\n",
    "\n",
    "df_estate_collection_first['Location'] = df_estate_collection_first['Location'].str.replace('град', '')\n",
    "df_estate_collection_first['Location'] = df_estate_collection_first['Location'].str.replace('Пазарджик', '')\n",
    "df_estate_collection_first['Location'] = df_estate_collection_first['Location'].str.replace(',', '')\n",
    "df_estate_collection_first['Location'] = df_estate_collection_first['Location'].str.replace(' ', '')\n",
    "\n",
    "# Dictionary for renaming elements\n",
    "rename_dict = {'Младост': 'Mladost', 'Руски': 'Ruski', 'Център': 'Shirok centre', 'Ставропол': 'Stavropol', 'Устрем': 'Ustrem', 'Моста на Лютата': 'The bridge',\n",
    "               'Запад': 'Zapad', 'Идеаленцентър': 'Super centre', 'Ябълките': 'Yabalkite'}\n",
    "\n",
    "# Rename elements in 'Column2' using the dictionary\n",
    "df_estate_collection_first['Location'] = df_estate_collection_first['Location'].replace(rename_dict)\n",
    "\n",
    "def convert_to_eur(Price):\n",
    "    if 'лв.' in Price:\n",
    "        Price = Price.replace('лв.', '').replace(' ', '')\n",
    "        Price = round(float(Price) / 1.96)\n",
    "    elif 'EUR' in Price:\n",
    "        Price = Price.replace('EUR', '').replace(' ', '')\n",
    "        Price = round(float(Price))\n",
    "    return Price\n",
    "\n",
    "# Apply the conversion function to the Price column\n",
    "df_estate_collection_first['Price'] = df_estate_collection_first['Price'].apply(convert_to_eur)\n",
    "df_estate_collection_first"
   ]
  },
  {
   "cell_type": "markdown",
   "id": "801a382c-4803-460a-9cf3-6136e66a07ac",
   "metadata": {},
   "source": [
    "---"
   ]
  },
  {
   "cell_type": "markdown",
   "id": "712ebc18-792d-4398-a65d-2e1c90bc20b6",
   "metadata": {},
   "source": [
    "<h4 style=\"color:black; background-color:white; padding:5px; padding-bottom:10px; margin-bottom:-10px\">Step three. Take the links from the loading page</h4>\n",
    "<p style=\"color:black; background-color:white; padding:5px\">Since the home page only shows 40 apartments in number, in this step we find all the remaining links to pages from the property filter we used.</p>"
   ]
  },
  {
   "cell_type": "code",
   "execution_count": 123,
   "id": "df53f668-b957-4b2f-bf2f-c12d2002a9d7",
   "metadata": {},
   "outputs": [
    {
     "name": "stdout",
     "output_type": "stream",
     "text": [
      "Next Page URL: //www.imot.bg/pcgi/imot.cgi?act=3&slink=9bk2pu&f1=2\n",
      "Next Page URL: //www.imot.bg/pcgi/imot.cgi?act=3&slink=9bk2pu&f1=3\n",
      "Next Page URL: //www.imot.bg/pcgi/imot.cgi?act=3&slink=9bk2pu&f1=4\n",
      "Next Page URL: //www.imot.bg/pcgi/imot.cgi?act=3&slink=9bk2pu&f1=5\n",
      "Next Page URL: //www.imot.bg/pcgi/imot.cgi?act=3&slink=9bk2pu&f1=6\n",
      "Next Page URL: //www.imot.bg/pcgi/imot.cgi?act=3&slink=9bk2pu&f1=7\n",
      "Next Page URL: //www.imot.bg/pcgi/imot.cgi?act=3&slink=9bk2pu&f1=8\n",
      "Next Page URL: //www.imot.bg/pcgi/imot.cgi?act=3&slink=9bk2pu&f1=9\n",
      "Next Page URL: //www.imot.bg/pcgi/imot.cgi?act=3&slink=9bk2pu&f1=2\n",
      "Next Page URL: //www.imot.bg/pcgi/imot.cgi?act=3&slink=9bk2pu&f1=3\n",
      "Next Page URL: //www.imot.bg/pcgi/imot.cgi?act=3&slink=9bk2pu&f1=4\n",
      "Next Page URL: //www.imot.bg/pcgi/imot.cgi?act=3&slink=9bk2pu&f1=5\n",
      "Next Page URL: //www.imot.bg/pcgi/imot.cgi?act=3&slink=9bk2pu&f1=6\n",
      "Next Page URL: //www.imot.bg/pcgi/imot.cgi?act=3&slink=9bk2pu&f1=7\n",
      "Next Page URL: //www.imot.bg/pcgi/imot.cgi?act=3&slink=9bk2pu&f1=8\n",
      "Next Page URL: //www.imot.bg/pcgi/imot.cgi?act=3&slink=9bk2pu&f1=9\n"
     ]
    }
   ],
   "source": [
    "next_page_elements = soup_loading_page.find_all('a', class_='pageNumbers')\n",
    "\n",
    "# Iterate over the next page elements\n",
    "for next_page_element in next_page_elements:\n",
    "    \n",
    "    # Extract the URL of the next page\n",
    "    next_page_url = next_page_element['href']\n",
    "    \n",
    "    # Print the URL of the next page\n",
    "    print(\"Next Page URL:\", next_page_url)"
   ]
  },
  {
   "cell_type": "markdown",
   "id": "0e706597-26fb-4a06-8d8b-28425bd51c60",
   "metadata": {},
   "source": [
    "<p style=\"color:black; background-color:white; padding:5px;\">As we can see from the data after number nine the next hyperlink is under number 2 or actually the data is duplicated.</p>"
   ]
  },
  {
   "cell_type": "markdown",
   "id": "b73299f1-5238-478a-abca-e6306d45ecd2",
   "metadata": {},
   "source": [
    "---"
   ]
  },
  {
   "cell_type": "markdown",
   "id": "0cfa2018-def2-469c-a28e-18c8a3e06e89",
   "metadata": {},
   "source": [
    "<h4 style=\"color:black; background-color:white; padding:5px; padding-bottom:10px; margin-bottom:-10px\">Step four. Load the data from all pages</h4>\n",
    "<p style=\"color:black; background-color:white; padding:5px\">Once we have found the links to the rest of the pages matching the filter, we transform the code to load all apartments and not just the ones on the loading page. We remove the deduplicate links by only loading the first nine hyperlinks</p>"
   ]
  },
  {
   "cell_type": "code",
   "execution_count": 31,
   "id": "0562021a-cb4a-4ed4-a760-b0eebb815865",
   "metadata": {},
   "outputs": [
    {
     "data": {
      "text/html": [
       "<div>\n",
       "<style scoped>\n",
       "    .dataframe tbody tr th:only-of-type {\n",
       "        vertical-align: middle;\n",
       "    }\n",
       "\n",
       "    .dataframe tbody tr th {\n",
       "        vertical-align: top;\n",
       "    }\n",
       "\n",
       "    .dataframe thead th {\n",
       "        text-align: right;\n",
       "    }\n",
       "</style>\n",
       "<table border=\"1\" class=\"dataframe\">\n",
       "  <thead>\n",
       "    <tr style=\"text-align: right;\">\n",
       "      <th></th>\n",
       "      <th>Имот</th>\n",
       "      <th>Цена</th>\n",
       "      <th>Локация</th>\n",
       "    </tr>\n",
       "  </thead>\n",
       "  <tbody>\n",
       "    <tr>\n",
       "      <th>0</th>\n",
       "      <td>Продава 1-СТАЕН</td>\n",
       "      <td>51 000 лв.</td>\n",
       "      <td>град Пазарджик, Младост</td>\n",
       "    </tr>\n",
       "    <tr>\n",
       "      <th>1</th>\n",
       "      <td>Продава 2-СТАЕН</td>\n",
       "      <td>70 000 лв.</td>\n",
       "      <td>град Пазарджик, Младост</td>\n",
       "    </tr>\n",
       "    <tr>\n",
       "      <th>2</th>\n",
       "      <td>Продава 3-СТАЕН</td>\n",
       "      <td>120 000 лв.</td>\n",
       "      <td>град Пазарджик, Руски</td>\n",
       "    </tr>\n",
       "    <tr>\n",
       "      <th>3</th>\n",
       "      <td>Продава 3-СТАЕН</td>\n",
       "      <td>68 000 EUR</td>\n",
       "      <td>град Пазарджик, Младост</td>\n",
       "    </tr>\n",
       "    <tr>\n",
       "      <th>4</th>\n",
       "      <td>Продава 2-СТАЕН</td>\n",
       "      <td>72 000 EUR</td>\n",
       "      <td>град Пазарджик, Център</td>\n",
       "    </tr>\n",
       "    <tr>\n",
       "      <th>...</th>\n",
       "      <td>...</td>\n",
       "      <td>...</td>\n",
       "      <td>...</td>\n",
       "    </tr>\n",
       "    <tr>\n",
       "      <th>346</th>\n",
       "      <td>Продава 4-СТАЕН</td>\n",
       "      <td>Цена при запитване</td>\n",
       "      <td>град Пазарджик, Център</td>\n",
       "    </tr>\n",
       "    <tr>\n",
       "      <th>347</th>\n",
       "      <td>Продава 3-СТАЕН</td>\n",
       "      <td>Цена при запитване</td>\n",
       "      <td>град Пазарджик, Окръжна болница</td>\n",
       "    </tr>\n",
       "    <tr>\n",
       "      <th>348</th>\n",
       "      <td>Продава 3-СТАЕН</td>\n",
       "      <td>Цена при запитване</td>\n",
       "      <td>град Пазарджик, Руски</td>\n",
       "    </tr>\n",
       "    <tr>\n",
       "      <th>349</th>\n",
       "      <td>Продава 3-СТАЕН</td>\n",
       "      <td>Цена при запитване</td>\n",
       "      <td>град Пазарджик, Руски</td>\n",
       "    </tr>\n",
       "    <tr>\n",
       "      <th>350</th>\n",
       "      <td>Продава 3-СТАЕН</td>\n",
       "      <td>Цена при запитване</td>\n",
       "      <td>град Пазарджик, Идеален център</td>\n",
       "    </tr>\n",
       "  </tbody>\n",
       "</table>\n",
       "<p>351 rows × 3 columns</p>\n",
       "</div>"
      ],
      "text/plain": [
       "                Имот                Цена                          Локация\n",
       "0    Продава 1-СТАЕН          51 000 лв.          град Пазарджик, Младост\n",
       "1    Продава 2-СТАЕН          70 000 лв.          град Пазарджик, Младост\n",
       "2    Продава 3-СТАЕН         120 000 лв.            град Пазарджик, Руски\n",
       "3    Продава 3-СТАЕН          68 000 EUR          град Пазарджик, Младост\n",
       "4    Продава 2-СТАЕН          72 000 EUR           град Пазарджик, Център\n",
       "..               ...                 ...                              ...\n",
       "346  Продава 4-СТАЕН  Цена при запитване           град Пазарджик, Център\n",
       "347  Продава 3-СТАЕН  Цена при запитване  град Пазарджик, Окръжна болница\n",
       "348  Продава 3-СТАЕН  Цена при запитване            град Пазарджик, Руски\n",
       "349  Продава 3-СТАЕН  Цена при запитване            град Пазарджик, Руски\n",
       "350  Продава 3-СТАЕН  Цена при запитване   град Пазарджик, Идеален център\n",
       "\n",
       "[351 rows x 3 columns]"
      ]
     },
     "execution_count": 31,
     "metadata": {},
     "output_type": "execute_result"
    }
   ],
   "source": [
    "estate_collection_all = {}\n",
    "\n",
    "URL_imotibg_first_page = \"https://www.imot.bg/pcgi/imot.cgi?act=3&slink=9bhxh7&f1=1\"\n",
    "loading_page_imoti = requests.get(URL_imotibg_first_page)\n",
    "\n",
    "soup_loading_page = BeautifulSoup(loading_page_imoti.content, 'html.parser')\n",
    "\n",
    "next_page_elements = soup_loading_page.find_all('a', class_='pageNumbers')\n",
    "\n",
    "p_elements_loading_page = soup_loading_page.find_all('div', class_='price')\n",
    "type_elements_loading_page = soup_loading_page.find_all('a', class_='lnk1')\n",
    "location_elements_loading_page = soup_loading_page.find_all('a', class_='lnk2')\n",
    "\n",
    "for index, (p, t, l) in enumerate(zip(p_elements_loading_page, type_elements_loading_page, location_elements_loading_page)):\n",
    "    estate_collection_all.setdefault('Имот', []).append(t.text.strip())\n",
    "    estate_collection_all.setdefault('Цена', []).append(p.text.strip())\n",
    "    estate_collection_all.setdefault('Локация', []).append(l.text.strip())\n",
    "\n",
    "for next_page_element in next_page_elements[:8]:  # Take only the first 8 elements\n",
    "\n",
    "    next_page_url = next_page_element['href']  # Join the base URL with the relative URL\n",
    "\n",
    "    # Make a request to the next page URL\n",
    "    response = requests.get(url='http:' + next_page_url)\n",
    "\n",
    "    # Parse the HTML content of the next page\n",
    "    soup_next_page = BeautifulSoup(response.content.decode('windows-1251'), 'html.parser')\n",
    "\n",
    "    # Extract all paragraph elements from the next page\n",
    "    price_elements_next_page = soup_next_page.find_all('div', class_='price')\n",
    "    type_elements_next_page = soup_next_page.find_all('a', class_='lnk1')\n",
    "    location_elements_next_page = soup_next_page.find_all('a', class_='lnk2')\n",
    "\n",
    "    for index, (p, t, l) in enumerate(zip(price_elements_next_page, type_elements_next_page, location_elements_next_page)):\n",
    "        estate_collection_all.setdefault('Имот', []).append(t.text.strip())\n",
    "        estate_collection_all.setdefault('Цена', []).append(p.text.strip())\n",
    "        estate_collection_all.setdefault('Локация', []).append(l.text.strip())\n",
    "\n",
    "df_estate_collection_all = pd.DataFrame(estate_collection_all)\n",
    "df_estate_collection_all"
   ]
  },
  {
   "cell_type": "markdown",
   "id": "830bfe32-0512-4535-8193-0d1a17d14073",
   "metadata": {},
   "source": [
    "<p style=\"color:black; background-color:white; padding:5px;\">The result is a dataframe with all apartments in the city of Pazardzhik, Bulgaria, a total of 350 in number, arranged in three columns - apartment type, apartment price and location.</p>"
   ]
  },
  {
   "cell_type": "markdown",
   "id": "e134cbec-049c-4641-ac70-1afa5e54a10c",
   "metadata": {},
   "source": [
    "---"
   ]
  },
  {
   "cell_type": "markdown",
   "id": "87fcb45b-5d92-4cb8-9d02-76cca7082b41",
   "metadata": {},
   "source": [
    "<h4 style=\"color:black; background-color:white; padding:5px; padding-bottom:10px; margin-bottom:-10px\">Step five. Transform the data from all pages</h4>\n",
    "<p style=\"color:black; background-color:white; padding:5px\">In this step, as we already do that, the data will be transformed in two directions: the names of the columns and the elements in the columns will be changed from Bulgarian to English, and secondly, the monetary unit will be unified, and all prices in BGN will be recalculated into Euros. Also, any apartments without a listed price will be removed from the dataframe.</p>"
   ]
  },
  {
   "cell_type": "code",
   "execution_count": 32,
   "id": "60d2ad00-f117-4f41-b4be-05e5dba07fb1",
   "metadata": {},
   "outputs": [
    {
     "data": {
      "text/html": [
       "<div>\n",
       "<style scoped>\n",
       "    .dataframe tbody tr th:only-of-type {\n",
       "        vertical-align: middle;\n",
       "    }\n",
       "\n",
       "    .dataframe tbody tr th {\n",
       "        vertical-align: top;\n",
       "    }\n",
       "\n",
       "    .dataframe thead th {\n",
       "        text-align: right;\n",
       "    }\n",
       "</style>\n",
       "<table border=\"1\" class=\"dataframe\">\n",
       "  <thead>\n",
       "    <tr style=\"text-align: right;\">\n",
       "      <th></th>\n",
       "      <th>Estate_Type</th>\n",
       "      <th>Price</th>\n",
       "      <th>Location</th>\n",
       "    </tr>\n",
       "  </thead>\n",
       "  <tbody>\n",
       "    <tr>\n",
       "      <th>1</th>\n",
       "      <td>1-room</td>\n",
       "      <td>26020</td>\n",
       "      <td>Mladost</td>\n",
       "    </tr>\n",
       "    <tr>\n",
       "      <th>2</th>\n",
       "      <td>2-room</td>\n",
       "      <td>35714</td>\n",
       "      <td>Mladost</td>\n",
       "    </tr>\n",
       "    <tr>\n",
       "      <th>3</th>\n",
       "      <td>3-room</td>\n",
       "      <td>61224</td>\n",
       "      <td>Ruski</td>\n",
       "    </tr>\n",
       "    <tr>\n",
       "      <th>4</th>\n",
       "      <td>3-room</td>\n",
       "      <td>68000</td>\n",
       "      <td>Mladost</td>\n",
       "    </tr>\n",
       "    <tr>\n",
       "      <th>5</th>\n",
       "      <td>2-room</td>\n",
       "      <td>72000</td>\n",
       "      <td>Shirok centre</td>\n",
       "    </tr>\n",
       "    <tr>\n",
       "      <th>...</th>\n",
       "      <td>...</td>\n",
       "      <td>...</td>\n",
       "      <td>...</td>\n",
       "    </tr>\n",
       "    <tr>\n",
       "      <th>341</th>\n",
       "      <td>3-room</td>\n",
       "      <td>145000</td>\n",
       "      <td>Industrial area</td>\n",
       "    </tr>\n",
       "    <tr>\n",
       "      <th>342</th>\n",
       "      <td>4-room</td>\n",
       "      <td>150000</td>\n",
       "      <td>Iztok</td>\n",
       "    </tr>\n",
       "    <tr>\n",
       "      <th>343</th>\n",
       "      <td>3-room</td>\n",
       "      <td>150000</td>\n",
       "      <td>Super centre</td>\n",
       "    </tr>\n",
       "    <tr>\n",
       "      <th>344</th>\n",
       "      <td>4-room</td>\n",
       "      <td>155612</td>\n",
       "      <td>Super centre</td>\n",
       "    </tr>\n",
       "    <tr>\n",
       "      <th>345</th>\n",
       "      <td>3-room</td>\n",
       "      <td>156000</td>\n",
       "      <td>Shirok centre</td>\n",
       "    </tr>\n",
       "  </tbody>\n",
       "</table>\n",
       "<p>345 rows × 3 columns</p>\n",
       "</div>"
      ],
      "text/plain": [
       "    Estate_Type   Price         Location\n",
       "1        1-room   26020          Mladost\n",
       "2        2-room   35714          Mladost\n",
       "3        3-room   61224            Ruski\n",
       "4        3-room   68000          Mladost\n",
       "5        2-room   72000    Shirok centre\n",
       "..          ...     ...              ...\n",
       "341      3-room  145000  Industrial area\n",
       "342      4-room  150000            Iztok\n",
       "343      3-room  150000     Super centre\n",
       "344      4-room  155612     Super centre\n",
       "345      3-room  156000    Shirok centre\n",
       "\n",
       "[345 rows x 3 columns]"
      ]
     },
     "execution_count": 32,
     "metadata": {},
     "output_type": "execute_result"
    }
   ],
   "source": [
    "# transform the index to start from 1 \n",
    "df_estate_collection_all.index = df_estate_collection_all.index + 1\n",
    "\n",
    "#Change the name of columns\n",
    "df_estate_collection_all = df_estate_collection_all.rename(columns={'Имот': 'Estate_Type', 'Цена': 'Price', 'Локация': 'Location'})\n",
    "\n",
    "#change the name of elements in columns\n",
    "df_estate_collection_all['Estate_Type'] = df_estate_collection_all['Estate_Type'].str.replace('Продава', '')\n",
    "df_estate_collection_all['Estate_Type'] = df_estate_collection_all['Estate_Type'].str.replace('СТАЕН', 'room')\n",
    "df_estate_collection_all['Price'] = df_estate_collection_all['Price'].replace('Цена при запитване', float('nan'))\n",
    "\n",
    "#remove the nan elemenents\n",
    "df_estate_collection_all = df_estate_collection_all.dropna(subset=['Price'])\n",
    "\n",
    "#transform the locations to eng\n",
    "df_estate_collection_all['Location'] = df_estate_collection_all['Location'].str.replace('град', '')\n",
    "df_estate_collection_all['Location'] = df_estate_collection_all['Location'].str.replace('Пазарджик', '')\n",
    "df_estate_collection_all['Location'] = df_estate_collection_all['Location'].str.replace(',', '')\n",
    "df_estate_collection_all['Location'] = df_estate_collection_all['Location'].str.replace(' ', '')\n",
    "\n",
    "# Dictionary for renaming elements\n",
    "rename_dict = {'Младост': 'Mladost', 'Руски': 'Ruski', 'Център': 'Shirok centre', 'Ставропол': 'Stavropol', 'Устрем': 'Ustrem', 'Моста на Лютата': 'The bridge',\n",
    "               'Запад': 'Zapad', 'Идеаленцентър': 'Super centre', 'Ябълките': 'Yabalkite', 'Промишленазона': 'Industrial area', 'Изток': 'Iztok', \n",
    "               'Окръжнаболница': 'Bolnica', 'МостанаЛютата': 'The bridge'}\n",
    "\n",
    "# Rename elements in 'Column2' using the dictionary\n",
    "df_estate_collection_all['Location'] = df_estate_collection_all['Location'].replace(rename_dict)\n",
    "\n",
    "# change the elements in price column\n",
    "def convert_to_eur(Price):\n",
    "    if 'лв.' in Price:\n",
    "        Price = Price.replace('лв.', '').replace(' ', '')\n",
    "        Price = round(float(Price) / 1.96)\n",
    "    elif 'EUR' in Price:\n",
    "        Price = Price.replace('EUR', '').replace(' ', '')\n",
    "        Price = round(float(Price))\n",
    "    elif '$' in Price:\n",
    "        Price = Price.replace('$', '').replace(' ', '')\n",
    "        Price = round(float(Price) * 0.93)\n",
    "    return Price\n",
    "\n",
    "# Apply the conversion function to the Price column\n",
    "df_estate_collection_all['Price'] = df_estate_collection_all['Price'].apply(convert_to_eur)\n",
    "df_estate_collection_all['Price'] = df_estate_collection_all['Price'].astype(int)\n",
    "df_estate_collection_all"
   ]
  },
  {
   "cell_type": "markdown",
   "id": "46f17b00-8b77-4e0e-9d90-99edc9a5f83d",
   "metadata": {},
   "source": [
    "<p style=\"color:black; background-color:white; padding:5px;\">The result is a dataframe with all apartments in the city of Pazardzhik, Bulgaria, with prices, a total of 344 in number, arranged in three columns - apartment type, apartment price (in euro) and location.</p>"
   ]
  },
  {
   "cell_type": "markdown",
   "id": "baacc891-b312-4fe4-9aaf-ab0494416399",
   "metadata": {},
   "source": [
    "---"
   ]
  },
  {
   "cell_type": "markdown",
   "id": "477aa5b6-de5c-477e-bffc-8cf91136ec18",
   "metadata": {},
   "source": [
    "<h3 style=\"color:black; background-color:white; padding:5px; padding-bottom:10px; margin-bottom:-10px\">3. Analysis of the data</h3>\n",
    "<p style=\"color:black; background-color:yellow; padding:5px\">In this step, we filter the home page for two elements that we need for the analysis - price and type of apartments. We save the results as a dataframe.</p>"
   ]
  },
  {
   "cell_type": "code",
   "execution_count": 49,
   "id": "75cf54b8-06f2-426c-8775-bea35538529a",
   "metadata": {},
   "outputs": [
    {
     "data": {
      "image/png": "[encoded data removed]",
      "text/plain": [
       "<Figure size 1080x576 with 1 Axes>"
      ]
     },
     "metadata": {
      "needs_background": "light"
     },
     "output_type": "display_data"
    }
   ],
   "source": [
    "import seaborn as sns\n",
    "from matplotlib import pyplot as plt\n",
    "\n",
    "plt.figure(figsize=(15,8))\n",
    "ax = sns.boxplot(x='Location',y='Price',data=df_estate_collection_all)\n",
    "ax = sns.swarmplot(x='Location',y='Price', data=df_estate_collection_all, color=\"white\", edgecolor=\"black\", linewidth=2, size = 7)\n",
    "plt.show()"
   ]
  },
  {
   "cell_type": "code",
   "execution_count": 40,
   "id": "4883eebe-1c16-4b44-9921-a67850960702",
   "metadata": {},
   "outputs": [
    {
     "data": {
      "application/vnd.plotly.v1+json": {
       "config": {
        "plotlyServerURL": "https://plot.ly"
       },
       "data": [
        {
         "alignmentgroup": "True",
         "boxpoints": "all",
         "hovertemplate": "Location=%{x}<br>Price=%{y}<extra></extra>",
         "legendgroup": "",
         "marker": {
          "color": "#636efa"
         },
         "name": "",
         "notched": false,
         "offsetgroup": "",
         "orientation": "v",
         "showlegend": false,
         "type": "box",
         "x": [
          "Mladost",
          "Mladost",
          "Ruski",
          "Mladost",
          "Shirok centre",
          "Stavropol",
          "Ustrem",
          "Shirok centre",
          "Shirok centre",
          "Shirok centre",
          "The bridge",
          "Stavropol",
          "Shirok centre",
          "Ustrem",
          "Iztok",
          "Ruski",
          "Ustrem",
          "Shirok centre",
          "Zapad",
          "Super centre",
          "Shirok centre",
          "Shirok centre",
          "Zapad",
          "Shirok centre",
          "Shirok centre",
          "Super centre",
          "Shirok centre",
          "Stavropol",
          "Shirok centre",
          "Shirok centre",
          "Shirok centre",
          "Mladost",
          "Super centre",
          "Super centre",
          "Super centre",
          "Super centre",
          "Shirok centre",
          "Super centre",
          "Yabalkite",
          "Ruski",
          "The bridge",
          "Shirok centre",
          "Industrial area",
          "Industrial area",
          "Mladost",
          "Mladost",
          "Shirok centre",
          "Shirok centre",
          "Bolnica",
          "Super centre",
          "Shirok centre",
          "Yabalkite",
          "Iztok",
          "Bolnica",
          "Mladost",
          "The bridge",
          "Ustrem",
          "Bolnica",
          "Stavropol",
          "Ustrem",
          "Shirok centre",
          "Super centre",
          "Ustrem",
          "Ustrem",
          "Shirok centre",
          "Ustrem",
          "Stavropol",
          "Shirok centre",
          "Stavropol",
          "Zapad",
          "Mladost",
          "Bolnica",
          "Stavropol",
          "The bridge",
          "Shirok centre",
          "Shirok centre",
          "Mladost",
          "Bolnica",
          "Shirok centre",
          "Iztok",
          "Super centre",
          "Stavropol",
          "Bolnica",
          "Shirok centre",
          "Mladost",
          "Stavropol",
          "Ustrem",
          "Stavropol",
          "The bridge",
          "Ustrem",
          "Super centre",
          "Iztok",
          "Ustrem",
          "Shirok centre",
          "Super centre",
          "Shirok centre",
          "Stavropol",
          "Shirok centre",
          "Shirok centre",
          "Ustrem",
          "Super centre",
          "Super centre",
          "Shirok centre",
          "Bolnica",
          "Zapad",
          "Bolnica",
          "Ruski",
          "Shirok centre",
          "Mladost",
          "Ustrem",
          "Shirok centre",
          "Mladost",
          "Stavropol",
          "The bridge",
          "Iztok",
          "Iztok",
          "Shirok centre",
          "Iztok",
          "Stavropol",
          "Iztok",
          "Shirok centre",
          "Ustrem",
          "Super centre",
          "Yabalkite",
          "Iztok",
          "Shirok centre",
          "Shirok centre",
          "Bolnica",
          "Shirok centre",
          "Shirok centre",
          "Shirok centre",
          "Iztok",
          "Super centre",
          "Super centre",
          "Iztok",
          "Ruski",
          "Ruski",
          "Shirok centre",
          "Shirok centre",
          "Ustrem",
          "Iztok",
          "Ustrem",
          "Super centre",
          "Ustrem",
          "Bolnica",
          "Zapad",
          "Super centre",
          "Shirok centre",
          "Zapad",
          "Super centre",
          "Bolnica",
          "Iztok",
          "Iztok",
          "Ustrem",
          "Shirok centre",
          "Shirok centre",
          "Stavropol",
          "Ustrem",
          "Ustrem",
          "Bolnica",
          "Iztok",
          "Iztok",
          "Shirok centre",
          "Shirok centre",
          "Ruski",
          "Shirok centre",
          "Bolnica",
          "Shirok centre",
          "Iztok",
          "Mladost",
          "Zapad",
          "Stavropol",
          "Ustrem",
          "Zapad",
          "The bridge",
          "Shirok centre",
          "Shirok centre",
          "Ruski",
          "Iztok",
          "Super centre",
          "Iztok",
          "Zapad",
          "Iztok",
          "Shirok centre",
          "The bridge",
          "Iztok",
          "Ruski",
          "Iztok",
          "The bridge",
          "Ruski",
          "Shirok centre",
          "Ustrem",
          "Super centre",
          "Super centre",
          "Super centre",
          "Ustrem",
          "Stavropol",
          "Stavropol",
          "Shirok centre",
          "Shirok centre",
          "Shirok centre",
          "Super centre",
          "Shirok centre",
          "Zapad",
          "Shirok centre",
          "Shirok centre",
          "Shirok centre",
          "Shirok centre",
          "Ruski",
          "Ruski",
          "Ruski",
          "Shirok centre",
          "Shirok centre",
          "Super centre",
          "Shirok centre",
          "Shirok centre",
          "Super centre",
          "Bolnica",
          "Super centre",
          "Shirok centre",
          "Bolnica",
          "Shirok centre",
          "Mladost",
          "Shirok centre",
          "Ustrem",
          "The bridge",
          "Shirok centre",
          "Mladost",
          "Super centre",
          "Shirok centre",
          "Shirok centre",
          "Mladost",
          "Ruski",
          "Shirok centre",
          "Ustrem",
          "Super centre",
          "The bridge",
          "Shirok centre",
          "Super centre",
          "Shirok centre",
          "Shirok centre",
          "Shirok centre",
          "Ustrem",
          "Shirok centre",
          "Shirok centre",
          "Ruski",
          "Super centre",
          "Super centre",
          "Shirok centre",
          "The bridge",
          "Ruski",
          "Ruski",
          "Ruski",
          "Super centre",
          "Shirok centre",
          "Super centre",
          "Shirok centre",
          "Ruski",
          "Super centre",
          "Super centre",
          "Iztok",
          "Shirok centre",
          "Shirok centre",
          "Super centre",
          "Shirok centre",
          "Shirok centre",
          "Bolnica",
          "Ruski",
          "Ruski",
          "Zapad",
          "Shirok centre",
          "Shirok centre",
          "Yabalkite",
          "Shirok centre",
          "Ruski",
          "Ruski",
          "Shirok centre",
          "Yabalkite",
          "Ustrem",
          "Ruski",
          "Shirok centre",
          "Ruski",
          "Shirok centre",
          "Ruski",
          "Bolnica",
          "Super centre",
          "Super centre",
          "Shirok centre",
          "Shirok centre",
          "Ruski",
          "Stavropol",
          "Mladost",
          "Super centre",
          "Mladost",
          "Super centre",
          "Super centre",
          "Shirok centre",
          "Stavropol",
          "Super centre",
          "Ruski",
          "Bolnica",
          "Super centre",
          "Zapad",
          "Mladost",
          "Super centre",
          "Shirok centre",
          "Ruski",
          "Super centre",
          "Super centre",
          "Shirok centre",
          "Shirok centre",
          "Super centre",
          "Super centre",
          "Iztok",
          "Zapad",
          "Shirok centre",
          "Shirok centre",
          "Shirok centre",
          "Shirok centre",
          "Stavropol",
          "Shirok centre",
          "Super centre",
          "Ruski",
          "Super centre",
          "Shirok centre",
          "Industrial area",
          "Industrial area",
          "Industrial area",
          "Shirok centre",
          "Stavropol",
          "Industrial area",
          "Stavropol",
          "Shirok centre",
          "Mladost",
          "Ustrem",
          "Shirok centre",
          "Shirok centre",
          "Super centre",
          "Ruski",
          "Shirok centre",
          "Industrial area",
          "Iztok",
          "Super centre",
          "Super centre",
          "Shirok centre"
         ],
         "x0": " ",
         "xaxis": "x",
         "y": [
          26020,
          35714,
          61224,
          68000,
          72000,
          72800,
          81633,
          85000,
          99500,
          28061,
          39000,
          41837,
          45000,
          46000,
          45918,
          50000,
          50000,
          52000,
          53000,
          53000,
          56000,
          60204,
          61224,
          65000,
          65000,
          65377,
          66327,
          71400,
          73000,
          74000,
          74000,
          75000,
          77295,
          79373,
          81000,
          90000,
          96000,
          99000,
          24490,
          25000,
          27000,
          31633,
          32653,
          32653,
          33061,
          33163,
          35000,
          35000,
          35714,
          35714,
          35714,
          36000,
          36480,
          36735,
          38000,
          38000,
          38265,
          38265,
          38265,
          38265,
          38265,
          38265,
          38265,
          38265,
          38999,
          39600,
          39796,
          39995,
          40561,
          40816,
          40816,
          40816,
          41837,
          42000,
          42000,
          42000,
          42347,
          43000,
          43000,
          43460,
          43367,
          43367,
          43367,
          43367,
          44000,
          44000,
          44670,
          44898,
          44898,
          44898,
          45000,
          45000,
          45000,
          45000,
          45000,
          45000,
          45000,
          45000,
          45000,
          45700,
          45750,
          46000,
          45918,
          45918,
          45918,
          45918,
          46112,
          46596,
          46600,
          46974,
          47000,
          47449,
          48000,
          48000,
          48469,
          48469,
          48469,
          48469,
          49439,
          50000,
          50000,
          50000,
          50000,
          50000,
          50000,
          50000,
          50000,
          50357,
          51020,
          51020,
          52000,
          52000,
          52000,
          52500,
          52600,
          52640,
          52700,
          53000,
          53000,
          53280,
          53300,
          53630,
          53686,
          54000,
          54082,
          54592,
          54592,
          55000,
          55000,
          55000,
          55000,
          55000,
          55000,
          55250,
          55300,
          56000,
          56000,
          56000,
          56000,
          56071,
          56122,
          56122,
          56500,
          56750,
          57000,
          57000,
          57000,
          57000,
          57143,
          57630,
          58000,
          57908,
          59500,
          60000,
          60000,
          60000,
          60000,
          61300,
          61224,
          61224,
          61224,
          61224,
          61400,
          62000,
          62000,
          62000,
          62000,
          62245,
          63000,
          63000,
          63000,
          63400,
          63776,
          63776,
          63776,
          64700,
          65000,
          65000,
          65000,
          65000,
          65000,
          65442,
          66000,
          66000,
          66276,
          66327,
          66327,
          66327,
          66500,
          66500,
          66938,
          67000,
          67000,
          67000,
          68000,
          68000,
          69382,
          69387,
          70000,
          70000,
          70000,
          70000,
          70000,
          70000,
          70051,
          70918,
          71400,
          71378,
          71429,
          71686,
          71900,
          72449,
          73312,
          73500,
          73800,
          74000,
          74000,
          73980,
          73980,
          73980,
          74500,
          75000,
          75000,
          75000,
          75000,
          75000,
          75000,
          75000,
          75000,
          75000,
          76400,
          76400,
          76480,
          76531,
          77000,
          77357,
          77551,
          80000,
          80000,
          80000,
          80000,
          80000,
          80000,
          80000,
          80000,
          80000,
          86490,
          81000,
          82000,
          82000,
          82000,
          82000,
          83000,
          83000,
          83690,
          83690,
          83954,
          85000,
          85000,
          85000,
          85000,
          85000,
          85000,
          85050,
          86735,
          86735,
          86735,
          86735,
          87300,
          88200,
          88800,
          88800,
          88800,
          88776,
          90000,
          90000,
          90000,
          90560,
          91837,
          92950,
          93000,
          93000,
          93600,
          93622,
          95000,
          96000,
          96684,
          99000,
          100000,
          100000,
          100000,
          100000,
          100000,
          100000,
          100000,
          100000,
          100000,
          101020,
          105300,
          110000,
          110000,
          110000,
          110000,
          112000,
          112000,
          115000,
          115000,
          115000,
          115000,
          115000,
          115000,
          115000,
          119000,
          123000,
          127551,
          130000,
          130000,
          130000,
          130000,
          143000,
          145000,
          150000,
          150000,
          155612,
          156000
         ],
         "y0": " ",
         "yaxis": "y"
        }
       ],
       "layout": {
        "autosize": true,
        "boxmode": "group",
        "legend": {
         "tracegroupgap": 0
        },
        "margin": {
         "t": 60
        },
        "template": {
         "data": {
          "bar": [
           {
            "error_x": {
             "color": "#2a3f5f"
            },
            "error_y": {
             "color": "#2a3f5f"
            },
            "marker": {
             "line": {
              "color": "#E5ECF6",
              "width": 0.5
             },
             "pattern": {
              "fillmode": "overlay",
              "size": 10,
              "solidity": 0.2
             }
            },
            "type": "bar"
           }
          ],
          "barpolar": [
           {
            "marker": {
             "line": {
              "color": "#E5ECF6",
              "width": 0.5
             },
             "pattern": {
              "fillmode": "overlay",
              "size": 10,
              "solidity": 0.2
             }
            },
            "type": "barpolar"
           }
          ],
          "carpet": [
           {
            "aaxis": {
             "endlinecolor": "#2a3f5f",
             "gridcolor": "white",
             "linecolor": "white",
             "minorgridcolor": "white",
             "startlinecolor": "#2a3f5f"
            },
            "baxis": {
             "endlinecolor": "#2a3f5f",
             "gridcolor": "white",
             "linecolor": "white",
             "minorgridcolor": "white",
             "startlinecolor": "#2a3f5f"
            },
            "type": "carpet"
           }
          ],
          "choropleth": [
           {
            "colorbar": {
             "outlinewidth": 0,
             "ticks": ""
            },
            "type": "choropleth"
           }
          ],
          "contour": [
           {
            "colorbar": {
             "outlinewidth": 0,
             "ticks": ""
            },
            "colorscale": [
             [
              0,
              "#0d0887"
             ],
             [
              0.1111111111111111,
              "#46039f"
             ],
             [
              0.2222222222222222,
              "#7201a8"
             ],
             [
              0.3333333333333333,
              "#9c179e"
             ],
             [
              0.4444444444444444,
              "#bd3786"
             ],
             [
              0.5555555555555556,
              "#d8576b"
             ],
             [
              0.6666666666666666,
              "#ed7953"
             ],
             [
              0.7777777777777778,
              "#fb9f3a"
             ],
             [
              0.8888888888888888,
              "#fdca26"
             ],
             [
              1,
              "#f0f921"
             ]
            ],
            "type": "contour"
           }
          ],
          "contourcarpet": [
           {
            "colorbar": {
             "outlinewidth": 0,
             "ticks": ""
            },
            "type": "contourcarpet"
           }
          ],
          "heatmap": [
           {
            "colorbar": {
             "outlinewidth": 0,
             "ticks": ""
            },
            "colorscale": [
             [
              0,
              "#0d0887"
             ],
             [
              0.1111111111111111,
              "#46039f"
             ],
             [
              0.2222222222222222,
              "#7201a8"
             ],
             [
              0.3333333333333333,
              "#9c179e"
             ],
             [
              0.4444444444444444,
              "#bd3786"
             ],
             [
              0.5555555555555556,
              "#d8576b"
             ],
             [
              0.6666666666666666,
              "#ed7953"
             ],
             [
              0.7777777777777778,
              "#fb9f3a"
             ],
             [
              0.8888888888888888,
              "#fdca26"
             ],
             [
              1,
              "#f0f921"
             ]
            ],
            "type": "heatmap"
           }
          ],
          "heatmapgl": [
           {
            "colorbar": {
             "outlinewidth": 0,
             "ticks": ""
            },
            "colorscale": [
             [
              0,
              "#0d0887"
             ],
             [
              0.1111111111111111,
              "#46039f"
             ],
             [
              0.2222222222222222,
              "#7201a8"
             ],
             [
              0.3333333333333333,
              "#9c179e"
             ],
             [
              0.4444444444444444,
              "#bd3786"
             ],
             [
              0.5555555555555556,
              "#d8576b"
             ],
             [
              0.6666666666666666,
              "#ed7953"
             ],
             [
              0.7777777777777778,
              "#fb9f3a"
             ],
             [
              0.8888888888888888,
              "#fdca26"
             ],
             [
              1,
              "#f0f921"
             ]
            ],
            "type": "heatmapgl"
           }
          ],
          "histogram": [
           {
            "marker": {
             "pattern": {
              "fillmode": "overlay",
              "size": 10,
              "solidity": 0.2
             }
            },
            "type": "histogram"
           }
          ],
          "histogram2d": [
           {
            "colorbar": {
             "outlinewidth": 0,
             "ticks": ""
            },
            "colorscale": [
             [
              0,
              "#0d0887"
             ],
             [
              0.1111111111111111,
              "#46039f"
             ],
             [
              0.2222222222222222,
              "#7201a8"
             ],
             [
              0.3333333333333333,
              "#9c179e"
             ],
             [
              0.4444444444444444,
              "#bd3786"
             ],
             [
              0.5555555555555556,
              "#d8576b"
             ],
             [
              0.6666666666666666,
              "#ed7953"
             ],
             [
              0.7777777777777778,
              "#fb9f3a"
             ],
             [
              0.8888888888888888,
              "#fdca26"
             ],
             [
              1,
              "#f0f921"
             ]
            ],
            "type": "histogram2d"
           }
          ],
          "histogram2dcontour": [
           {
            "colorbar": {
             "outlinewidth": 0,
             "ticks": ""
            },
            "colorscale": [
             [
              0,
              "#0d0887"
             ],
             [
              0.1111111111111111,
              "#46039f"
             ],
             [
              0.2222222222222222,
              "#7201a8"
             ],
             [
              0.3333333333333333,
              "#9c179e"
             ],
             [
              0.4444444444444444,
              "#bd3786"
             ],
             [
              0.5555555555555556,
              "#d8576b"
             ],
             [
              0.6666666666666666,
              "#ed7953"
             ],
             [
              0.7777777777777778,
              "#fb9f3a"
             ],
             [
              0.8888888888888888,
              "#fdca26"
             ],
             [
              1,
              "#f0f921"
             ]
            ],
            "type": "histogram2dcontour"
           }
          ],
          "mesh3d": [
           {
            "colorbar": {
             "outlinewidth": 0,
             "ticks": ""
            },
            "type": "mesh3d"
           }
          ],
          "parcoords": [
           {
            "line": {
             "colorbar": {
              "outlinewidth": 0,
              "ticks": ""
             }
            },
            "type": "parcoords"
           }
          ],
          "pie": [
           {
            "automargin": true,
            "type": "pie"
           }
          ],
          "scatter": [
           {
            "fillpattern": {
             "fillmode": "overlay",
             "size": 10,
             "solidity": 0.2
            },
            "type": "scatter"
           }
          ],
          "scatter3d": [
           {
            "line": {
             "colorbar": {
              "outlinewidth": 0,
              "ticks": ""
             }
            },
            "marker": {
             "colorbar": {
              "outlinewidth": 0,
              "ticks": ""
             }
            },
            "type": "scatter3d"
           }
          ],
          "scattercarpet": [
           {
            "marker": {
             "colorbar": {
              "outlinewidth": 0,
              "ticks": ""
             }
            },
            "type": "scattercarpet"
           }
          ],
          "scattergeo": [
           {
            "marker": {
             "colorbar": {
              "outlinewidth": 0,
              "ticks": ""
             }
            },
            "type": "scattergeo"
           }
          ],
          "scattergl": [
           {
            "marker": {
             "colorbar": {
              "outlinewidth": 0,
              "ticks": ""
             }
            },
            "type": "scattergl"
           }
          ],
          "scattermapbox": [
           {
            "marker": {
             "colorbar": {
              "outlinewidth": 0,
              "ticks": ""
             }
            },
            "type": "scattermapbox"
           }
          ],
          "scatterpolar": [
           {
            "marker": {
             "colorbar": {
              "outlinewidth": 0,
              "ticks": ""
             }
            },
            "type": "scatterpolar"
           }
          ],
          "scatterpolargl": [
           {
            "marker": {
             "colorbar": {
              "outlinewidth": 0,
              "ticks": ""
             }
            },
            "type": "scatterpolargl"
           }
          ],
          "scatterternary": [
           {
            "marker": {
             "colorbar": {
              "outlinewidth": 0,
              "ticks": ""
             }
            },
            "type": "scatterternary"
           }
          ],
          "surface": [
           {
            "colorbar": {
             "outlinewidth": 0,
             "ticks": ""
            },
            "colorscale": [
             [
              0,
              "#0d0887"
             ],
             [
              0.1111111111111111,
              "#46039f"
             ],
             [
              0.2222222222222222,
              "#7201a8"
             ],
             [
              0.3333333333333333,
              "#9c179e"
             ],
             [
              0.4444444444444444,
              "#bd3786"
             ],
             [
              0.5555555555555556,
              "#d8576b"
             ],
             [
              0.6666666666666666,
              "#ed7953"
             ],
             [
              0.7777777777777778,
              "#fb9f3a"
             ],
             [
              0.8888888888888888,
              "#fdca26"
             ],
             [
              1,
              "#f0f921"
             ]
            ],
            "type": "surface"
           }
          ],
          "table": [
           {
            "cells": {
             "fill": {
              "color": "#EBF0F8"
             },
             "line": {
              "color": "white"
             }
            },
            "header": {
             "fill": {
              "color": "#C8D4E3"
             },
             "line": {
              "color": "white"
             }
            },
            "type": "table"
           }
          ]
         },
         "layout": {
          "annotationdefaults": {
           "arrowcolor": "#2a3f5f",
           "arrowhead": 0,
           "arrowwidth": 1
          },
          "autotypenumbers": "strict",
          "coloraxis": {
           "colorbar": {
            "outlinewidth": 0,
            "ticks": ""
           }
          },
          "colorscale": {
           "diverging": [
            [
             0,
             "#8e0152"
            ],
            [
             0.1,
             "#c51b7d"
            ],
            [
             0.2,
             "#de77ae"
            ],
            [
             0.3,
             "#f1b6da"
            ],
            [
             0.4,
             "#fde0ef"
            ],
            [
             0.5,
             "#f7f7f7"
            ],
            [
             0.6,
             "#e6f5d0"
            ],
            [
             0.7,
             "#b8e186"
            ],
            [
             0.8,
             "#7fbc41"
            ],
            [
             0.9,
             "#4d9221"
            ],
            [
             1,
             "#276419"
            ]
           ],
           "sequential": [
            [
             0,
             "#0d0887"
            ],
            [
             0.1111111111111111,
             "#46039f"
            ],
            [
             0.2222222222222222,
             "#7201a8"
            ],
            [
             0.3333333333333333,
             "#9c179e"
            ],
            [
             0.4444444444444444,
             "#bd3786"
            ],
            [
             0.5555555555555556,
             "#d8576b"
            ],
            [
             0.6666666666666666,
             "#ed7953"
            ],
            [
             0.7777777777777778,
             "#fb9f3a"
            ],
            [
             0.8888888888888888,
             "#fdca26"
            ],
            [
             1,
             "#f0f921"
            ]
           ],
           "sequentialminus": [
            [
             0,
             "#0d0887"
            ],
            [
             0.1111111111111111,
             "#46039f"
            ],
            [
             0.2222222222222222,
             "#7201a8"
            ],
            [
             0.3333333333333333,
             "#9c179e"
            ],
            [
             0.4444444444444444,
             "#bd3786"
            ],
            [
             0.5555555555555556,
             "#d8576b"
            ],
            [
             0.6666666666666666,
             "#ed7953"
            ],
            [
             0.7777777777777778,
             "#fb9f3a"
            ],
            [
             0.8888888888888888,
             "#fdca26"
            ],
            [
             1,
             "#f0f921"
            ]
           ]
          },
          "colorway": [
           "#636efa",
           "#EF553B",
           "#00cc96",
           "#ab63fa",
           "#FFA15A",
           "#19d3f3",
           "#FF6692",
           "#B6E880",
           "#FF97FF",
           "#FECB52"
          ],
          "font": {
           "color": "#2a3f5f"
          },
          "geo": {
           "bgcolor": "white",
           "lakecolor": "white",
           "landcolor": "#E5ECF6",
           "showlakes": true,
           "showland": true,
           "subunitcolor": "white"
          },
          "hoverlabel": {
           "align": "left"
          },
          "hovermode": "closest",
          "mapbox": {
           "style": "light"
          },
          "paper_bgcolor": "white",
          "plot_bgcolor": "#E5ECF6",
          "polar": {
           "angularaxis": {
            "gridcolor": "white",
            "linecolor": "white",
            "ticks": ""
           },
           "bgcolor": "#E5ECF6",
           "radialaxis": {
            "gridcolor": "white",
            "linecolor": "white",
            "ticks": ""
           }
          },
          "scene": {
           "xaxis": {
            "backgroundcolor": "#E5ECF6",
            "gridcolor": "white",
            "gridwidth": 2,
            "linecolor": "white",
            "showbackground": true,
            "ticks": "",
            "zerolinecolor": "white"
           },
           "yaxis": {
            "backgroundcolor": "#E5ECF6",
            "gridcolor": "white",
            "gridwidth": 2,
            "linecolor": "white",
            "showbackground": true,
            "ticks": "",
            "zerolinecolor": "white"
           },
           "zaxis": {
            "backgroundcolor": "#E5ECF6",
            "gridcolor": "white",
            "gridwidth": 2,
            "linecolor": "white",
            "showbackground": true,
            "ticks": "",
            "zerolinecolor": "white"
           }
          },
          "shapedefaults": {
           "line": {
            "color": "#2a3f5f"
           }
          },
          "ternary": {
           "aaxis": {
            "gridcolor": "white",
            "linecolor": "white",
            "ticks": ""
           },
           "baxis": {
            "gridcolor": "white",
            "linecolor": "white",
            "ticks": ""
           },
           "bgcolor": "#E5ECF6",
           "caxis": {
            "gridcolor": "white",
            "linecolor": "white",
            "ticks": ""
           }
          },
          "title": {
           "x": 0.05
          },
          "xaxis": {
           "automargin": true,
           "gridcolor": "white",
           "linecolor": "white",
           "ticks": "",
           "title": {
            "standoff": 15
           },
           "zerolinecolor": "white",
           "zerolinewidth": 2
          },
          "yaxis": {
           "automargin": true,
           "gridcolor": "white",
           "linecolor": "white",
           "ticks": "",
           "title": {
            "standoff": 15
           },
           "zerolinecolor": "white",
           "zerolinewidth": 2
          }
         }
        },
        "xaxis": {
         "anchor": "y",
         "autorange": true,
         "domain": [
          0,
          1
         ],
         "range": [
          -0.5290791599353797,
          11.5
         ],
         "title": {
          "text": "Location"
         },
         "type": "category"
        },
        "yaxis": {
         "anchor": "x",
         "autorange": true,
         "domain": [
          0,
          1
         ],
         "range": [
          17183.88888888889,
          163306.11111111112
         ],
         "title": {
          "text": "Price"
         },
         "type": "linear"
        }
       }
      },
      "image/png": "[encoded data removed]",
      "text/html": [
       "<div>                            <div id=\"34d2f995-5743-421c-a81c-de1f5ad36ba7\" class=\"plotly-graph-div\" style=\"height:525px; width:100%;\"></div>            <script type=\"text/javascript\">                require([\"plotly\"], function(Plotly) {                    window.PLOTLYENV=window.PLOTLYENV || {};                                    if (document.getElementById(\"34d2f995-5743-421c-a81c-de1f5ad36ba7\")) {                    Plotly.newPlot(                        \"34d2f995-5743-421c-a81c-de1f5ad36ba7\",                        [{\"alignmentgroup\":\"True\",\"boxpoints\":\"all\",\"hovertemplate\":\"Location=%{x}<br>Price=%{y}<extra></extra>\",\"legendgroup\":\"\",\"marker\":{\"color\":\"#636efa\"},\"name\":\"\",\"notched\":false,\"offsetgroup\":\"\",\"orientation\":\"v\",\"showlegend\":false,\"x\":[\"Mladost\",\"Mladost\",\"Ruski\",\"Mladost\",\"Shirok centre\",\"Stavropol\",\"Ustrem\",\"Shirok centre\",\"Shirok centre\",\"Shirok centre\",\"The bridge\",\"Stavropol\",\"Shirok centre\",\"Ustrem\",\"Iztok\",\"Ruski\",\"Ustrem\",\"Shirok centre\",\"Zapad\",\"Super centre\",\"Shirok centre\",\"Shirok centre\",\"Zapad\",\"Shirok centre\",\"Shirok centre\",\"Super centre\",\"Shirok centre\",\"Stavropol\",\"Shirok centre\",\"Shirok centre\",\"Shirok centre\",\"Mladost\",\"Super centre\",\"Super centre\",\"Super centre\",\"Super centre\",\"Shirok centre\",\"Super centre\",\"Yabalkite\",\"Ruski\",\"The bridge\",\"Shirok centre\",\"Industrial area\",\"Industrial area\",\"Mladost\",\"Mladost\",\"Shirok centre\",\"Shirok centre\",\"Bolnica\",\"Super centre\",\"Shirok centre\",\"Yabalkite\",\"Iztok\",\"Bolnica\",\"Mladost\",\"The bridge\",\"Ustrem\",\"Bolnica\",\"Stavropol\",\"Ustrem\",\"Shirok centre\",\"Super centre\",\"Ustrem\",\"Ustrem\",\"Shirok centre\",\"Ustrem\",\"Stavropol\",\"Shirok centre\",\"Stavropol\",\"Zapad\",\"Mladost\",\"Bolnica\",\"Stavropol\",\"The bridge\",\"Shirok centre\",\"Shirok centre\",\"Mladost\",\"Bolnica\",\"Shirok centre\",\"Iztok\",\"Super centre\",\"Stavropol\",\"Bolnica\",\"Shirok centre\",\"Mladost\",\"Stavropol\",\"Ustrem\",\"Stavropol\",\"The bridge\",\"Ustrem\",\"Super centre\",\"Iztok\",\"Ustrem\",\"Shirok centre\",\"Super centre\",\"Shirok centre\",\"Stavropol\",\"Shirok centre\",\"Shirok centre\",\"Ustrem\",\"Super centre\",\"Super centre\",\"Shirok centre\",\"Bolnica\",\"Zapad\",\"Bolnica\",\"Ruski\",\"Shirok centre\",\"Mladost\",\"Ustrem\",\"Shirok centre\",\"Mladost\",\"Stavropol\",\"The bridge\",\"Iztok\",\"Iztok\",\"Shirok centre\",\"Iztok\",\"Stavropol\",\"Iztok\",\"Shirok centre\",\"Ustrem\",\"Super centre\",\"Yabalkite\",\"Iztok\",\"Shirok centre\",\"Shirok centre\",\"Bolnica\",\"Shirok centre\",\"Shirok centre\",\"Shirok centre\",\"Iztok\",\"Super centre\",\"Super centre\",\"Iztok\",\"Ruski\",\"Ruski\",\"Shirok centre\",\"Shirok centre\",\"Ustrem\",\"Iztok\",\"Ustrem\",\"Super centre\",\"Ustrem\",\"Bolnica\",\"Zapad\",\"Super centre\",\"Shirok centre\",\"Zapad\",\"Super centre\",\"Bolnica\",\"Iztok\",\"Iztok\",\"Ustrem\",\"Shirok centre\",\"Shirok centre\",\"Stavropol\",\"Ustrem\",\"Ustrem\",\"Bolnica\",\"Iztok\",\"Iztok\",\"Shirok centre\",\"Shirok centre\",\"Ruski\",\"Shirok centre\",\"Bolnica\",\"Shirok centre\",\"Iztok\",\"Mladost\",\"Zapad\",\"Stavropol\",\"Ustrem\",\"Zapad\",\"The bridge\",\"Shirok centre\",\"Shirok centre\",\"Ruski\",\"Iztok\",\"Super centre\",\"Iztok\",\"Zapad\",\"Iztok\",\"Shirok centre\",\"The bridge\",\"Iztok\",\"Ruski\",\"Iztok\",\"The bridge\",\"Ruski\",\"Shirok centre\",\"Ustrem\",\"Super centre\",\"Super centre\",\"Super centre\",\"Ustrem\",\"Stavropol\",\"Stavropol\",\"Shirok centre\",\"Shirok centre\",\"Shirok centre\",\"Super centre\",\"Shirok centre\",\"Zapad\",\"Shirok centre\",\"Shirok centre\",\"Shirok centre\",\"Shirok centre\",\"Ruski\",\"Ruski\",\"Ruski\",\"Shirok centre\",\"Shirok centre\",\"Super centre\",\"Shirok centre\",\"Shirok centre\",\"Super centre\",\"Bolnica\",\"Super centre\",\"Shirok centre\",\"Bolnica\",\"Shirok centre\",\"Mladost\",\"Shirok centre\",\"Ustrem\",\"The bridge\",\"Shirok centre\",\"Mladost\",\"Super centre\",\"Shirok centre\",\"Shirok centre\",\"Mladost\",\"Ruski\",\"Shirok centre\",\"Ustrem\",\"Super centre\",\"The bridge\",\"Shirok centre\",\"Super centre\",\"Shirok centre\",\"Shirok centre\",\"Shirok centre\",\"Ustrem\",\"Shirok centre\",\"Shirok centre\",\"Ruski\",\"Super centre\",\"Super centre\",\"Shirok centre\",\"The bridge\",\"Ruski\",\"Ruski\",\"Ruski\",\"Super centre\",\"Shirok centre\",\"Super centre\",\"Shirok centre\",\"Ruski\",\"Super centre\",\"Super centre\",\"Iztok\",\"Shirok centre\",\"Shirok centre\",\"Super centre\",\"Shirok centre\",\"Shirok centre\",\"Bolnica\",\"Ruski\",\"Ruski\",\"Zapad\",\"Shirok centre\",\"Shirok centre\",\"Yabalkite\",\"Shirok centre\",\"Ruski\",\"Ruski\",\"Shirok centre\",\"Yabalkite\",\"Ustrem\",\"Ruski\",\"Shirok centre\",\"Ruski\",\"Shirok centre\",\"Ruski\",\"Bolnica\",\"Super centre\",\"Super centre\",\"Shirok centre\",\"Shirok centre\",\"Ruski\",\"Stavropol\",\"Mladost\",\"Super centre\",\"Mladost\",\"Super centre\",\"Super centre\",\"Shirok centre\",\"Stavropol\",\"Super centre\",\"Ruski\",\"Bolnica\",\"Super centre\",\"Zapad\",\"Mladost\",\"Super centre\",\"Shirok centre\",\"Ruski\",\"Super centre\",\"Super centre\",\"Shirok centre\",\"Shirok centre\",\"Super centre\",\"Super centre\",\"Iztok\",\"Zapad\",\"Shirok centre\",\"Shirok centre\",\"Shirok centre\",\"Shirok centre\",\"Stavropol\",\"Shirok centre\",\"Super centre\",\"Ruski\",\"Super centre\",\"Shirok centre\",\"Industrial area\",\"Industrial area\",\"Industrial area\",\"Shirok centre\",\"Stavropol\",\"Industrial area\",\"Stavropol\",\"Shirok centre\",\"Mladost\",\"Ustrem\",\"Shirok centre\",\"Shirok centre\",\"Super centre\",\"Ruski\",\"Shirok centre\",\"Industrial area\",\"Iztok\",\"Super centre\",\"Super centre\",\"Shirok centre\"],\"x0\":\" \",\"xaxis\":\"x\",\"y\":[26020,35714,61224,68000,72000,72800,81633,85000,99500,28061,39000,41837,45000,46000,45918,50000,50000,52000,53000,53000,56000,60204,61224,65000,65000,65377,66327,71400,73000,74000,74000,75000,77295,79373,81000,90000,96000,99000,24490,25000,27000,31633,32653,32653,33061,33163,35000,35000,35714,35714,35714,36000,36480,36735,38000,38000,38265,38265,38265,38265,38265,38265,38265,38265,38999,39600,39796,39995,40561,40816,40816,40816,41837,42000,42000,42000,42347,43000,43000,43460,43367,43367,43367,43367,44000,44000,44670,44898,44898,44898,45000,45000,45000,45000,45000,45000,45000,45000,45000,45700,45750,46000,45918,45918,45918,45918,46112,46596,46600,46974,47000,47449,48000,48000,48469,48469,48469,48469,49439,50000,50000,50000,50000,50000,50000,50000,50000,50357,51020,51020,52000,52000,52000,52500,52600,52640,52700,53000,53000,53280,53300,53630,53686,54000,54082,54592,54592,55000,55000,55000,55000,55000,55000,55250,55300,56000,56000,56000,56000,56071,56122,56122,56500,56750,57000,57000,57000,57000,57143,57630,58000,57908,59500,60000,60000,60000,60000,61300,61224,61224,61224,61224,61400,62000,62000,62000,62000,62245,63000,63000,63000,63400,63776,63776,63776,64700,65000,65000,65000,65000,65000,65442,66000,66000,66276,66327,66327,66327,66500,66500,66938,67000,67000,67000,68000,68000,69382,69387,70000,70000,70000,70000,70000,70000,70051,70918,71400,71378,71429,71686,71900,72449,73312,73500,73800,74000,74000,73980,73980,73980,74500,75000,75000,75000,75000,75000,75000,75000,75000,75000,76400,76400,76480,76531,77000,77357,77551,80000,80000,80000,80000,80000,80000,80000,80000,80000,86490,81000,82000,82000,82000,82000,83000,83000,83690,83690,83954,85000,85000,85000,85000,85000,85000,85050,86735,86735,86735,86735,87300,88200,88800,88800,88800,88776,90000,90000,90000,90560,91837,92950,93000,93000,93600,93622,95000,96000,96684,99000,100000,100000,100000,100000,100000,100000,100000,100000,100000,101020,105300,110000,110000,110000,110000,112000,112000,115000,115000,115000,115000,115000,115000,115000,119000,123000,127551,130000,130000,130000,130000,143000,145000,150000,150000,155612,156000],\"y0\":\" \",\"yaxis\":\"y\",\"type\":\"box\"}],                        {\"template\":{\"data\":{\"histogram2dcontour\":[{\"type\":\"histogram2dcontour\",\"colorbar\":{\"outlinewidth\":0,\"ticks\":\"\"},\"colorscale\":[[0.0,\"#0d0887\"],[0.1111111111111111,\"#46039f\"],[0.2222222222222222,\"#7201a8\"],[0.3333333333333333,\"#9c179e\"],[0.4444444444444444,\"#bd3786\"],[0.5555555555555556,\"#d8576b\"],[0.6666666666666666,\"#ed7953\"],[0.7777777777777778,\"#fb9f3a\"],[0.8888888888888888,\"#fdca26\"],[1.0,\"#f0f921\"]]}],\"choropleth\":[{\"type\":\"choropleth\",\"colorbar\":{\"outlinewidth\":0,\"ticks\":\"\"}}],\"histogram2d\":[{\"type\":\"histogram2d\",\"colorbar\":{\"outlinewidth\":0,\"ticks\":\"\"},\"colorscale\":[[0.0,\"#0d0887\"],[0.1111111111111111,\"#46039f\"],[0.2222222222222222,\"#7201a8\"],[0.3333333333333333,\"#9c179e\"],[0.4444444444444444,\"#bd3786\"],[0.5555555555555556,\"#d8576b\"],[0.6666666666666666,\"#ed7953\"],[0.7777777777777778,\"#fb9f3a\"],[0.8888888888888888,\"#fdca26\"],[1.0,\"#f0f921\"]]}],\"heatmap\":[{\"type\":\"heatmap\",\"colorbar\":{\"outlinewidth\":0,\"ticks\":\"\"},\"colorscale\":[[0.0,\"#0d0887\"],[0.1111111111111111,\"#46039f\"],[0.2222222222222222,\"#7201a8\"],[0.3333333333333333,\"#9c179e\"],[0.4444444444444444,\"#bd3786\"],[0.5555555555555556,\"#d8576b\"],[0.6666666666666666,\"#ed7953\"],[0.7777777777777778,\"#fb9f3a\"],[0.8888888888888888,\"#fdca26\"],[1.0,\"#f0f921\"]]}],\"heatmapgl\":[{\"type\":\"heatmapgl\",\"colorbar\":{\"outlinewidth\":0,\"ticks\":\"\"},\"colorscale\":[[0.0,\"#0d0887\"],[0.1111111111111111,\"#46039f\"],[0.2222222222222222,\"#7201a8\"],[0.3333333333333333,\"#9c179e\"],[0.4444444444444444,\"#bd3786\"],[0.5555555555555556,\"#d8576b\"],[0.6666666666666666,\"#ed7953\"],[0.7777777777777778,\"#fb9f3a\"],[0.8888888888888888,\"#fdca26\"],[1.0,\"#f0f921\"]]}],\"contourcarpet\":[{\"type\":\"contourcarpet\",\"colorbar\":{\"outlinewidth\":0,\"ticks\":\"\"}}],\"contour\":[{\"type\":\"contour\",\"colorbar\":{\"outlinewidth\":0,\"ticks\":\"\"},\"colorscale\":[[0.0,\"#0d0887\"],[0.1111111111111111,\"#46039f\"],[0.2222222222222222,\"#7201a8\"],[0.3333333333333333,\"#9c179e\"],[0.4444444444444444,\"#bd3786\"],[0.5555555555555556,\"#d8576b\"],[0.6666666666666666,\"#ed7953\"],[0.7777777777777778,\"#fb9f3a\"],[0.8888888888888888,\"#fdca26\"],[1.0,\"#f0f921\"]]}],\"surface\":[{\"type\":\"surface\",\"colorbar\":{\"outlinewidth\":0,\"ticks\":\"\"},\"colorscale\":[[0.0,\"#0d0887\"],[0.1111111111111111,\"#46039f\"],[0.2222222222222222,\"#7201a8\"],[0.3333333333333333,\"#9c179e\"],[0.4444444444444444,\"#bd3786\"],[0.5555555555555556,\"#d8576b\"],[0.6666666666666666,\"#ed7953\"],[0.7777777777777778,\"#fb9f3a\"],[0.8888888888888888,\"#fdca26\"],[1.0,\"#f0f921\"]]}],\"mesh3d\":[{\"type\":\"mesh3d\",\"colorbar\":{\"outlinewidth\":0,\"ticks\":\"\"}}],\"scatter\":[{\"fillpattern\":{\"fillmode\":\"overlay\",\"size\":10,\"solidity\":0.2},\"type\":\"scatter\"}],\"parcoords\":[{\"type\":\"parcoords\",\"line\":{\"colorbar\":{\"outlinewidth\":0,\"ticks\":\"\"}}}],\"scatterpolargl\":[{\"type\":\"scatterpolargl\",\"marker\":{\"colorbar\":{\"outlinewidth\":0,\"ticks\":\"\"}}}],\"bar\":[{\"error_x\":{\"color\":\"#2a3f5f\"},\"error_y\":{\"color\":\"#2a3f5f\"},\"marker\":{\"line\":{\"color\":\"#E5ECF6\",\"width\":0.5},\"pattern\":{\"fillmode\":\"overlay\",\"size\":10,\"solidity\":0.2}},\"type\":\"bar\"}],\"scattergeo\":[{\"type\":\"scattergeo\",\"marker\":{\"colorbar\":{\"outlinewidth\":0,\"ticks\":\"\"}}}],\"scatterpolar\":[{\"type\":\"scatterpolar\",\"marker\":{\"colorbar\":{\"outlinewidth\":0,\"ticks\":\"\"}}}],\"histogram\":[{\"marker\":{\"pattern\":{\"fillmode\":\"overlay\",\"size\":10,\"solidity\":0.2}},\"type\":\"histogram\"}],\"scattergl\":[{\"type\":\"scattergl\",\"marker\":{\"colorbar\":{\"outlinewidth\":0,\"ticks\":\"\"}}}],\"scatter3d\":[{\"type\":\"scatter3d\",\"line\":{\"colorbar\":{\"outlinewidth\":0,\"ticks\":\"\"}},\"marker\":{\"colorbar\":{\"outlinewidth\":0,\"ticks\":\"\"}}}],\"scattermapbox\":[{\"type\":\"scattermapbox\",\"marker\":{\"colorbar\":{\"outlinewidth\":0,\"ticks\":\"\"}}}],\"scatterternary\":[{\"type\":\"scatterternary\",\"marker\":{\"colorbar\":{\"outlinewidth\":0,\"ticks\":\"\"}}}],\"scattercarpet\":[{\"type\":\"scattercarpet\",\"marker\":{\"colorbar\":{\"outlinewidth\":0,\"ticks\":\"\"}}}],\"carpet\":[{\"aaxis\":{\"endlinecolor\":\"#2a3f5f\",\"gridcolor\":\"white\",\"linecolor\":\"white\",\"minorgridcolor\":\"white\",\"startlinecolor\":\"#2a3f5f\"},\"baxis\":{\"endlinecolor\":\"#2a3f5f\",\"gridcolor\":\"white\",\"linecolor\":\"white\",\"minorgridcolor\":\"white\",\"startlinecolor\":\"#2a3f5f\"},\"type\":\"carpet\"}],\"table\":[{\"cells\":{\"fill\":{\"color\":\"#EBF0F8\"},\"line\":{\"color\":\"white\"}},\"header\":{\"fill\":{\"color\":\"#C8D4E3\"},\"line\":{\"color\":\"white\"}},\"type\":\"table\"}],\"barpolar\":[{\"marker\":{\"line\":{\"color\":\"#E5ECF6\",\"width\":0.5},\"pattern\":{\"fillmode\":\"overlay\",\"size\":10,\"solidity\":0.2}},\"type\":\"barpolar\"}],\"pie\":[{\"automargin\":true,\"type\":\"pie\"}]},\"layout\":{\"autotypenumbers\":\"strict\",\"colorway\":[\"#636efa\",\"#EF553B\",\"#00cc96\",\"#ab63fa\",\"#FFA15A\",\"#19d3f3\",\"#FF6692\",\"#B6E880\",\"#FF97FF\",\"#FECB52\"],\"font\":{\"color\":\"#2a3f5f\"},\"hovermode\":\"closest\",\"hoverlabel\":{\"align\":\"left\"},\"paper_bgcolor\":\"white\",\"plot_bgcolor\":\"#E5ECF6\",\"polar\":{\"bgcolor\":\"#E5ECF6\",\"angularaxis\":{\"gridcolor\":\"white\",\"linecolor\":\"white\",\"ticks\":\"\"},\"radialaxis\":{\"gridcolor\":\"white\",\"linecolor\":\"white\",\"ticks\":\"\"}},\"ternary\":{\"bgcolor\":\"#E5ECF6\",\"aaxis\":{\"gridcolor\":\"white\",\"linecolor\":\"white\",\"ticks\":\"\"},\"baxis\":{\"gridcolor\":\"white\",\"linecolor\":\"white\",\"ticks\":\"\"},\"caxis\":{\"gridcolor\":\"white\",\"linecolor\":\"white\",\"ticks\":\"\"}},\"coloraxis\":{\"colorbar\":{\"outlinewidth\":0,\"ticks\":\"\"}},\"colorscale\":{\"sequential\":[[0.0,\"#0d0887\"],[0.1111111111111111,\"#46039f\"],[0.2222222222222222,\"#7201a8\"],[0.3333333333333333,\"#9c179e\"],[0.4444444444444444,\"#bd3786\"],[0.5555555555555556,\"#d8576b\"],[0.6666666666666666,\"#ed7953\"],[0.7777777777777778,\"#fb9f3a\"],[0.8888888888888888,\"#fdca26\"],[1.0,\"#f0f921\"]],\"sequentialminus\":[[0.0,\"#0d0887\"],[0.1111111111111111,\"#46039f\"],[0.2222222222222222,\"#7201a8\"],[0.3333333333333333,\"#9c179e\"],[0.4444444444444444,\"#bd3786\"],[0.5555555555555556,\"#d8576b\"],[0.6666666666666666,\"#ed7953\"],[0.7777777777777778,\"#fb9f3a\"],[0.8888888888888888,\"#fdca26\"],[1.0,\"#f0f921\"]],\"diverging\":[[0,\"#8e0152\"],[0.1,\"#c51b7d\"],[0.2,\"#de77ae\"],[0.3,\"#f1b6da\"],[0.4,\"#fde0ef\"],[0.5,\"#f7f7f7\"],[0.6,\"#e6f5d0\"],[0.7,\"#b8e186\"],[0.8,\"#7fbc41\"],[0.9,\"#4d9221\"],[1,\"#276419\"]]},\"xaxis\":{\"gridcolor\":\"white\",\"linecolor\":\"white\",\"ticks\":\"\",\"title\":{\"standoff\":15},\"zerolinecolor\":\"white\",\"automargin\":true,\"zerolinewidth\":2},\"yaxis\":{\"gridcolor\":\"white\",\"linecolor\":\"white\",\"ticks\":\"\",\"title\":{\"standoff\":15},\"zerolinecolor\":\"white\",\"automargin\":true,\"zerolinewidth\":2},\"scene\":{\"xaxis\":{\"backgroundcolor\":\"#E5ECF6\",\"gridcolor\":\"white\",\"linecolor\":\"white\",\"showbackground\":true,\"ticks\":\"\",\"zerolinecolor\":\"white\",\"gridwidth\":2},\"yaxis\":{\"backgroundcolor\":\"#E5ECF6\",\"gridcolor\":\"white\",\"linecolor\":\"white\",\"showbackground\":true,\"ticks\":\"\",\"zerolinecolor\":\"white\",\"gridwidth\":2},\"zaxis\":{\"backgroundcolor\":\"#E5ECF6\",\"gridcolor\":\"white\",\"linecolor\":\"white\",\"showbackground\":true,\"ticks\":\"\",\"zerolinecolor\":\"white\",\"gridwidth\":2}},\"shapedefaults\":{\"line\":{\"color\":\"#2a3f5f\"}},\"annotationdefaults\":{\"arrowcolor\":\"#2a3f5f\",\"arrowhead\":0,\"arrowwidth\":1},\"geo\":{\"bgcolor\":\"white\",\"landcolor\":\"#E5ECF6\",\"subunitcolor\":\"white\",\"showland\":true,\"showlakes\":true,\"lakecolor\":\"white\"},\"title\":{\"x\":0.05},\"mapbox\":{\"style\":\"light\"}}},\"xaxis\":{\"anchor\":\"y\",\"domain\":[0.0,1.0],\"title\":{\"text\":\"Location\"}},\"yaxis\":{\"anchor\":\"x\",\"domain\":[0.0,1.0],\"title\":{\"text\":\"Price\"}},\"legend\":{\"tracegroupgap\":0},\"margin\":{\"t\":60},\"boxmode\":\"group\"},                        {\"responsive\": true}                    ).then(function(){\n",
       "                            \n",
       "var gd = document.getElementById('34d2f995-5743-421c-a81c-de1f5ad36ba7');\n",
       "var x = new MutationObserver(function (mutations, observer) {{\n",
       "        var display = window.getComputedStyle(gd).display;\n",
       "        if (!display || display === 'none') {{\n",
       "            console.log([gd, 'removed!']);\n",
       "            Plotly.purge(gd);\n",
       "            observer.disconnect();\n",
       "        }}\n",
       "}});\n",
       "\n",
       "// Listen for the removal of the full notebook cells\n",
       "var notebookContainer = gd.closest('#notebook-container');\n",
       "if (notebookContainer) {{\n",
       "    x.observe(notebookContainer, {childList: true});\n",
       "}}\n",
       "\n",
       "// Listen for the clearing of the current output cell\n",
       "var outputEl = gd.closest('.output');\n",
       "if (outputEl) {{\n",
       "    x.observe(outputEl, {childList: true});\n",
       "}}\n",
       "\n",
       "                        })                };                });            </script>        </div>"
      ]
     },
     "metadata": {},
     "output_type": "display_data"
    }
   ],
   "source": [
    "import plotly.express as px\n",
    "fig = px.box(df_estate_collection_all, x=\"Location\", y=\"Price\", points=\"all\")\n",
    "fig.show()"
   ]
  },
  {
   "cell_type": "code",
   "execution_count": 67,
   "id": "b8dda688-5e3d-4f87-83de-eb88f8dba156",
   "metadata": {},
   "outputs": [
    {
     "data": {
      "image/png": "[encoded data removed]",
      "text/plain": [
       "<Figure size 864x576 with 4 Axes>"
      ]
     },
     "metadata": {
      "needs_background": "light"
     },
     "output_type": "display_data"
    }
   ],
   "source": [
    "# Get unique estate types\n",
    "estate_types = df_estate_collection_all['Estate_Type'].unique()\n",
    "\n",
    "# Determine the number of subplots based on the number of unique estate types\n",
    "num_subplots = len(estate_types)\n",
    "\n",
    "# Create subplots based on the number of unique estate types\n",
    "fig, axs = plt.subplots(2, 2, figsize=(12, 8))\n",
    "\n",
    "# Iterate over unique estate types and plot on each axis\n",
    "for i, estate_type in enumerate(estate_types):\n",
    "    row = i // 2  # Calculate the row index based on the subplot position\n",
    "    col = i % 2   # Calculate the column index based on the subplot position\n",
    "    \n",
    "    # Filter the dataframe based on the current estate type\n",
    "    df_filtered = df_estate_collection_all[df_estate_collection_all['Estate_Type'] == estate_type]\n",
    "    \n",
    "    # Plot the boxplot on the corresponding axis\n",
    "    axs[row, col].set_title(estate_type)\n",
    "    sns.boxplot(x='Location', y='Price', data=df_filtered, ax=axs[row, col])\n",
    "    \n",
    "    # Rotate the x-axis labels\n",
    "    axs[row, col].set_xticklabels(axs[row, col].get_xticklabels(), rotation=90)\n",
    "\n",
    "\n",
    "fig.tight_layout()\n",
    "\n",
    "# Display the plots\n",
    "plt.show()"
   ]
  },
  {
   "cell_type": "code",
   "execution_count": 83,
   "id": "619425e7-a34e-45d7-9da8-1e64aab206d7",
   "metadata": {},
   "outputs": [
    {
     "data": {
      "image/png": "[encoded data removed]",
      "text/plain": [
       "<Figure size 1296x360 with 4 Axes>"
      ]
     },
     "metadata": {
      "needs_background": "light"
     },
     "output_type": "display_data"
    }
   ],
   "source": [
    "# Define the order of locations for x-axis in catplot\n",
    "location_order = df_estate_collection_all['Location'].unique()\n",
    "\n",
    "# Create the catplot\n",
    "g = sns.catplot(x=\"Location\", y=\"Price\",\n",
    "                col=\"Estate_Type\",\n",
    "                data=df_estate_collection_all,\n",
    "                kind=\"box\",\n",
    "                height=5, aspect=.9)\n",
    "\n",
    "# Iterate over each subplot\n",
    "for ax, estate_type in zip(g.axes.flat, df_estate_collection_all['Estate_Type'].unique()):\n",
    "    # Filter the dataframe for the current estate_type\n",
    "    data_subset = df_estate_collection_all[df_estate_collection_all['Estate_Type'] == estate_type]\n",
    "    \n",
    "    # Add swarmplot circles to the subplot\n",
    "    sns.swarmplot(x='Location', y='Price', data=data_subset,\n",
    "                  color=\"white\", edgecolor=\"black\", linewidth=1, size=5, ax=ax, order=location_order)\n",
    "\n",
    "    # Rotate the x-axis labels\n",
    "    ax.set_xticklabels(ax.get_xticklabels(), rotation=90)\n",
    "\n",
    "# Display the plot\n",
    "plt.show()"
   ]
  },
  {
   "cell_type": "code",
   "execution_count": null,
   "id": "8a12855c-f8fe-4342-8095-b6c966ea4056",
   "metadata": {},
   "outputs": [],
   "source": []
  }
 ],
 "metadata": {
  "kernelspec": {
   "display_name": "Python 3 (ipykernel)",
   "language": "python",
   "name": "python3"
  },
  "language_info": {
   "codemirror_mode": {
    "name": "ipython",
    "version": 3
   },
   "file_extension": ".py",
   "mimetype": "text/x-python",
   "name": "python",
   "nbconvert_exporter": "python",
   "pygments_lexer": "ipython3",
   "version": "3.8.12"
  }
 },
 "nbformat": 4,
 "nbformat_minor": 5
}
